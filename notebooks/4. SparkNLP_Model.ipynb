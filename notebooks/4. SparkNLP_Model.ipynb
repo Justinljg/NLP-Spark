{
 "cells": [
  {
   "attachments": {},
   "cell_type": "markdown",
   "metadata": {},
   "source": [
    "# 4. Modelling\n",
    "\n",
    "![picture](img/picture10.png)\n",
    "\n",
    "The training notebook will cover the following:\n",
    "#### Content\n",
    "* Creation of pipeline\n",
    "* Training and saving\n",
    "* Varying training parameters\n"
   ]
  },
  {
   "cell_type": "code",
   "execution_count": 1,
   "metadata": {
    "tags": []
   },
   "outputs": [],
   "source": [
    "%_do_not_call_change_endpoint --username  --password  --server https://lighter-staging.vbrani.aisingapore.net/lighter/api  "
   ]
  },
  {
   "cell_type": "code",
   "execution_count": null,
   "metadata": {
    "tags": []
   },
   "outputs": [],
   "source": [
    "%%configure -f\n",
    "{\"conf\": {\n",
    "        \"spark.sql.warehouse.dir\" : \"s3a://dataops-example/justin\",\n",
    "        \"spark.hadoop.fs.s3a.access.key\":\"\",\n",
    "        \"spark.hadoop.fs.s3a.secret.key\": \"\",\n",
    "        \"spark.serializer\": \"org.apache.spark.serializer.KryoSerializer\", \n",
    "        \"spark.kryoserializer.buffer.max\": \"2000M\",\n",
    "        \"spark.driver.maxResultSize\": \"0\",\n",
    "        \"spark.kubernetes.container.image\": \"justinljg/dep:1.08\",\n",
    "        \"spark.kubernetes.container.image.pullPolicy\" : \"Always\",\n",
    "        \"spark.jsl.settings.pretrained.cache_folder\": \"/opt/spark/work-dir\",\n",
    "        \"spark.kubernetes.driver.volumes.persistentVolumeClaim.lighter-sparknlptest-pvc.options.claimName\": \"lighter-sparknlptest-pvc\",\n",
    "        \"spark.kubernetes.driver.volumes.persistentVolumeClaim.lighter-sparknlptest-pvc.mount.path\": \"/opt/spark/work-dir\",\n",
    "        \"spark.kubernetes.executor.volumes.persistentVolumeClaim.lighter-sparknlptest-pvc.options.claimName\": \"lighter-sparknlptest-pvc\",\n",
    "        \"spark.kubernetes.executor.volumes.persistentVolumeClaim.lighter-sparknlptest-pvc.mount.path\": \"/opt/spark/work-dir\",\n",
    "        \"spark.jsl.settings.annotator.log_folder\": \"/opt/spark/work-dir/logs\",\n",
    "        \"spark.dynamicAllocation.enabled\": \"true\",\n",
    "        \"spark.dynamicAllocation.shuffleTracking.enabled\": \"true\",\n",
    "        \"spark.dynamicAllocation.minExecutors\": \"2\",\n",
    "        \"spark.dynamicAllocation.maxExecutors\": \"10\"\n",
    "    },\n",
    " \"executorMemory\": \"3G\",\n",
    " \"executorCores\": 1,\n",
    " \"driverMemory\": \"16G\",\n",
    " \"driverCores\": 1\n",
    "}"
   ]
  },
  {
   "cell_type": "code",
   "execution_count": 3,
   "metadata": {
    "tags": []
   },
   "outputs": [
    {
     "name": "stdout",
     "output_type": "stream",
     "text": [
      "Starting Spark application\n"
     ]
    },
    {
     "data": {
      "text/html": [
       "<table>\n",
       "<tr><th>ID</th><th>YARN Application ID</th><th>Kind</th><th>State</th><th>Spark UI</th><th>Driver log</th><th>User</th><th>Current session?</th></tr><tr><td>0766a0c6-369d-44b9-8b57-ef0fd56690e5</td><td>spark-7991fa742e704511aece66d564b1f2f8</td><td>pyspark</td><td>idle</td><td></td><td></td><td>None</td><td>✔</td></tr></table>"
      ],
      "text/plain": [
       "<IPython.core.display.HTML object>"
      ]
     },
     "metadata": {},
     "output_type": "display_data"
    },
    {
     "data": {
      "application/vnd.jupyter.widget-view+json": {
       "model_id": "",
       "version_major": 2,
       "version_minor": 0
      },
      "text/plain": [
       "FloatProgress(value=0.0, bar_style='info', description='Progress:', layout=Layout(height='25px', width='50%'),…"
      ]
     },
     "metadata": {},
     "output_type": "display_data"
    },
    {
     "name": "stdout",
     "output_type": "stream",
     "text": [
      "SparkSession available as 'spark'.\n"
     ]
    },
    {
     "data": {
      "application/vnd.jupyter.widget-view+json": {
       "model_id": "",
       "version_major": 2,
       "version_minor": 0
      },
      "text/plain": [
       "FloatProgress(value=0.0, bar_style='info', description='Progress:', layout=Layout(height='25px', width='50%'),…"
      ]
     },
     "metadata": {},
     "output_type": "display_data"
    }
   ],
   "source": [
    "from pyspark.ml import Pipeline\n",
    "from pyspark.sql.functions import *\n",
    "from pyspark.sql.types import *\n",
    "from pyspark.ml.classification import *\n",
    "from pyspark.ml.evaluation import MulticlassClassificationEvaluator\n",
    "\n",
    "import time\n",
    "\n",
    "import tensorflow as tf\n",
    "\n",
    "import sparknlp\n",
    "from sparknlp import DocumentAssembler\n",
    "from sparknlp.annotator import *"
   ]
  },
  {
   "cell_type": "markdown",
   "metadata": {},
   "source": [
    "In this example a native model is called to train on the dataset."
   ]
  },
  {
   "cell_type": "code",
   "execution_count": 4,
   "metadata": {
    "tags": []
   },
   "outputs": [
    {
     "data": {
      "application/vnd.jupyter.widget-view+json": {
       "model_id": "",
       "version_major": 2,
       "version_minor": 0
      },
      "text/plain": [
       "FloatProgress(value=0.0, bar_style='info', description='Progress:', layout=Layout(height='25px', width='50%'),…"
      ]
     },
     "metadata": {},
     "output_type": "display_data"
    },
    {
     "data": {
      "application/vnd.jupyter.widget-view+json": {
       "model_id": "1d4b0d60b25c46b49587a889bf44c862",
       "version_major": 2,
       "version_minor": 0
      },
      "text/plain": [
       "VBox(children=(HBox(), EncodingWidget(children=(VBox(children=(HTML(value='Encoding:'), Dropdown(description='…"
      ]
     },
     "metadata": {},
     "output_type": "display_data"
    },
    {
     "data": {
      "application/vnd.jupyter.widget-view+json": {
       "model_id": "b4afafb22c714227bad9671aadbc8e65",
       "version_major": 2,
       "version_minor": 0
      },
      "text/plain": [
       "Output()"
      ]
     },
     "metadata": {},
     "output_type": "display_data"
    }
   ],
   "source": [
    "%%sql\n",
    "\n",
    "USE SparkNLP"
   ]
  },
  {
   "cell_type": "code",
   "execution_count": 5,
   "metadata": {
    "tags": []
   },
   "outputs": [
    {
     "data": {
      "application/vnd.jupyter.widget-view+json": {
       "model_id": "",
       "version_major": 2,
       "version_minor": 0
      },
      "text/plain": [
       "FloatProgress(value=0.0, bar_style='info', description='Progress:', layout=Layout(height='25px', width='50%'),…"
      ]
     },
     "metadata": {},
     "output_type": "display_data"
    }
   ],
   "source": [
    "df= spark.read.table(\"greview_model\")\n"
   ]
  },
  {
   "cell_type": "code",
   "execution_count": 6,
   "metadata": {
    "tags": []
   },
   "outputs": [
    {
     "data": {
      "application/vnd.jupyter.widget-view+json": {
       "model_id": "",
       "version_major": 2,
       "version_minor": 0
      },
      "text/plain": [
       "FloatProgress(value=0.0, bar_style='info', description='Progress:', layout=Layout(height='25px', width='50%'),…"
      ]
     },
     "metadata": {},
     "output_type": "display_data"
    },
    {
     "name": "stdout",
     "output_type": "stream",
     "text": [
      "Train set size: 348906 rows\n",
      "Test set size: 87274 rows"
     ]
    }
   ],
   "source": [
    "train_data, test_data = df.select(\"text\", \"label\").orderBy(rand()).randomSplit([0.8, 0.2], seed=42)\n",
    "\n",
    "# Check the number of rows in each set\n",
    "print(f\"Train set size: {train_data.count()} rows\")\n",
    "print(f\"Test set size: {test_data.count()} rows\")"
   ]
  },
  {
   "attachments": {},
   "cell_type": "markdown",
   "metadata": {},
   "source": [
    "## Creation of pipeline\n",
    "\n",
    "#### Model used\n",
    "<b>sent_small_bert_L8_512</b>\n",
    "\n",
    "This is a smaller compact model that uses knowledge distillation to form a smaller, more compact model. \n",
    "\n",
    "The \"sent\" in its name indicates that the model is optimized for sentence-level tasks, as opposed to other language models that may be optimized for word-level or document-level tasks.\n",
    "\n",
    "\"L8\" refers to the number of transformer layers in the model. The model has eight layers, which is fewer than some other transformer-based language models. However, this is balanced by the fact that each layer has a relatively large number of attention heads, which allows the model to capture more complex relationships between words and sentences.\n",
    "\n",
    "Finally, \"512\" refers to the size of the hidden layer in the model. This is the size of the vector representation that the model produces for each word or sentence. A larger hidden layer size generally allows the model to capture more fine-grained details in the input data, but also increases the computational requirements for training and inference.\n",
    "\n",
    "<br>\n",
    "\n",
    "#### Defining the Pipeline"
   ]
  },
  {
   "cell_type": "code",
   "execution_count": 7,
   "metadata": {
    "tags": []
   },
   "outputs": [
    {
     "data": {
      "application/vnd.jupyter.widget-view+json": {
       "model_id": "",
       "version_major": 2,
       "version_minor": 0
      },
      "text/plain": [
       "FloatProgress(value=0.0, bar_style='info', description='Progress:', layout=Layout(height='25px', width='50%'),…"
      ]
     },
     "metadata": {},
     "output_type": "display_data"
    },
    {
     "name": "stdout",
     "output_type": "stream",
     "text": [
      "sent_small_bert_L8_512 download started this may take some time.\n",
      "Approximate size to download 149.1 MB\n",
      "[OK!]"
     ]
    }
   ],
   "source": [
    "documentAssembler = DocumentAssembler() \\\n",
    "    .setInputCol(\"text\") \\\n",
    "    .setOutputCol(\"document\")\n",
    "\n",
    "bert = BertSentenceEmbeddings.pretrained('sent_small_bert_L8_512')\\\n",
    "    .setInputCols([\"document\"]) \\\n",
    "    .setOutputCol(\"sentence_embeddings\")\n",
    "\n",
    "classifierdl = ClassifierDLApproach()\\\n",
    "  .setInputCols([\"sentence_embeddings\"])\\\n",
    "  .setOutputCol(\"class\")\\\n",
    "  .setLabelColumn(\"label\")\\\n",
    "  .setMaxEpochs(15)\\\n",
    "  .setEnableOutputLogs(True)\n",
    "\n",
    "pipeline = Pipeline().setStages([\n",
    "    documentAssembler,\n",
    "    bert,\n",
    "    classifierdl\n",
    "])\n",
    "\n"
   ]
  },
  {
   "cell_type": "code",
   "execution_count": 8,
   "metadata": {
    "tags": []
   },
   "outputs": [
    {
     "data": {
      "application/vnd.jupyter.widget-view+json": {
       "model_id": "",
       "version_major": 2,
       "version_minor": 0
      },
      "text/plain": [
       "FloatProgress(value=0.0, bar_style='info', description='Progress:', layout=Layout(height='25px', width='50%'),…"
      ]
     },
     "metadata": {},
     "output_type": "display_data"
    }
   ],
   "source": [
    "train_data= train_data.limit(16000)\n",
    "test_data= test_data.limit(4000)"
   ]
  },
  {
   "attachments": {},
   "cell_type": "markdown",
   "metadata": {},
   "source": [
    "## Training and saving\n",
    "\n",
    "This portion shows the training, evaluation and saving the SparkNLP model."
   ]
  },
  {
   "cell_type": "code",
   "execution_count": 9,
   "metadata": {
    "tags": []
   },
   "outputs": [
    {
     "data": {
      "application/vnd.jupyter.widget-view+json": {
       "model_id": "",
       "version_major": 2,
       "version_minor": 0
      },
      "text/plain": [
       "FloatProgress(value=0.0, bar_style='info', description='Progress:', layout=Layout(height='25px', width='50%'),…"
      ]
     },
     "metadata": {},
     "output_type": "display_data"
    },
    {
     "name": "stdout",
     "output_type": "stream",
     "text": [
      "Training time: 7.99min"
     ]
    }
   ],
   "source": [
    "t0 = time.time()\n",
    "model = pipeline.fit(train_data)\n",
    "print(f\"Training time: {(time.time() - t0)/60:.2f}min\")"
   ]
  },
  {
   "cell_type": "code",
   "execution_count": 10,
   "metadata": {
    "tags": []
   },
   "outputs": [
    {
     "data": {
      "application/vnd.jupyter.widget-view+json": {
       "model_id": "",
       "version_major": 2,
       "version_minor": 0
      },
      "text/plain": [
       "FloatProgress(value=0.0, bar_style='info', description='Progress:', layout=Layout(height='25px', width='50%'),…"
      ]
     },
     "metadata": {},
     "output_type": "display_data"
    }
   ],
   "source": [
    "train_pred = model.transform(test_data)"
   ]
  },
  {
   "cell_type": "code",
   "execution_count": 11,
   "metadata": {
    "tags": []
   },
   "outputs": [
    {
     "data": {
      "application/vnd.jupyter.widget-view+json": {
       "model_id": "",
       "version_major": 2,
       "version_minor": 0
      },
      "text/plain": [
       "FloatProgress(value=0.0, bar_style='info', description='Progress:', layout=Layout(height='25px', width='50%'),…"
      ]
     },
     "metadata": {},
     "output_type": "display_data"
    },
    {
     "name": "stdout",
     "output_type": "stream",
     "text": [
      "+-----+------+\n",
      "|label|result|\n",
      "+-----+------+\n",
      "|5    |[5]   |\n",
      "|1    |[5]   |\n",
      "|5    |[5]   |\n",
      "|5    |[5]   |\n",
      "|3    |[5]   |\n",
      "|1    |[5]   |\n",
      "|5    |[5]   |\n",
      "|5    |[5]   |\n",
      "|4    |[5]   |\n",
      "|1    |[5]   |\n",
      "|1    |[5]   |\n",
      "|4    |[5]   |\n",
      "|5    |[5]   |\n",
      "|5    |[5]   |\n",
      "|5    |[5]   |\n",
      "|5    |[5]   |\n",
      "|4    |[5]   |\n",
      "|2    |[5]   |\n",
      "|5    |[5]   |\n",
      "|5    |[5]   |\n",
      "+-----+------+\n",
      "only showing top 20 rows"
     ]
    }
   ],
   "source": [
    "train_pred_processed = train_pred.select(\"label\",\"class.result\")\n",
    "train_pred_processed.show(truncate=False)"
   ]
  },
  {
   "cell_type": "code",
   "execution_count": 12,
   "metadata": {
    "tags": []
   },
   "outputs": [
    {
     "data": {
      "application/vnd.jupyter.widget-view+json": {
       "model_id": "",
       "version_major": 2,
       "version_minor": 0
      },
      "text/plain": [
       "FloatProgress(value=0.0, bar_style='info', description='Progress:', layout=Layout(height='25px', width='50%'),…"
      ]
     },
     "metadata": {},
     "output_type": "display_data"
    }
   ],
   "source": [
    "# Cast the \"prediction\" column to DoubleType\n",
    "train_pred_processed = train_pred_processed.withColumn(\"result\", col(\"result\")[0].cast(\"double\"))"
   ]
  },
  {
   "cell_type": "code",
   "execution_count": null,
   "metadata": {
    "tags": []
   },
   "outputs": [
    {
     "data": {
      "application/vnd.jupyter.widget-view+json": {
       "model_id": "c1b500fb087f477aa3ec80fbf4c36ffd",
       "version_major": 2,
       "version_minor": 0
      },
      "text/plain": [
       "FloatProgress(value=0.0, bar_style='info', description='Progress:', layout=Layout(height='25px', width='50%'),…"
      ]
     },
     "metadata": {},
     "output_type": "display_data"
    }
   ],
   "source": [
    "# Create an instance of MulticlassClassificationEvaluator\n",
    "evaluator = MulticlassClassificationEvaluator(labelCol=\"label\", predictionCol=\"result\")\n",
    "\n",
    "# Calculate the evaluation metric(s)\n",
    "accuracy = evaluator.evaluate(train_pred_processed, {evaluator.metricName: \"accuracy\"})\n",
    "weightedPrecision = evaluator.evaluate(train_pred_processed, {evaluator.metricName: \"weightedPrecision\"})\n",
    "weightedRecall = evaluator.evaluate(train_pred_processed, {evaluator.metricName: \"weightedRecall\"})\n",
    "f1 = evaluator.evaluate(train_pred_processed, {evaluator.metricName: \"f1\"})"
   ]
  },
  {
   "cell_type": "code",
   "execution_count": null,
   "metadata": {
    "tags": []
   },
   "outputs": [],
   "source": [
    "# Print the evaluation metric(s)\n",
    "print(\"Accuracy:\", accuracy)\n",
    "print(\"Weighted Precision:\", weightedPrecision)\n",
    "print(\"Weighted Recall:\", weightedRecall)\n",
    "print(\"F1 Score:\", f1)"
   ]
  },
  {
   "cell_type": "code",
   "execution_count": null,
   "metadata": {
    "tags": []
   },
   "outputs": [],
   "source": [
    "model.write().overwrite().save(\"s3a://dataops-example/nlp/models/greview_bert\")"
   ]
  },
  {
   "attachments": {},
   "cell_type": "markdown",
   "metadata": {},
   "source": [
    "## Summary of the training runtime with varying configs\n",
    "\n",
    "This is the runtimes of the notebook. The distributed framework is able to run about 4 times faster than a local context. The partition config to use scales with data but has a maximum limit before it slows down. The usage of intel numpy is not faster. The configs to use depends on many factors but hopefully this will serve as a guide.\n",
    "![picture](img/picture17.png)\n",
    "\n",
    "#### Spark Data Distribution<a id=\"Spark\"></a>\n",
    "Spark Applications consist of a driver process and a set of executor processes, which are managed by the JVM to handle resources.\n",
    "\n",
    "![picture](img/picture11.png)\n",
    "\n",
    "### Architecture of the Driver and Executors\n",
    "The driver runs on the functions and sits on the node in the cluster. It maintains information about the Spark application, returns a response to the user code sent to it, and analyzes, distributes, and schedules the work across executors.\n",
    "\n",
    "The executor runs the work that the driver assigns to it, executes the code, and reports the state of the computation back to the driver.\n",
    "\n",
    "To allow every executor to perform work in parallel, Spark breaks up the data into chunks called partitions. A partition is a collection of rows that sit on one physical machine in the cluster. A DataFrame's partitions represent how the data is physically distributed across your cluster of machines during execution.\n",
    "\n",
    "![picture](img/picture12.jpeg)\n",
    "![picture](img/picture13.jpeg)\n",
    "\n",
    "### Core, Slots, and Threads\n",
    "Spark splits the work from the driver to the executors. An executor has a number of slots, which are assigned a task. A slot is commonly referred to as a CPU core in Spark and is implemented as a thread that works on a physical core's thread. They don't need to correspond to the number of physical CPU cores on the machine.\n",
    "\n",
    "By doing this, after the driver breaks down a given command into tasks and partitions, which are tailor-made to fit our particular cluster configuration (e.g., 4 nodes - 1 driver and 3 executors, 8 cores per node, 2 threads per core), we can get our massive command executed as fast as possible (given our cluster in this case, 382 threads --> 48 tasks, 48 partitions - i.e., 1 partition per task).\n",
    "\n",
    "If we assign 49 tasks and 49 partitions, the first pass would execute 48 tasks in parallel across the executor's cores (say in 10 minutes). Then that one remaining task in the next pass will execute on one core for another 10 minutes, while the rest of our 47 cores are sitting idle, meaning the whole job will take double the time at 20 minutes. This is obviously an inefficient use of our available resources and could be fixed by setting the number of tasks/partitions to a multiple of the number of cores we have (in this setup - 48, 96, etc.).\n",
    "\n",
    "\n",
    "![picture](img/picture14.jpeg)\n",
    "\n",
    "To understand further the performance of SparkNLP, please refer to this [webinar](https://www.johnsnowlabs.com/watch-webinar-speed-optimization-benchmarks-in-spark-nlp-3-making-the-most-of-modern-hardware/) by the founder of John Snow labs."
   ]
  },
  {
   "cell_type": "code",
   "execution_count": 25,
   "metadata": {
    "tags": []
   },
   "outputs": [
    {
     "data": {
      "application/vnd.jupyter.widget-view+json": {
       "model_id": "",
       "version_major": 2,
       "version_minor": 0
      },
      "text/plain": [
       "FloatProgress(value=0.0, bar_style='info', description='Progress:', layout=Layout(height='25px', width='50%'),…"
      ]
     },
     "metadata": {},
     "output_type": "display_data"
    }
   ],
   "source": [
    "train_data_conf1= train_data.repartition(20)\n",
    "train_data_conf2= train_data.repartition(40)\n",
    "train_data_conf3= train_data.repartition(80)\n",
    "train_data_conf4= train_data.repartition(160)"
   ]
  },
  {
   "cell_type": "code",
   "execution_count": 11,
   "metadata": {
    "tags": []
   },
   "outputs": [
    {
     "data": {
      "application/vnd.jupyter.widget-view+json": {
       "model_id": "",
       "version_major": 2,
       "version_minor": 0
      },
      "text/plain": [
       "FloatProgress(value=0.0, bar_style='info', description='Progress:', layout=Layout(height='25px', width='50%'),…"
      ]
     },
     "metadata": {},
     "output_type": "display_data"
    },
    {
     "name": "stdout",
     "output_type": "stream",
     "text": [
      "Training time: 3.16min"
     ]
    }
   ],
   "source": [
    "t0 = time.time()\n",
    "model = pipeline.fit(train_data_conf1)\n",
    "print(f\"Training time: {(time.time() - t0)/60:.2f}min\")"
   ]
  },
  {
   "cell_type": "code",
   "execution_count": 12,
   "metadata": {
    "tags": []
   },
   "outputs": [
    {
     "data": {
      "application/vnd.jupyter.widget-view+json": {
       "model_id": "",
       "version_major": 2,
       "version_minor": 0
      },
      "text/plain": [
       "FloatProgress(value=0.0, bar_style='info', description='Progress:', layout=Layout(height='25px', width='50%'),…"
      ]
     },
     "metadata": {},
     "output_type": "display_data"
    },
    {
     "name": "stdout",
     "output_type": "stream",
     "text": [
      "Training time: 2.38min"
     ]
    }
   ],
   "source": [
    "t0 = time.time()\n",
    "model = pipeline.fit(train_data_conf2)\n",
    "print(f\"Training time: {(time.time() - t0)/60:.2f}min\")"
   ]
  },
  {
   "cell_type": "code",
   "execution_count": 13,
   "metadata": {
    "tags": []
   },
   "outputs": [
    {
     "data": {
      "application/vnd.jupyter.widget-view+json": {
       "model_id": "",
       "version_major": 2,
       "version_minor": 0
      },
      "text/plain": [
       "FloatProgress(value=0.0, bar_style='info', description='Progress:', layout=Layout(height='25px', width='50%'),…"
      ]
     },
     "metadata": {},
     "output_type": "display_data"
    },
    {
     "name": "stdout",
     "output_type": "stream",
     "text": [
      "Training time: 2.50min"
     ]
    }
   ],
   "source": [
    "t0 = time.time()\n",
    "model = pipeline.fit(train_data_conf3)\n",
    "print(f\"Training time: {(time.time() - t0)/60:.2f}min\")"
   ]
  },
  {
   "cell_type": "code",
   "execution_count": 14,
   "metadata": {
    "tags": []
   },
   "outputs": [
    {
     "data": {
      "application/vnd.jupyter.widget-view+json": {
       "model_id": "",
       "version_major": 2,
       "version_minor": 0
      },
      "text/plain": [
       "FloatProgress(value=0.0, bar_style='info', description='Progress:', layout=Layout(height='25px', width='50%'),…"
      ]
     },
     "metadata": {},
     "output_type": "display_data"
    },
    {
     "name": "stdout",
     "output_type": "stream",
     "text": [
      "Training time: 2.67min"
     ]
    }
   ],
   "source": [
    "t0 = time.time()\n",
    "model = pipeline.fit(train_data_conf4)\n",
    "print(f\"Training time: {(time.time() - t0)/60:.2f}min\")"
   ]
  },
  {
   "cell_type": "code",
   "execution_count": null,
   "metadata": {
    "tags": []
   },
   "outputs": [],
   "source": [
    "%%configure -f\n",
    "{\"conf\": {\n",
    "        \"spark.sql.warehouse.dir\" : \"s3a://dataops-example/justin\",\n",
    "        \"spark.hadoop.fs.s3a.access.key\":\"\",\n",
    "        \"spark.hadoop.fs.s3a.secret.key\": \"\",\n",
    "        \"spark.serializer\": \"org.apache.spark.serializer.KryoSerializer\", \n",
    "        \"spark.kryoserializer.buffer.max\": \"2000M\",\n",
    "        \"spark.driver.maxResultSize\": \"0\",\n",
    "        \"spark.kubernetes.container.image\": \"justinljg/dep:1.08\",\n",
    "        \"spark.kubernetes.container.image.pullPolicy\" : \"Always\",\n",
    "        \"spark.jsl.settings.pretrained.cache_folder\": \"/opt/spark/work-dir\",\n",
    "        \"spark.kubernetes.driver.volumes.persistentVolumeClaim.lighter-sparknlptest-pvc.options.claimName\": \"lighter-sparknlptest-pvc\",\n",
    "        \"spark.kubernetes.driver.volumes.persistentVolumeClaim.lighter-sparknlptest-pvc.mount.path\": \"/opt/spark/work-dir\",\n",
    "        \"spark.kubernetes.executor.volumes.persistentVolumeClaim.lighter-sparknlptest-pvc.options.claimName\": \"lighter-sparknlptest-pvc\",\n",
    "        \"spark.kubernetes.executor.volumes.persistentVolumeClaim.lighter-sparknlptest-pvc.mount.path\": \"/opt/spark/work-dir\",\n",
    "        \"spark.jsl.settings.annotator.log_folder\": \"/opt/spark/work-dir/logs\",\n",
    "        \"spark.dynamicAllocation.enabled\": \"true\",\n",
    "        \"spark.dynamicAllocation.shuffleTracking.enabled\": \"true\",\n",
    "        \"spark.dynamicAllocation.minExecutors\": \"2\",\n",
    "        \"spark.dynamicAllocation.maxExecutors\": \"10\"\n",
    "    },\n",
    " \"executorMemory\": \"3G\",\n",
    " \"executorCores\": 2,\n",
    " \"driverMemory\": \"16G\",\n",
    " \"driverCores\": 1\n",
    "}"
   ]
  },
  {
   "cell_type": "code",
   "execution_count": 9,
   "metadata": {
    "tags": []
   },
   "outputs": [
    {
     "data": {
      "application/vnd.jupyter.widget-view+json": {
       "model_id": "",
       "version_major": 2,
       "version_minor": 0
      },
      "text/plain": [
       "FloatProgress(value=0.0, bar_style='info', description='Progress:', layout=Layout(height='25px', width='50%'),…"
      ]
     },
     "metadata": {},
     "output_type": "display_data"
    }
   ],
   "source": [
    "train_data_conf1= train_data.repartition(20)\n",
    "train_data_conf2= train_data.repartition(40)\n",
    "train_data_conf3= train_data.repartition(80)\n",
    "train_data_conf4= train_data.repartition(160)"
   ]
  },
  {
   "cell_type": "code",
   "execution_count": 10,
   "metadata": {
    "tags": []
   },
   "outputs": [
    {
     "data": {
      "application/vnd.jupyter.widget-view+json": {
       "model_id": "",
       "version_major": 2,
       "version_minor": 0
      },
      "text/plain": [
       "FloatProgress(value=0.0, bar_style='info', description='Progress:', layout=Layout(height='25px', width='50%'),…"
      ]
     },
     "metadata": {},
     "output_type": "display_data"
    },
    {
     "name": "stdout",
     "output_type": "stream",
     "text": [
      "Training time: 2.09min"
     ]
    }
   ],
   "source": [
    "t0 = time.time()\n",
    "model = pipeline.fit(train_data_conf1)\n",
    "print(f\"Training time: {(time.time() - t0)/60:.2f}min\")"
   ]
  },
  {
   "cell_type": "code",
   "execution_count": 11,
   "metadata": {
    "tags": []
   },
   "outputs": [
    {
     "data": {
      "application/vnd.jupyter.widget-view+json": {
       "model_id": "",
       "version_major": 2,
       "version_minor": 0
      },
      "text/plain": [
       "FloatProgress(value=0.0, bar_style='info', description='Progress:', layout=Layout(height='25px', width='50%'),…"
      ]
     },
     "metadata": {},
     "output_type": "display_data"
    },
    {
     "name": "stdout",
     "output_type": "stream",
     "text": [
      "Training time: 1.65min"
     ]
    }
   ],
   "source": [
    "t0 = time.time()\n",
    "model = pipeline.fit(train_data_conf2)\n",
    "print(f\"Training time: {(time.time() - t0)/60:.2f}min\")"
   ]
  },
  {
   "cell_type": "code",
   "execution_count": 12,
   "metadata": {
    "tags": []
   },
   "outputs": [
    {
     "data": {
      "application/vnd.jupyter.widget-view+json": {
       "model_id": "",
       "version_major": 2,
       "version_minor": 0
      },
      "text/plain": [
       "FloatProgress(value=0.0, bar_style='info', description='Progress:', layout=Layout(height='25px', width='50%'),…"
      ]
     },
     "metadata": {},
     "output_type": "display_data"
    },
    {
     "name": "stdout",
     "output_type": "stream",
     "text": [
      "Training time: 1.52min"
     ]
    }
   ],
   "source": [
    "t0 = time.time()\n",
    "model = pipeline.fit(train_data_conf3)\n",
    "print(f\"Training time: {(time.time() - t0)/60:.2f}min\")"
   ]
  },
  {
   "cell_type": "code",
   "execution_count": 13,
   "metadata": {
    "tags": []
   },
   "outputs": [
    {
     "data": {
      "application/vnd.jupyter.widget-view+json": {
       "model_id": "",
       "version_major": 2,
       "version_minor": 0
      },
      "text/plain": [
       "FloatProgress(value=0.0, bar_style='info', description='Progress:', layout=Layout(height='25px', width='50%'),…"
      ]
     },
     "metadata": {},
     "output_type": "display_data"
    },
    {
     "name": "stdout",
     "output_type": "stream",
     "text": [
      "Training time: 1.69min"
     ]
    }
   ],
   "source": [
    "t0 = time.time()\n",
    "model = pipeline.fit(train_data_conf4)\n",
    "print(f\"Training time: {(time.time() - t0)/60:.2f}min\")"
   ]
  },
  {
   "cell_type": "code",
   "execution_count": 14,
   "metadata": {
    "tags": []
   },
   "outputs": [
    {
     "data": {
      "application/vnd.jupyter.widget-view+json": {
       "model_id": "",
       "version_major": 2,
       "version_minor": 0
      },
      "text/plain": [
       "FloatProgress(value=0.0, bar_style='info', description='Progress:', layout=Layout(height='25px', width='50%'),…"
      ]
     },
     "metadata": {},
     "output_type": "display_data"
    }
   ],
   "source": [
    "train_data, test_data = df.select(\"text\", \"label\").orderBy(rand()).randomSplit([0.8, 0.2], seed=42)\n",
    "train_data= train_data.limit(32000)\n",
    "test_data= test_data.limit(8000)"
   ]
  },
  {
   "cell_type": "code",
   "execution_count": 15,
   "metadata": {
    "tags": []
   },
   "outputs": [
    {
     "data": {
      "application/vnd.jupyter.widget-view+json": {
       "model_id": "",
       "version_major": 2,
       "version_minor": 0
      },
      "text/plain": [
       "FloatProgress(value=0.0, bar_style='info', description='Progress:', layout=Layout(height='25px', width='50%'),…"
      ]
     },
     "metadata": {},
     "output_type": "display_data"
    }
   ],
   "source": [
    "train_data_conf1= train_data.repartition(20)\n",
    "train_data_conf2= train_data.repartition(40)\n",
    "train_data_conf3= train_data.repartition(80)\n",
    "train_data_conf4= train_data.repartition(160)"
   ]
  },
  {
   "cell_type": "code",
   "execution_count": 16,
   "metadata": {
    "tags": []
   },
   "outputs": [
    {
     "data": {
      "application/vnd.jupyter.widget-view+json": {
       "model_id": "",
       "version_major": 2,
       "version_minor": 0
      },
      "text/plain": [
       "FloatProgress(value=0.0, bar_style='info', description='Progress:', layout=Layout(height='25px', width='50%'),…"
      ]
     },
     "metadata": {},
     "output_type": "display_data"
    },
    {
     "name": "stdout",
     "output_type": "stream",
     "text": [
      "Training time: 3.06min"
     ]
    }
   ],
   "source": [
    "t0 = time.time()\n",
    "model = pipeline.fit(train_data_conf1)\n",
    "print(f\"Training time: {(time.time() - t0)/60:.2f}min\")"
   ]
  },
  {
   "cell_type": "code",
   "execution_count": 17,
   "metadata": {
    "tags": []
   },
   "outputs": [
    {
     "data": {
      "application/vnd.jupyter.widget-view+json": {
       "model_id": "",
       "version_major": 2,
       "version_minor": 0
      },
      "text/plain": [
       "FloatProgress(value=0.0, bar_style='info', description='Progress:', layout=Layout(height='25px', width='50%'),…"
      ]
     },
     "metadata": {},
     "output_type": "display_data"
    },
    {
     "name": "stdout",
     "output_type": "stream",
     "text": [
      "Training time: 3.27min"
     ]
    }
   ],
   "source": [
    "t0 = time.time()\n",
    "model = pipeline.fit(train_data_conf2)\n",
    "print(f\"Training time: {(time.time() - t0)/60:.2f}min\")"
   ]
  },
  {
   "cell_type": "code",
   "execution_count": 18,
   "metadata": {
    "tags": []
   },
   "outputs": [
    {
     "data": {
      "application/vnd.jupyter.widget-view+json": {
       "model_id": "",
       "version_major": 2,
       "version_minor": 0
      },
      "text/plain": [
       "FloatProgress(value=0.0, bar_style='info', description='Progress:', layout=Layout(height='25px', width='50%'),…"
      ]
     },
     "metadata": {},
     "output_type": "display_data"
    },
    {
     "name": "stdout",
     "output_type": "stream",
     "text": [
      "Training time: 3.18min"
     ]
    }
   ],
   "source": [
    "t0 = time.time()\n",
    "model = pipeline.fit(train_data_conf3)\n",
    "print(f\"Training time: {(time.time() - t0)/60:.2f}min\")"
   ]
  },
  {
   "cell_type": "code",
   "execution_count": 19,
   "metadata": {
    "tags": []
   },
   "outputs": [
    {
     "data": {
      "application/vnd.jupyter.widget-view+json": {
       "model_id": "",
       "version_major": 2,
       "version_minor": 0
      },
      "text/plain": [
       "FloatProgress(value=0.0, bar_style='info', description='Progress:', layout=Layout(height='25px', width='50%'),…"
      ]
     },
     "metadata": {},
     "output_type": "display_data"
    },
    {
     "name": "stdout",
     "output_type": "stream",
     "text": [
      "Training time: 3.18min"
     ]
    }
   ],
   "source": [
    "t0 = time.time()\n",
    "model = pipeline.fit(train_data_conf4)\n",
    "print(f\"Training time: {(time.time() - t0)/60:.2f}min\")"
   ]
  },
  {
   "cell_type": "code",
   "execution_count": null,
   "metadata": {
    "tags": []
   },
   "outputs": [],
   "source": [
    "%%configure -f\n",
    "{\"conf\": {\n",
    "        \"spark.sql.warehouse.dir\" : \"s3a://dataops-example/justin\",\n",
    "        \"spark.hadoop.fs.s3a.access.key\":\"\",\n",
    "        \"spark.hadoop.fs.s3a.secret.key\": \"\",\n",
    "        \"spark.serializer\": \"org.apache.spark.serializer.KryoSerializer\", \n",
    "        \"spark.kryoserializer.buffer.max\": \"2000M\",\n",
    "        \"spark.driver.maxResultSize\": \"0\",\n",
    "        \"spark.kubernetes.container.image\": \"justinljg/dep:1.08\",\n",
    "        \"spark.kubernetes.container.image.pullPolicy\" : \"Always\",\n",
    "        \"spark.jsl.settings.pretrained.cache_folder\": \"/opt/spark/work-dir\",\n",
    "        \"spark.kubernetes.driver.volumes.persistentVolumeClaim.lighter-sparknlptest-pvc.options.claimName\": \"lighter-sparknlptest-pvc\",\n",
    "        \"spark.kubernetes.driver.volumes.persistentVolumeClaim.lighter-sparknlptest-pvc.mount.path\": \"/opt/spark/work-dir\",\n",
    "        \"spark.kubernetes.executor.volumes.persistentVolumeClaim.lighter-sparknlptest-pvc.options.claimName\": \"lighter-sparknlptest-pvc\",\n",
    "        \"spark.kubernetes.executor.volumes.persistentVolumeClaim.lighter-sparknlptest-pvc.mount.path\": \"/opt/spark/work-dir\",\n",
    "        \"spark.jsl.settings.annotator.log_folder\": \"/opt/spark/work-dir/logs\",\n",
    "        \"spark.dynamicAllocation.enabled\": \"true\",\n",
    "        \"spark.dynamicAllocation.shuffleTracking.enabled\": \"true\",\n",
    "        \"spark.dynamicAllocation.minExecutors\": \"2\",\n",
    "        \"spark.dynamicAllocation.maxExecutors\": \"10\"\n",
    "    },\n",
    " \"executorMemory\": \"3G\",\n",
    " \"executorCores\": 2,\n",
    " \"driverMemory\": \"16G\",\n",
    " \"driverCores\": 2\n",
    "}"
   ]
  },
  {
   "cell_type": "code",
   "execution_count": 43,
   "metadata": {
    "tags": []
   },
   "outputs": [
    {
     "data": {
      "application/vnd.jupyter.widget-view+json": {
       "model_id": "",
       "version_major": 2,
       "version_minor": 0
      },
      "text/plain": [
       "FloatProgress(value=0.0, bar_style='info', description='Progress:', layout=Layout(height='25px', width='50%'),…"
      ]
     },
     "metadata": {},
     "output_type": "display_data"
    }
   ],
   "source": [
    "train_data_conf1= train_data.repartition(20)\n",
    "train_data_conf2= train_data.repartition(40)\n",
    "train_data_conf3= train_data.repartition(80)\n",
    "train_data_conf4= train_data.repartition(160)"
   ]
  },
  {
   "cell_type": "code",
   "execution_count": 44,
   "metadata": {
    "tags": []
   },
   "outputs": [
    {
     "data": {
      "application/vnd.jupyter.widget-view+json": {
       "model_id": "",
       "version_major": 2,
       "version_minor": 0
      },
      "text/plain": [
       "FloatProgress(value=0.0, bar_style='info', description='Progress:', layout=Layout(height='25px', width='50%'),…"
      ]
     },
     "metadata": {},
     "output_type": "display_data"
    },
    {
     "name": "stdout",
     "output_type": "stream",
     "text": [
      "Training time: 1.78min"
     ]
    }
   ],
   "source": [
    "t0 = time.time()\n",
    "model = pipeline.fit(train_data_conf1)\n",
    "print(f\"Training time: {(time.time() - t0)/60:.2f}min\")"
   ]
  },
  {
   "cell_type": "code",
   "execution_count": 45,
   "metadata": {
    "tags": []
   },
   "outputs": [
    {
     "data": {
      "application/vnd.jupyter.widget-view+json": {
       "model_id": "",
       "version_major": 2,
       "version_minor": 0
      },
      "text/plain": [
       "FloatProgress(value=0.0, bar_style='info', description='Progress:', layout=Layout(height='25px', width='50%'),…"
      ]
     },
     "metadata": {},
     "output_type": "display_data"
    },
    {
     "name": "stdout",
     "output_type": "stream",
     "text": [
      "Training time: 1.71min"
     ]
    }
   ],
   "source": [
    "t0 = time.time()\n",
    "model = pipeline.fit(train_data_conf2)\n",
    "print(f\"Training time: {(time.time() - t0)/60:.2f}min\")"
   ]
  },
  {
   "cell_type": "code",
   "execution_count": 46,
   "metadata": {
    "tags": []
   },
   "outputs": [
    {
     "data": {
      "application/vnd.jupyter.widget-view+json": {
       "model_id": "",
       "version_major": 2,
       "version_minor": 0
      },
      "text/plain": [
       "FloatProgress(value=0.0, bar_style='info', description='Progress:', layout=Layout(height='25px', width='50%'),…"
      ]
     },
     "metadata": {},
     "output_type": "display_data"
    },
    {
     "name": "stdout",
     "output_type": "stream",
     "text": [
      "Training time: 1.57min"
     ]
    }
   ],
   "source": [
    "t0 = time.time()\n",
    "model = pipeline.fit(train_data_conf3)\n",
    "print(f\"Training time: {(time.time() - t0)/60:.2f}min\")"
   ]
  },
  {
   "cell_type": "code",
   "execution_count": 47,
   "metadata": {
    "tags": []
   },
   "outputs": [
    {
     "data": {
      "application/vnd.jupyter.widget-view+json": {
       "model_id": "",
       "version_major": 2,
       "version_minor": 0
      },
      "text/plain": [
       "FloatProgress(value=0.0, bar_style='info', description='Progress:', layout=Layout(height='25px', width='50%'),…"
      ]
     },
     "metadata": {},
     "output_type": "display_data"
    },
    {
     "name": "stdout",
     "output_type": "stream",
     "text": [
      "Training time: 1.79min"
     ]
    }
   ],
   "source": [
    "t0 = time.time()\n",
    "model = pipeline.fit(train_data_conf4)\n",
    "print(f\"Training time: {(time.time() - t0)/60:.2f}min\")"
   ]
  },
  {
   "cell_type": "code",
   "execution_count": 48,
   "metadata": {
    "tags": []
   },
   "outputs": [
    {
     "data": {
      "application/vnd.jupyter.widget-view+json": {
       "model_id": "",
       "version_major": 2,
       "version_minor": 0
      },
      "text/plain": [
       "FloatProgress(value=0.0, bar_style='info', description='Progress:', layout=Layout(height='25px', width='50%'),…"
      ]
     },
     "metadata": {},
     "output_type": "display_data"
    }
   ],
   "source": [
    "train_data, test_data = df.select(\"text\", \"label\").orderBy(rand()).randomSplit([0.8, 0.2], seed=42)\n",
    "train_data= train_data.limit(32000)\n",
    "test_data= test_data.limit(8000)"
   ]
  },
  {
   "cell_type": "code",
   "execution_count": 49,
   "metadata": {
    "tags": []
   },
   "outputs": [
    {
     "data": {
      "application/vnd.jupyter.widget-view+json": {
       "model_id": "",
       "version_major": 2,
       "version_minor": 0
      },
      "text/plain": [
       "FloatProgress(value=0.0, bar_style='info', description='Progress:', layout=Layout(height='25px', width='50%'),…"
      ]
     },
     "metadata": {},
     "output_type": "display_data"
    }
   ],
   "source": [
    "train_data_conf1= train_data.repartition(20)\n",
    "train_data_conf2= train_data.repartition(40)\n",
    "train_data_conf3= train_data.repartition(80)\n",
    "train_data_conf4= train_data.repartition(160)"
   ]
  },
  {
   "cell_type": "code",
   "execution_count": 50,
   "metadata": {
    "tags": []
   },
   "outputs": [
    {
     "data": {
      "application/vnd.jupyter.widget-view+json": {
       "model_id": "",
       "version_major": 2,
       "version_minor": 0
      },
      "text/plain": [
       "FloatProgress(value=0.0, bar_style='info', description='Progress:', layout=Layout(height='25px', width='50%'),…"
      ]
     },
     "metadata": {},
     "output_type": "display_data"
    },
    {
     "name": "stdout",
     "output_type": "stream",
     "text": [
      "Training time: 3.28min"
     ]
    }
   ],
   "source": [
    "t0 = time.time()\n",
    "model = pipeline.fit(train_data_conf1)\n",
    "print(f\"Training time: {(time.time() - t0)/60:.2f}min\")"
   ]
  },
  {
   "cell_type": "code",
   "execution_count": 51,
   "metadata": {
    "tags": []
   },
   "outputs": [
    {
     "data": {
      "application/vnd.jupyter.widget-view+json": {
       "model_id": "",
       "version_major": 2,
       "version_minor": 0
      },
      "text/plain": [
       "FloatProgress(value=0.0, bar_style='info', description='Progress:', layout=Layout(height='25px', width='50%'),…"
      ]
     },
     "metadata": {},
     "output_type": "display_data"
    },
    {
     "name": "stdout",
     "output_type": "stream",
     "text": [
      "Training time: 3.57min"
     ]
    }
   ],
   "source": [
    "t0 = time.time()\n",
    "model = pipeline.fit(train_data_conf2)\n",
    "print(f\"Training time: {(time.time() - t0)/60:.2f}min\")"
   ]
  },
  {
   "cell_type": "code",
   "execution_count": 52,
   "metadata": {
    "tags": []
   },
   "outputs": [
    {
     "data": {
      "application/vnd.jupyter.widget-view+json": {
       "model_id": "",
       "version_major": 2,
       "version_minor": 0
      },
      "text/plain": [
       "FloatProgress(value=0.0, bar_style='info', description='Progress:', layout=Layout(height='25px', width='50%'),…"
      ]
     },
     "metadata": {},
     "output_type": "display_data"
    },
    {
     "name": "stdout",
     "output_type": "stream",
     "text": [
      "Training time: 2.93min"
     ]
    }
   ],
   "source": [
    "t0 = time.time()\n",
    "model = pipeline.fit(train_data_conf3)\n",
    "print(f\"Training time: {(time.time() - t0)/60:.2f}min\")"
   ]
  },
  {
   "cell_type": "code",
   "execution_count": 53,
   "metadata": {
    "tags": []
   },
   "outputs": [
    {
     "data": {
      "application/vnd.jupyter.widget-view+json": {
       "model_id": "",
       "version_major": 2,
       "version_minor": 0
      },
      "text/plain": [
       "FloatProgress(value=0.0, bar_style='info', description='Progress:', layout=Layout(height='25px', width='50%'),…"
      ]
     },
     "metadata": {},
     "output_type": "display_data"
    },
    {
     "name": "stdout",
     "output_type": "stream",
     "text": [
      "Training time: 3.11min"
     ]
    }
   ],
   "source": [
    "t0 = time.time()\n",
    "model = pipeline.fit(train_data_conf4)\n",
    "print(f\"Training time: {(time.time() - t0)/60:.2f}min\")"
   ]
  },
  {
   "cell_type": "code",
   "execution_count": null,
   "metadata": {
    "tags": []
   },
   "outputs": [],
   "source": [
    "%%configure -f\n",
    "{\"conf\": {\n",
    "        \"spark.sql.warehouse.dir\" : \"s3a://dataops-example/justin\",\n",
    "        \"spark.hadoop.fs.s3a.access.key\":\"\",\n",
    "        \"spark.hadoop.fs.s3a.secret.key\": \"\",\n",
    "        \"spark.serializer\": \"org.apache.spark.serializer.KryoSerializer\", \n",
    "        \"spark.kryoserializer.buffer.max\": \"2000M\",\n",
    "        \"spark.driver.maxResultSize\": \"0\",\n",
    "        \"spark.kubernetes.container.image\": \"justinljg/dep:1.08\",\n",
    "        \"spark.kubernetes.container.image.pullPolicy\" : \"Always\",\n",
    "        \"spark.jsl.settings.pretrained.cache_folder\": \"/opt/spark/work-dir\",\n",
    "        \"spark.kubernetes.driver.volumes.persistentVolumeClaim.lighter-sparknlptest-pvc.options.claimName\": \"lighter-sparknlptest-pvc\",\n",
    "        \"spark.kubernetes.driver.volumes.persistentVolumeClaim.lighter-sparknlptest-pvc.mount.path\": \"/opt/spark/work-dir\",\n",
    "        \"spark.kubernetes.executor.volumes.persistentVolumeClaim.lighter-sparknlptest-pvc.options.claimName\": \"lighter-sparknlptest-pvc\",\n",
    "        \"spark.kubernetes.executor.volumes.persistentVolumeClaim.lighter-sparknlptest-pvc.mount.path\": \"/opt/spark/work-dir\",\n",
    "        \"spark.jsl.settings.annotator.log_folder\": \"/opt/spark/work-dir/logs\",\n",
    "        \"spark.dynamicAllocation.enabled\": \"true\",\n",
    "        \"spark.dynamicAllocation.shuffleTracking.enabled\": \"true\",\n",
    "        \"spark.dynamicAllocation.minExecutors\": \"2\",\n",
    "        \"spark.dynamicAllocation.maxExecutors\": \"10\"\n",
    "    },\n",
    " \"executorMemory\": \"3G\",\n",
    " \"executorCores\": 4,\n",
    " \"driverMemory\": \"16G\",\n",
    " \"driverCores\": 2\n",
    "}"
   ]
  },
  {
   "cell_type": "code",
   "execution_count": 9,
   "metadata": {
    "tags": []
   },
   "outputs": [
    {
     "data": {
      "application/vnd.jupyter.widget-view+json": {
       "model_id": "",
       "version_major": 2,
       "version_minor": 0
      },
      "text/plain": [
       "FloatProgress(value=0.0, bar_style='info', description='Progress:', layout=Layout(height='25px', width='50%'),…"
      ]
     },
     "metadata": {},
     "output_type": "display_data"
    }
   ],
   "source": [
    "train_data_conf1= train_data.repartition(20)\n",
    "train_data_conf2= train_data.repartition(40)\n",
    "train_data_conf3= train_data.repartition(80)\n",
    "train_data_conf4= train_data.repartition(160)"
   ]
  },
  {
   "cell_type": "code",
   "execution_count": 10,
   "metadata": {
    "tags": []
   },
   "outputs": [
    {
     "data": {
      "application/vnd.jupyter.widget-view+json": {
       "model_id": "",
       "version_major": 2,
       "version_minor": 0
      },
      "text/plain": [
       "FloatProgress(value=0.0, bar_style='info', description='Progress:', layout=Layout(height='25px', width='50%'),…"
      ]
     },
     "metadata": {},
     "output_type": "display_data"
    },
    {
     "name": "stdout",
     "output_type": "stream",
     "text": [
      "Training time: 2.16min"
     ]
    }
   ],
   "source": [
    "t0 = time.time()\n",
    "model = pipeline.fit(train_data_conf1)\n",
    "print(f\"Training time: {(time.time() - t0)/60:.2f}min\")"
   ]
  },
  {
   "cell_type": "code",
   "execution_count": 11,
   "metadata": {
    "tags": []
   },
   "outputs": [
    {
     "data": {
      "application/vnd.jupyter.widget-view+json": {
       "model_id": "",
       "version_major": 2,
       "version_minor": 0
      },
      "text/plain": [
       "FloatProgress(value=0.0, bar_style='info', description='Progress:', layout=Layout(height='25px', width='50%'),…"
      ]
     },
     "metadata": {},
     "output_type": "display_data"
    },
    {
     "name": "stdout",
     "output_type": "stream",
     "text": [
      "Training time: 1.73min"
     ]
    }
   ],
   "source": [
    "t0 = time.time()\n",
    "model = pipeline.fit(train_data_conf2)\n",
    "print(f\"Training time: {(time.time() - t0)/60:.2f}min\")"
   ]
  },
  {
   "cell_type": "code",
   "execution_count": 12,
   "metadata": {
    "tags": []
   },
   "outputs": [
    {
     "data": {
      "application/vnd.jupyter.widget-view+json": {
       "model_id": "",
       "version_major": 2,
       "version_minor": 0
      },
      "text/plain": [
       "FloatProgress(value=0.0, bar_style='info', description='Progress:', layout=Layout(height='25px', width='50%'),…"
      ]
     },
     "metadata": {},
     "output_type": "display_data"
    },
    {
     "name": "stdout",
     "output_type": "stream",
     "text": [
      "Training time: 1.82min"
     ]
    }
   ],
   "source": [
    "t0 = time.time()\n",
    "model = pipeline.fit(train_data_conf3)\n",
    "print(f\"Training time: {(time.time() - t0)/60:.2f}min\")"
   ]
  },
  {
   "cell_type": "code",
   "execution_count": 13,
   "metadata": {
    "tags": []
   },
   "outputs": [
    {
     "data": {
      "application/vnd.jupyter.widget-view+json": {
       "model_id": "",
       "version_major": 2,
       "version_minor": 0
      },
      "text/plain": [
       "FloatProgress(value=0.0, bar_style='info', description='Progress:', layout=Layout(height='25px', width='50%'),…"
      ]
     },
     "metadata": {},
     "output_type": "display_data"
    },
    {
     "name": "stdout",
     "output_type": "stream",
     "text": [
      "Training time: 2.31min"
     ]
    }
   ],
   "source": [
    "t0 = time.time()\n",
    "model = pipeline.fit(train_data_conf4)\n",
    "print(f\"Training time: {(time.time() - t0)/60:.2f}min\")"
   ]
  },
  {
   "cell_type": "code",
   "execution_count": 14,
   "metadata": {
    "tags": []
   },
   "outputs": [
    {
     "data": {
      "application/vnd.jupyter.widget-view+json": {
       "model_id": "",
       "version_major": 2,
       "version_minor": 0
      },
      "text/plain": [
       "FloatProgress(value=0.0, bar_style='info', description='Progress:', layout=Layout(height='25px', width='50%'),…"
      ]
     },
     "metadata": {},
     "output_type": "display_data"
    }
   ],
   "source": [
    "train_data, test_data = df.select(\"text\", \"label\").orderBy(rand()).randomSplit([0.8, 0.2], seed=42)\n",
    "train_data= train_data.limit(32000)\n",
    "test_data= test_data.limit(8000)"
   ]
  },
  {
   "cell_type": "code",
   "execution_count": 15,
   "metadata": {
    "tags": []
   },
   "outputs": [
    {
     "data": {
      "application/vnd.jupyter.widget-view+json": {
       "model_id": "",
       "version_major": 2,
       "version_minor": 0
      },
      "text/plain": [
       "FloatProgress(value=0.0, bar_style='info', description='Progress:', layout=Layout(height='25px', width='50%'),…"
      ]
     },
     "metadata": {},
     "output_type": "display_data"
    }
   ],
   "source": [
    "train_data_conf1= train_data.repartition(20)\n",
    "train_data_conf2= train_data.repartition(40)\n",
    "train_data_conf3= train_data.repartition(80)\n",
    "train_data_conf4= train_data.repartition(160)"
   ]
  },
  {
   "cell_type": "code",
   "execution_count": 16,
   "metadata": {
    "tags": []
   },
   "outputs": [
    {
     "data": {
      "application/vnd.jupyter.widget-view+json": {
       "model_id": "",
       "version_major": 2,
       "version_minor": 0
      },
      "text/plain": [
       "FloatProgress(value=0.0, bar_style='info', description='Progress:', layout=Layout(height='25px', width='50%'),…"
      ]
     },
     "metadata": {},
     "output_type": "display_data"
    },
    {
     "name": "stdout",
     "output_type": "stream",
     "text": [
      "Training time: 3.72min"
     ]
    }
   ],
   "source": [
    "t0 = time.time()\n",
    "model = pipeline.fit(train_data_conf1)\n",
    "print(f\"Training time: {(time.time() - t0)/60:.2f}min\")"
   ]
  },
  {
   "cell_type": "code",
   "execution_count": 17,
   "metadata": {
    "tags": []
   },
   "outputs": [
    {
     "data": {
      "application/vnd.jupyter.widget-view+json": {
       "model_id": "",
       "version_major": 2,
       "version_minor": 0
      },
      "text/plain": [
       "FloatProgress(value=0.0, bar_style='info', description='Progress:', layout=Layout(height='25px', width='50%'),…"
      ]
     },
     "metadata": {},
     "output_type": "display_data"
    },
    {
     "name": "stdout",
     "output_type": "stream",
     "text": [
      "Training time: 3.68min"
     ]
    }
   ],
   "source": [
    "t0 = time.time()\n",
    "model = pipeline.fit(train_data_conf2)\n",
    "print(f\"Training time: {(time.time() - t0)/60:.2f}min\")"
   ]
  },
  {
   "cell_type": "code",
   "execution_count": 18,
   "metadata": {
    "tags": []
   },
   "outputs": [
    {
     "data": {
      "application/vnd.jupyter.widget-view+json": {
       "model_id": "",
       "version_major": 2,
       "version_minor": 0
      },
      "text/plain": [
       "FloatProgress(value=0.0, bar_style='info', description='Progress:', layout=Layout(height='25px', width='50%'),…"
      ]
     },
     "metadata": {},
     "output_type": "display_data"
    },
    {
     "name": "stdout",
     "output_type": "stream",
     "text": [
      "Training time: 3.40min"
     ]
    }
   ],
   "source": [
    "t0 = time.time()\n",
    "model = pipeline.fit(train_data_conf3)\n",
    "print(f\"Training time: {(time.time() - t0)/60:.2f}min\")"
   ]
  },
  {
   "cell_type": "code",
   "execution_count": 19,
   "metadata": {
    "tags": []
   },
   "outputs": [
    {
     "data": {
      "application/vnd.jupyter.widget-view+json": {
       "model_id": "",
       "version_major": 2,
       "version_minor": 0
      },
      "text/plain": [
       "FloatProgress(value=0.0, bar_style='info', description='Progress:', layout=Layout(height='25px', width='50%'),…"
      ]
     },
     "metadata": {},
     "output_type": "display_data"
    },
    {
     "name": "stdout",
     "output_type": "stream",
     "text": [
      "Training time: 3.31min"
     ]
    }
   ],
   "source": [
    "t0 = time.time()\n",
    "model = pipeline.fit(train_data_conf4)\n",
    "print(f\"Training time: {(time.time() - t0)/60:.2f}min\")"
   ]
  },
  {
   "cell_type": "code",
   "execution_count": 20,
   "metadata": {
    "tags": []
   },
   "outputs": [
    {
     "data": {
      "application/vnd.jupyter.widget-view+json": {
       "model_id": "",
       "version_major": 2,
       "version_minor": 0
      },
      "text/plain": [
       "FloatProgress(value=0.0, bar_style='info', description='Progress:', layout=Layout(height='25px', width='50%'),…"
      ]
     },
     "metadata": {},
     "output_type": "display_data"
    }
   ],
   "source": [
    "train_data, test_data = df.select(\"text\", \"label\").orderBy(rand()).randomSplit([0.8, 0.2], seed=42)\n",
    "train_data= train_data.limit(64000)\n",
    "test_data= test_data.limit(16000)"
   ]
  },
  {
   "cell_type": "code",
   "execution_count": 21,
   "metadata": {
    "tags": []
   },
   "outputs": [
    {
     "data": {
      "application/vnd.jupyter.widget-view+json": {
       "model_id": "",
       "version_major": 2,
       "version_minor": 0
      },
      "text/plain": [
       "FloatProgress(value=0.0, bar_style='info', description='Progress:', layout=Layout(height='25px', width='50%'),…"
      ]
     },
     "metadata": {},
     "output_type": "display_data"
    }
   ],
   "source": [
    "train_data_conf1= train_data.repartition(20)\n",
    "train_data_conf2= train_data.repartition(40)\n",
    "train_data_conf3= train_data.repartition(80)\n",
    "train_data_conf4= train_data.repartition(160)"
   ]
  },
  {
   "cell_type": "code",
   "execution_count": 22,
   "metadata": {
    "tags": []
   },
   "outputs": [
    {
     "data": {
      "application/vnd.jupyter.widget-view+json": {
       "model_id": "",
       "version_major": 2,
       "version_minor": 0
      },
      "text/plain": [
       "FloatProgress(value=0.0, bar_style='info', description='Progress:', layout=Layout(height='25px', width='50%'),…"
      ]
     },
     "metadata": {},
     "output_type": "display_data"
    },
    {
     "name": "stdout",
     "output_type": "stream",
     "text": [
      "Training time: 6.49min"
     ]
    }
   ],
   "source": [
    "t0 = time.time()\n",
    "model = pipeline.fit(train_data_conf1)\n",
    "print(f\"Training time: {(time.time() - t0)/60:.2f}min\")"
   ]
  },
  {
   "cell_type": "code",
   "execution_count": 23,
   "metadata": {
    "tags": []
   },
   "outputs": [
    {
     "data": {
      "application/vnd.jupyter.widget-view+json": {
       "model_id": "",
       "version_major": 2,
       "version_minor": 0
      },
      "text/plain": [
       "FloatProgress(value=0.0, bar_style='info', description='Progress:', layout=Layout(height='25px', width='50%'),…"
      ]
     },
     "metadata": {},
     "output_type": "display_data"
    },
    {
     "name": "stdout",
     "output_type": "stream",
     "text": [
      "Training time: 6.33min"
     ]
    }
   ],
   "source": [
    "t0 = time.time()\n",
    "model = pipeline.fit(train_data_conf2)\n",
    "print(f\"Training time: {(time.time() - t0)/60:.2f}min\")"
   ]
  },
  {
   "cell_type": "code",
   "execution_count": 24,
   "metadata": {
    "tags": []
   },
   "outputs": [
    {
     "data": {
      "application/vnd.jupyter.widget-view+json": {
       "model_id": "",
       "version_major": 2,
       "version_minor": 0
      },
      "text/plain": [
       "FloatProgress(value=0.0, bar_style='info', description='Progress:', layout=Layout(height='25px', width='50%'),…"
      ]
     },
     "metadata": {},
     "output_type": "display_data"
    },
    {
     "name": "stdout",
     "output_type": "stream",
     "text": [
      "Training time: 6.31min"
     ]
    }
   ],
   "source": [
    "t0 = time.time()\n",
    "model = pipeline.fit(train_data_conf3)\n",
    "print(f\"Training time: {(time.time() - t0)/60:.2f}min\")"
   ]
  },
  {
   "cell_type": "code",
   "execution_count": 25,
   "metadata": {
    "tags": []
   },
   "outputs": [
    {
     "data": {
      "application/vnd.jupyter.widget-view+json": {
       "model_id": "",
       "version_major": 2,
       "version_minor": 0
      },
      "text/plain": [
       "FloatProgress(value=0.0, bar_style='info', description='Progress:', layout=Layout(height='25px', width='50%'),…"
      ]
     },
     "metadata": {},
     "output_type": "display_data"
    },
    {
     "name": "stdout",
     "output_type": "stream",
     "text": [
      "Training time: 5.92min"
     ]
    }
   ],
   "source": [
    "t0 = time.time()\n",
    "model = pipeline.fit(train_data_conf4)\n",
    "print(f\"Training time: {(time.time() - t0)/60:.2f}min\")"
   ]
  },
  {
   "cell_type": "code",
   "execution_count": 26,
   "metadata": {
    "tags": []
   },
   "outputs": [
    {
     "data": {
      "application/vnd.jupyter.widget-view+json": {
       "model_id": "",
       "version_major": 2,
       "version_minor": 0
      },
      "text/plain": [
       "FloatProgress(value=0.0, bar_style='info', description='Progress:', layout=Layout(height='25px', width='50%'),…"
      ]
     },
     "metadata": {},
     "output_type": "display_data"
    }
   ],
   "source": [
    "train_data, test_data = df.select(\"text\", \"label\").orderBy(rand()).randomSplit([0.8, 0.2], seed=42)"
   ]
  },
  {
   "cell_type": "code",
   "execution_count": 42,
   "metadata": {
    "tags": []
   },
   "outputs": [
    {
     "data": {
      "application/vnd.jupyter.widget-view+json": {
       "model_id": "",
       "version_major": 2,
       "version_minor": 0
      },
      "text/plain": [
       "FloatProgress(value=0.0, bar_style='info', description='Progress:', layout=Layout(height='25px', width='50%'),…"
      ]
     },
     "metadata": {},
     "output_type": "display_data"
    }
   ],
   "source": [
    "train_data_conf1= train_data.repartition(20)\n",
    "train_data_conf2= train_data.repartition(40)\n",
    "train_data_conf3= train_data.repartition(80)\n",
    "train_data_conf4= train_data.repartition(160)\n",
    "train_data_conf5= train_data.repartition(200)\n",
    "train_data_conf6= train_data.repartition(800)"
   ]
  },
  {
   "cell_type": "code",
   "execution_count": 28,
   "metadata": {
    "tags": []
   },
   "outputs": [
    {
     "data": {
      "application/vnd.jupyter.widget-view+json": {
       "model_id": "",
       "version_major": 2,
       "version_minor": 0
      },
      "text/plain": [
       "FloatProgress(value=0.0, bar_style='info', description='Progress:', layout=Layout(height='25px', width='50%'),…"
      ]
     },
     "metadata": {},
     "output_type": "display_data"
    },
    {
     "name": "stdout",
     "output_type": "stream",
     "text": [
      "Training time: 32.23min"
     ]
    }
   ],
   "source": [
    "t0 = time.time()\n",
    "model = pipeline.fit(train_data_conf1)\n",
    "print(f\"Training time: {(time.time() - t0)/60:.2f}min\")"
   ]
  },
  {
   "cell_type": "code",
   "execution_count": 29,
   "metadata": {
    "tags": []
   },
   "outputs": [
    {
     "data": {
      "application/vnd.jupyter.widget-view+json": {
       "model_id": "",
       "version_major": 2,
       "version_minor": 0
      },
      "text/plain": [
       "FloatProgress(value=0.0, bar_style='info', description='Progress:', layout=Layout(height='25px', width='50%'),…"
      ]
     },
     "metadata": {},
     "output_type": "display_data"
    },
    {
     "name": "stdout",
     "output_type": "stream",
     "text": [
      "Training time: 33.29min"
     ]
    }
   ],
   "source": [
    "t0 = time.time()\n",
    "model = pipeline.fit(train_data_conf2)\n",
    "print(f\"Training time: {(time.time() - t0)/60:.2f}min\")"
   ]
  },
  {
   "cell_type": "code",
   "execution_count": 30,
   "metadata": {
    "tags": []
   },
   "outputs": [
    {
     "data": {
      "application/vnd.jupyter.widget-view+json": {
       "model_id": "",
       "version_major": 2,
       "version_minor": 0
      },
      "text/plain": [
       "FloatProgress(value=0.0, bar_style='info', description='Progress:', layout=Layout(height='25px', width='50%'),…"
      ]
     },
     "metadata": {},
     "output_type": "display_data"
    },
    {
     "name": "stdout",
     "output_type": "stream",
     "text": [
      "Training time: 30.43min"
     ]
    }
   ],
   "source": [
    "t0 = time.time()\n",
    "model = pipeline.fit(train_data_conf3)\n",
    "print(f\"Training time: {(time.time() - t0)/60:.2f}min\")"
   ]
  },
  {
   "cell_type": "code",
   "execution_count": 38,
   "metadata": {
    "tags": []
   },
   "outputs": [
    {
     "data": {
      "application/vnd.jupyter.widget-view+json": {
       "model_id": "",
       "version_major": 2,
       "version_minor": 0
      },
      "text/plain": [
       "FloatProgress(value=0.0, bar_style='info', description='Progress:', layout=Layout(height='25px', width='50%'),…"
      ]
     },
     "metadata": {},
     "output_type": "display_data"
    },
    {
     "name": "stdout",
     "output_type": "stream",
     "text": [
      "Training time: 30.43min"
     ]
    }
   ],
   "source": [
    "t0 = time.time()\n",
    "model = pipeline.fit(train_data_conf4)\n",
    "print(f\"Training time: {(time.time() - t0)/60:.2f}min\")"
   ]
  },
  {
   "cell_type": "code",
   "execution_count": 39,
   "metadata": {
    "tags": []
   },
   "outputs": [
    {
     "data": {
      "application/vnd.jupyter.widget-view+json": {
       "model_id": "",
       "version_major": 2,
       "version_minor": 0
      },
      "text/plain": [
       "FloatProgress(value=0.0, bar_style='info', description='Progress:', layout=Layout(height='25px', width='50%'),…"
      ]
     },
     "metadata": {},
     "output_type": "display_data"
    },
    {
     "name": "stdout",
     "output_type": "stream",
     "text": [
      "Training time: 29.98min"
     ]
    }
   ],
   "source": [
    "t0 = time.time()\n",
    "model = pipeline.fit(train_data_conf5)\n",
    "print(f\"Training time: {(time.time() - t0)/60:.2f}min\")"
   ]
  },
  {
   "cell_type": "code",
   "execution_count": 43,
   "metadata": {
    "tags": []
   },
   "outputs": [
    {
     "data": {
      "application/vnd.jupyter.widget-view+json": {
       "model_id": "",
       "version_major": 2,
       "version_minor": 0
      },
      "text/plain": [
       "FloatProgress(value=0.0, bar_style='info', description='Progress:', layout=Layout(height='25px', width='50%'),…"
      ]
     },
     "metadata": {},
     "output_type": "display_data"
    },
    {
     "name": "stdout",
     "output_type": "stream",
     "text": [
      "Training time: 32.27min"
     ]
    }
   ],
   "source": [
    "t0 = time.time()\n",
    "model = pipeline.fit(train_data_conf6)\n",
    "print(f\"Training time: {(time.time() - t0)/60:.2f}min\")"
   ]
  },
  {
   "cell_type": "code",
   "execution_count": null,
   "metadata": {
    "tags": []
   },
   "outputs": [],
   "source": [
    "%%configure -f\n",
    "{\"conf\": {\n",
    "        \"spark.sql.warehouse.dir\" : \"s3a://dataops-example/justin\",\n",
    "        \"spark.hadoop.fs.s3a.access.key\":\"\",\n",
    "        \"spark.hadoop.fs.s3a.secret.key\": \"\",\n",
    "        \"spark.serializer\": \"org.apache.spark.serializer.KryoSerializer\", \n",
    "        \"spark.kryoserializer.buffer.max\": \"2000M\",\n",
    "        \"spark.driver.maxResultSize\": \"0\",\n",
    "        \"spark.kubernetes.container.image\": \"justinljg/dep:1.06\",\n",
    "        \"spark.kubernetes.container.image.pullPolicy\" : \"Always\",\n",
    "        \"spark.jsl.settings.pretrained.cache_folder\": \"/opt/spark/work-dir\",\n",
    "        \"spark.kubernetes.driver.volumes.persistentVolumeClaim.lighter-sparknlptest-pvc.options.claimName\": \"lighter-sparknlptest-pvc\",\n",
    "        \"spark.kubernetes.driver.volumes.persistentVolumeClaim.lighter-sparknlptest-pvc.mount.path\": \"/opt/spark/work-dir\",\n",
    "        \"spark.kubernetes.executor.volumes.persistentVolumeClaim.lighter-sparknlptest-pvc.options.claimName\": \"lighter-sparknlptest-pvc\",\n",
    "        \"spark.kubernetes.executor.volumes.persistentVolumeClaim.lighter-sparknlptest-pvc.mount.path\": \"/opt/spark/work-dir\",\n",
    "        \"spark.jsl.settings.annotator.log_folder\": \"/opt/spark/work-dir/logs\",\n",
    "        \"spark.dynamicAllocation.enabled\": \"true\",\n",
    "        \"spark.dynamicAllocation.shuffleTracking.enabled\": \"true\",\n",
    "        \"spark.dynamicAllocation.minExecutors\": \"2\",\n",
    "        \"spark.dynamicAllocation.maxExecutors\": \"10\"\n",
    "    },\n",
    " \"executorMemory\": \"3G\",\n",
    " \"executorCores\": 4,\n",
    " \"driverMemory\": \"16G\",\n",
    " \"driverCores\": 2\n",
    "}"
   ]
  },
  {
   "cell_type": "code",
   "execution_count": 7,
   "metadata": {
    "tags": []
   },
   "outputs": [
    {
     "data": {
      "application/vnd.jupyter.widget-view+json": {
       "model_id": "",
       "version_major": 2,
       "version_minor": 0
      },
      "text/plain": [
       "FloatProgress(value=0.0, bar_style='info', description='Progress:', layout=Layout(height='25px', width='50%'),…"
      ]
     },
     "metadata": {},
     "output_type": "display_data"
    }
   ],
   "source": [
    "train_data, test_data = df.select(\"text\", \"label\").orderBy(rand()).randomSplit([0.8, 0.2], seed=42)"
   ]
  },
  {
   "cell_type": "code",
   "execution_count": 8,
   "metadata": {
    "tags": []
   },
   "outputs": [
    {
     "data": {
      "application/vnd.jupyter.widget-view+json": {
       "model_id": "",
       "version_major": 2,
       "version_minor": 0
      },
      "text/plain": [
       "FloatProgress(value=0.0, bar_style='info', description='Progress:', layout=Layout(height='25px', width='50%'),…"
      ]
     },
     "metadata": {},
     "output_type": "display_data"
    }
   ],
   "source": [
    "train_data_conf4= train_data.repartition(160)"
   ]
  },
  {
   "cell_type": "code",
   "execution_count": 9,
   "metadata": {
    "tags": []
   },
   "outputs": [
    {
     "data": {
      "application/vnd.jupyter.widget-view+json": {
       "model_id": "",
       "version_major": 2,
       "version_minor": 0
      },
      "text/plain": [
       "FloatProgress(value=0.0, bar_style='info', description='Progress:', layout=Layout(height='25px', width='50%'),…"
      ]
     },
     "metadata": {},
     "output_type": "display_data"
    },
    {
     "name": "stdout",
     "output_type": "stream",
     "text": [
      "Training time: 51.18min"
     ]
    }
   ],
   "source": [
    "t0 = time.time()\n",
    "model = pipeline.fit(train_data_conf4)\n",
    "print(f\"Training time: {(time.time() - t0)/60:.2f}min\")"
   ]
  }
 ],
 "metadata": {
  "kernelspec": {
   "display_name": "PySpark",
   "language": "python",
   "name": "pysparkkernel"
  },
  "language_info": {
   "codemirror_mode": {
    "name": "python",
    "version": 3
   },
   "file_extension": ".py",
   "mimetype": "text/x-python",
   "name": "pyspark",
   "pygments_lexer": "python3"
  }
 },
 "nbformat": 4,
 "nbformat_minor": 4
}
