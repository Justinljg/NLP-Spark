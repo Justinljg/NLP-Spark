{
 "cells": [
  {
   "attachments": {},
   "cell_type": "markdown",
   "metadata": {},
   "source": [
    "## Data Cleaning<a id=\"data-cleaning\"></a>\n",
    "![picture](img/picture7.png)\n",
    "The notebook will mainly clean the data for EDA and visualisation as the tokenizer generally will prepare the data for training.\n",
    "\n",
    "### Content\n",
    "* Cleaning of missing data and Duplicates\n",
    "* Resetting the index\n",
    "* Feature Creation length of text\n",
    "* Using udf for special characters and stop words\n",
    "* Exploding cleaned text to get individual words\n",
    "* Final creation of gold table for visualisation and modelling usage\n",
    "### Objective\n",
    "* To demonstrate some of the cleaning that a nlp user might need "
   ]
  },
  {
   "cell_type": "code",
   "execution_count": 1,
   "metadata": {
    "tags": []
   },
   "outputs": [],
   "source": [
    "%_do_not_call_change_endpoint --username  --password  --server https://lighter-staging.vbrani.aisingapore.net/lighter/api  "
   ]
  },
  {
   "attachments": {},
   "cell_type": "markdown",
   "metadata": {},
   "source": [
    "### Explanation of the need for PV<a id=\"dc1\"></a>\n",
    "This project involves hosting the Spark kernel and Jupyter Notebook on Kubernetes, where each has its own working directory and cache. However, this approach can lead to inefficiencies and limitations, as the code would write into the Spark kernel directory but read from the Jupyterlab directory. To resolve this issue, we have created a persistent volume that acts as a shared storage between both deployments. \n",
    "\n",
    "![picture](img/picture16.png)\n",
    "\n",
    "In a Kubernetes cluster, managing storage is a different problem than managing compute instances. To address this, the PersistentVolume subsystem provides an API that abstracts the details of how storage is provided from how it is consumed. The subsystem introduces two new API resources: PersistentVolume and PersistentVolumeClaim.\n",
    "\n",
    "A PersistentVolume (PV) is a piece of storage in the cluster that is either provisioned by an administrator or dynamically provisioned using Storage Classes. PVs are volume plugins and have a lifecycle independent of any Pod that uses the PV. This API object captures the details of the implementation of the storage, such as NFS, iSCSI, or cloud-provider-specific storage.\n",
    "\n",
    "A PersistentVolumeClaim (PVC) is a request for storage by a user, similar to a Pod. PVCs consume PV resources, and users can request specific size and access modes. For a deeper understanding, please refer to this [link](https://kubernetes.io/docs/concepts/storage/persistent-volumes/) where the content was referenced from."
   ]
  },
  {
   "attachments": {},
   "cell_type": "markdown",
   "metadata": {},
   "source": [
    "### Additional configs for PV in Spark Configuration<a id=\"dc2\"></a>\n",
    "\n",
    "Thus, in the spark config we have four additional lines 2 for the executors and 2 for the drivers for the PVC."
   ]
  },
  {
   "cell_type": "code",
   "execution_count": null,
   "metadata": {
    "tags": []
   },
   "outputs": [],
   "source": [
    "%%configure -f\n",
    "{\"conf\": {\n",
    "        \"spark.sql.warehouse.dir\" : \"s3a://dataops-example/nlp\",\n",
    "        \"spark.hadoop.fs.s3a.access.key\":\"\",\n",
    "        \"spark.hadoop.fs.s3a.secret.key\": \"\",\n",
    "        \"spark.kubernetes.container.image\": \"justinljg/dep:1.08\",\n",
    "        \"spark.kubernetes.container.image.pullPolicy\" : \"Always\",\n",
    "        \"spark.kubernetes.driver.volumes.persistentVolumeClaim.lighter-sparknlptest-pvc.options.claimName\": \"lighter-sparknlptest-pvc\",\n",
    "        \"spark.kubernetes.driver.volumes.persistentVolumeClaim.lighter-sparknlptest-pvc.mount.path\": \"/opt/spark/work-dir\",\n",
    "        \"spark.kubernetes.executor.volumes.persistentVolumeClaim.lighter-sparknlptest-pvc.options.claimName\": \"lighter-sparknlptest-pvc\",\n",
    "        \"spark.kubernetes.executor.volumes.persistentVolumeClaim.lighter-sparknlptest-pvc.mount.path\": \"/opt/spark/work-dir\",\n",
    "        \"spark.jars.packages\": \"io.delta:delta-core_2.12:2.1.0,za.co.absa.spline.agent.spark:spark-3.0-spline-agent-bundle_2.12:1.1.0\",\n",
    "        \"spark.sql.queryExecutionListeners\": \"za.co.absa.spline.harvester.listener.SplineQueryExecutionListener\",\n",
    "        \"spark.spline.producer.url\": \"http://172.19.152.160:8080/producer\"\n",
    "    },\n",
    " \"executorMemory\": \"3G\",\n",
    " \"executorCores\": 1,\n",
    " \"driverMemory\": \"3G\",\n",
    " \"driverCores\": 1\n",
    "}"
   ]
  },
  {
   "attachments": {},
   "cell_type": "markdown",
   "metadata": {},
   "source": [
    "### Additional configs for data lineage in Spark\n",
    "\n",
    "These lines will apply a data lineage monitoring. This uses spline and the UI is available as a ui at http://172.19.152.160:9090/app/events/list.\n",
    "\n",
    "```\n",
    "\"spark.jars.packages\": \"io.delta:delta-core_2.12:2.1.0,za.co.absa.spline.agent.spark:spark-3.0-spline-agent-bundle_2.12:1.1.0\",\n",
    "\"spark.sql.queryExecutionListeners\": \"za.co.absa.spline.harvester.listener.SplineQueryExecutionListener\",\n",
    "\"spark.spline.producer.url\": \"http://172.19.152.160:8080/producer\"\n",
    "```\n",
    "\n",
    "![picture](img/picture21.png)"
   ]
  },
  {
   "cell_type": "code",
   "execution_count": null,
   "metadata": {
    "tags": []
   },
   "outputs": [],
   "source": [
    "import re\n",
    "import time\n",
    "\n",
    "import nltk\n",
    "from nltk.corpus import stopwords\n",
    "from nltk.stem import PorterStemmer, WordNetLemmatizer\n",
    "from nltk.tokenize.toktok import ToktokTokenizer\n",
    "\n",
    "import pyspark\n",
    "from pyspark.sql.functions import col, monotonically_increasing_id, udf\n",
    "from pyspark.sql.types import ArrayType, StringType"
   ]
  },
  {
   "cell_type": "code",
   "execution_count": 4,
   "metadata": {
    "tags": []
   },
   "outputs": [
    {
     "data": {
      "application/vnd.jupyter.widget-view+json": {
       "model_id": "",
       "version_major": 2,
       "version_minor": 0
      },
      "text/plain": [
       "FloatProgress(value=0.0, bar_style='info', description='Progress:', layout=Layout(height='25px', width='50%'),…"
      ]
     },
     "metadata": {},
     "output_type": "display_data"
    },
    {
     "data": {
      "application/vnd.jupyter.widget-view+json": {
       "model_id": "5112e004332a4bc294fd67de1cc79c70",
       "version_major": 2,
       "version_minor": 0
      },
      "text/plain": [
       "VBox(children=(HBox(), EncodingWidget(children=(VBox(children=(HTML(value='Encoding:'), Dropdown(description='…"
      ]
     },
     "metadata": {},
     "output_type": "display_data"
    },
    {
     "data": {
      "application/vnd.jupyter.widget-view+json": {
       "model_id": "2a2033b6148846af97ab91951f5ede07",
       "version_major": 2,
       "version_minor": 0
      },
      "text/plain": [
       "Output()"
      ]
     },
     "metadata": {},
     "output_type": "display_data"
    }
   ],
   "source": [
    "%%sql\n",
    "\n",
    "USE SparkNLP;"
   ]
  },
  {
   "cell_type": "code",
   "execution_count": 5,
   "metadata": {
    "tags": []
   },
   "outputs": [
    {
     "data": {
      "application/vnd.jupyter.widget-view+json": {
       "model_id": "",
       "version_major": 2,
       "version_minor": 0
      },
      "text/plain": [
       "FloatProgress(value=0.0, bar_style='info', description='Progress:', layout=Layout(height='25px', width='50%'),…"
      ]
     },
     "metadata": {},
     "output_type": "display_data"
    },
    {
     "data": {
      "application/vnd.jupyter.widget-view+json": {
       "model_id": "25caadd933cd44a9aa615902d79bcfdf",
       "version_major": 2,
       "version_minor": 0
      },
      "text/plain": [
       "VBox(children=(HBox(children=(HTML(value='Type:'), Button(description='Table', layout=Layout(width='70px'), st…"
      ]
     },
     "metadata": {},
     "output_type": "display_data"
    },
    {
     "data": {
      "application/vnd.jupyter.widget-view+json": {
       "model_id": "68b6260d5b0e419b95555cf17d58eb63",
       "version_major": 2,
       "version_minor": 0
      },
      "text/plain": [
       "Output()"
      ]
     },
     "metadata": {},
     "output_type": "display_data"
    }
   ],
   "source": [
    "%%sql\n",
    "\n",
    "SHOW TABLES;"
   ]
  },
  {
   "cell_type": "code",
   "execution_count": 6,
   "metadata": {
    "tags": []
   },
   "outputs": [
    {
     "data": {
      "application/vnd.jupyter.widget-view+json": {
       "model_id": "",
       "version_major": 2,
       "version_minor": 0
      },
      "text/plain": [
       "FloatProgress(value=0.0, bar_style='info', description='Progress:', layout=Layout(height='25px', width='50%'),…"
      ]
     },
     "metadata": {},
     "output_type": "display_data"
    },
    {
     "name": "stdout",
     "output_type": "stream",
     "text": [
      "+-----+-------------------+--------------------+-------------+------+--------------------------------------------------------------------------------------------------------------------------------------------------------------------------------------------------------------------------------------------------------------------------------------------------------------------------------+----+-------------------------------------------------------------------------------------+-------------------------------------+----+----+----+----+----+----+----+\n",
      "|index|userid             |name                |time         |rating|text                                                                                                                                                                                                                                                                                                                            |pics|resp                                                                                 |gmap_id                              |_c9 |_c10|_c11|_c12|_c13|_c14|_c15|\n",
      "+-----+-------------------+--------------------+-------------+------+--------------------------------------------------------------------------------------------------------------------------------------------------------------------------------------------------------------------------------------------------------------------------------------------------------------------------------+----+-------------------------------------------------------------------------------------+-------------------------------------+----+----+----+----+----+----+----+\n",
      "|0    |1.07906906955291E20|Rubia Bella         |1601590520320|5     |Very good! Will eat here again! ☺️😍                                                                                                                                                                                                                                                                                            |null|{'time': 1602371857761, 'text': 'Hope to see you back again thanks for the feedback'}|0x89e44fe1c2a2a2c3:0x5fc9f6751fb29737|null|null|null|null|null|null|null|\n",
      "|1    |1.16735009919666E20|angel olivencia     |1602983693555|4     |Not bad place... good food                                                                                                                                                                                                                                                                                                      |null|null                                                                                 |0x89e44fe1c2a2a2c3:0x5fc9f6751fb29737|null|null|null|null|null|null|null|\n",
      "|2    |1.05746891382333E20|Daniel Reggiani     |1603064156784|5     |Really good food                                                                                                                                                                                                                                                                                                                |null|null                                                                                 |0x89e44fe1c2a2a2c3:0x5fc9f6751fb29737|null|null|null|null|null|null|null|\n",
      "|3    |1.16728227707438E20|Joseph “Joe” Solomon|1600710962505|5     |Great people and food                                                                                                                                                                                                                                                                                                           |null|{'time': 1602371881382, 'text': 'Thanks for the feedback'}                           |0x89e44fe1c2a2a2c3:0x5fc9f6751fb29737|null|null|null|null|null|null|null|\n",
      "|4    |1.11306322994544E20|Julio Robinson      |1601408236165|5     |null                                                                                                                                                                                                                                                                                                                            |null|{'time': 1602371865572, 'text': '🙏🏼'}                                              |0x89e44fe1c2a2a2c3:0x5fc9f6751fb29737|null|null|null|null|null|null|null|\n",
      "|5    |1.15712451150692E20|Lindsay Gavin       |1629827190525|5     |The people here are great!                                                                                                                                                                                                                                                                                                      |null|null                                                                                 |0x89e447136ec8abd7:0x577aa2b93b2c4754|null|null|null|null|null|null|null|\n",
      "|6    |1.04143164045993E20|Anne Ciaccio        |1605030375042|5     |We have been working with Rob C since we bought our first house last year.  He is professional, responsive and goes above and beyond to help us with any issues that come up. He takes his time to answer all questions. Would highly recommend him and Zelano Insurance to anyone who is looking/in need of an insurance agent.|null|null                                                                                 |0x89e447136ec8abd7:0x577aa2b93b2c4754|null|null|null|null|null|null|null|\n",
      "|7    |1.15219651458068E20|Edward Eramian      |1552924556974|5     |We are long time customers and the excellent service is why. Professional service, always available and competitive rates. Highly recommend then to family and friends.                                                                                                                                                         |null|null                                                                                 |0x89e447136ec8abd7:0x577aa2b93b2c4754|null|null|null|null|null|null|null|\n",
      "|8    |1.08205543190458E20|Sarah Ross          |1548272445091|5     |Best company around, very friendly and helpful. They are very knowledgeable in every area of insurance. They go above and beyond for their clients.                                                                                                                                                                             |null|null                                                                                 |0x89e447136ec8abd7:0x577aa2b93b2c4754|null|null|null|null|null|null|null|\n",
      "|9    |1.17464790641239E20|Demetria O'Neill    |1550370283100|5     |Professional staff friendly and great to work with, highly recommend                                                                                                                                                                                                                                                            |null|null                                                                                 |0x89e447136ec8abd7:0x577aa2b93b2c4754|null|null|null|null|null|null|null|\n",
      "|10   |1.00287513293946E20|Peter Kenahan       |1515432614196|5     |Top notch agency. Excellent staff and service.                                                                                                                                                                                                                                                                                  |null|null                                                                                 |0x89e447136ec8abd7:0x577aa2b93b2c4754|null|null|null|null|null|null|null|\n",
      "|11   |1.11382047841803E20|Glen Boisvert       |1543712943465|5     |Great people Anthony Jr did great with my insurance                                                                                                                                                                                                                                                                             |null|null                                                                                 |0x89e447136ec8abd7:0x577aa2b93b2c4754|null|null|null|null|null|null|null|\n",
      "|12   |1.00287513293946E20|Peter Kenahan       |1515432614196|5     |Top notch agency. Excellent staff and service.                                                                                                                                                                                                                                                                                  |null|null                                                                                 |0x89e447136ec8abd7:0x577aa2b93b2c4754|null|null|null|null|null|null|null|\n",
      "|13   |1.10677906570493E20|Yrisel Paez Chacon  |1545245936685|5     |amazing people to work with                                                                                                                                                                                                                                                                                                     |null|null                                                                                 |0x89e447136ec8abd7:0x577aa2b93b2c4754|null|null|null|null|null|null|null|\n",
      "|14   |1.1439517872881E20 |Anthony C           |1508113558394|5     |The staff is helpful to have my coffee ready.They made sure I was recognized and served promptly. A nice attitude. I like that and I recommend others to consider this establishment.                                                                                                                                           |null|null                                                                                 |0x89e44489cbeccc03:0xd3b75bf4e9a39824|null|null|null|null|null|null|null|\n",
      "|15   |1.00304662209342E20|Jeremy Holliday     |1554380335874|5     |I walk in and don't even have to barely speak anymore they all know what I get every morning, it's great very personable lovely ladies in the morning                                                                                                                                                                           |null|null                                                                                 |0x89e44489cbeccc03:0xd3b75bf4e9a39824|null|null|null|null|null|null|null|\n",
      "|16   |1.1039871628941E20 |Shelly              |1551723937761|5     |Mornings are the best time to come here; Quick, always delicious coffee and food, and the best customer service around.                                                                                                                                                                                                         |null|null                                                                                 |0x89e44489cbeccc03:0xd3b75bf4e9a39824|null|null|null|null|null|null|null|\n",
      "|17   |1.09977314916263E20|Claudia Threats     |1558985251296|5     |Very fresh the donuts.                                                                                                                                                                                                                                                                                                          |null|null                                                                                 |0x89e44489cbeccc03:0xd3b75bf4e9a39824|null|null|null|null|null|null|null|\n",
      "|18   |1.07802122807112E20|Vannessa Roy        |1558732733972|2     |My Coffee is never consistent and didnt like seeing all the guys that work there have long beards working with you food it's disgusting actually                                                                                                                                                                                |null|null                                                                                 |0x89e44489cbeccc03:0xd3b75bf4e9a39824|null|null|null|null|null|null|null|\n",
      "|19   |1.12390948973993E20|Samudra Tear        |1620736666748|5     |It is a good school you get to choose your program for all 4 years and depending on the program you get to have a free Associate degree. They help you get into a great college.                                                                                                                                                |null|null                                                                                 |0x89e445717809a5ad:0x3a5d284053d4b16b|null|null|null|null|null|null|null|\n",
      "+-----+-------------------+--------------------+-------------+------+--------------------------------------------------------------------------------------------------------------------------------------------------------------------------------------------------------------------------------------------------------------------------------------------------------------------------------+----+-------------------------------------------------------------------------------------+-------------------------------------+----+----+----+----+----+----+----+\n",
      "only showing top 20 rows"
     ]
    }
   ],
   "source": [
    "df = spark.read.table(\"greview_table_bronze\")\n",
    "df.show(truncate=False)"
   ]
  },
  {
   "attachments": {},
   "cell_type": "markdown",
   "metadata": {},
   "source": [
    "## Cleaning of missing data and Duplicates\n",
    "\n",
    "This portion of code removes missing data and duplicates. The Distinct selects unique data and the where adds a condition that the columns cannot be NULL.\n",
    "\n",
    "[Example (DISTINCT)](https://www.w3schools.com/sql/sql_distinct.asp), [Example (WHERE)](https://www.w3schools.com/sql/sql_where.asp)"
   ]
  },
  {
   "cell_type": "code",
   "execution_count": 7,
   "metadata": {
    "tags": []
   },
   "outputs": [
    {
     "data": {
      "application/vnd.jupyter.widget-view+json": {
       "model_id": "",
       "version_major": 2,
       "version_minor": 0
      },
      "text/plain": [
       "FloatProgress(value=0.0, bar_style='info', description='Progress:', layout=Layout(height='25px', width='50%'),…"
      ]
     },
     "metadata": {},
     "output_type": "display_data"
    },
    {
     "data": {
      "application/vnd.jupyter.widget-view+json": {
       "model_id": "a65c998c60984dd3bc18aa8499cae384",
       "version_major": 2,
       "version_minor": 0
      },
      "text/plain": [
       "VBox(children=(HBox(), EncodingWidget(children=(VBox(children=(HTML(value='Encoding:'), Dropdown(description='…"
      ]
     },
     "metadata": {},
     "output_type": "display_data"
    },
    {
     "data": {
      "application/vnd.jupyter.widget-view+json": {
       "model_id": "ee3c17b1215241789daba4b729fb59a1",
       "version_major": 2,
       "version_minor": 0
      },
      "text/plain": [
       "Output()"
      ]
     },
     "metadata": {},
     "output_type": "display_data"
    }
   ],
   "source": [
    "%%sql\n",
    "\n",
    "CREATE OR REPLACE TEMP VIEW greview_view_silver AS\n",
    "SELECT DISTINCT index, userid, time, rating, text, gmap_id \n",
    "FROM greview_table_bronze\n",
    "WHERE index IS NOT NULL\n",
    "  AND userid IS NOT NULL\n",
    "  AND time IS NOT NULL\n",
    "  AND rating IS NOT NULL\n",
    "  AND text IS NOT NULL\n",
    "  AND gmap_id IS NOT NULL;"
   ]
  },
  {
   "cell_type": "code",
   "execution_count": 8,
   "metadata": {
    "tags": []
   },
   "outputs": [
    {
     "data": {
      "application/vnd.jupyter.widget-view+json": {
       "model_id": "",
       "version_major": 2,
       "version_minor": 0
      },
      "text/plain": [
       "FloatProgress(value=0.0, bar_style='info', description='Progress:', layout=Layout(height='25px', width='50%'),…"
      ]
     },
     "metadata": {},
     "output_type": "display_data"
    }
   ],
   "source": [
    "df = spark.read.table(\"greview_view_silver\")"
   ]
  },
  {
   "cell_type": "code",
   "execution_count": 9,
   "metadata": {
    "tags": []
   },
   "outputs": [
    {
     "data": {
      "application/vnd.jupyter.widget-view+json": {
       "model_id": "",
       "version_major": 2,
       "version_minor": 0
      },
      "text/plain": [
       "FloatProgress(value=0.0, bar_style='info', description='Progress:', layout=Layout(height='25px', width='50%'),…"
      ]
     },
     "metadata": {},
     "output_type": "display_data"
    },
    {
     "name": "stdout",
     "output_type": "stream",
     "text": [
      "+-----+-------------------+-------------+------+-----------------------------------------------------------------------------------------------------------------------------------------------------------------------------------------------------------------------------------------------------------------------------------------------------------------------------------------------------------------------------------------------------------------------------------------------------------------------------------------------------------------------------------------------------------------------------------------------------------------------------------------------------------------------------------------------------------------------------------------------------------------------+-------------------------------------+\n",
      "|index|userid             |time         |rating|text                                                                                                                                                                                                                                                                                                                                                                                                                                                                                                                                                                                                                                                                                                                                                                   |gmap_id                              |\n",
      "+-----+-------------------+-------------+------+-----------------------------------------------------------------------------------------------------------------------------------------------------------------------------------------------------------------------------------------------------------------------------------------------------------------------------------------------------------------------------------------------------------------------------------------------------------------------------------------------------------------------------------------------------------------------------------------------------------------------------------------------------------------------------------------------------------------------------------------------------------------------+-------------------------------------+\n",
      "|373  |1.00375562470584E20|1551482359990|5     |Beautiful lash salon. Get LASHED BY ROBIN she's EXCELLENT.  MAKE AN APPOINTMENT WITH ROBIN YOU'LL BE GLAD YOU DID !!!                                                                                                                                                                                                                                                                                                                                                                                                                                                                                                                                                                                                                                                  |0x89e44fbe8468bd61:0xcf553e336f371dd1|\n",
      "|863  |1.02084872380929E20|1527994996256|5     |Really great staff                                                                                                                                                                                                                                                                                                                                                                                                                                                                                                                                                                                                                                                                                                                                                     |0x89e44b7314299e6d:0x332d24b990d428a9|\n",
      "|1954 |1.06475430209834E20|1592861452419|5     |Needed a printer and every store on earth is sold out of anything under $160.   They went above and beyond to help me even though I was grumpy.  Walked out with one that was exactly what I needed plus some paper and ink.  I wish I got their names... there were two girls and a guy.   Thank you everyone :-)                                                                                                                                                                                                                                                                                                                                                                                                                                                     |0x89e5b6a76e153aab:0x2dc868a45dc69f4b|\n",
      "|2239 |1.13174529347615E20|1529489043581|1     |these people actually told me before that they didnt have any 800mg Ibprophen in store at all when I had filled a script of it the same day and got pickup confirmation call. All of a sudden when I made a stink about it they found some and had to bottle it up fast. Truly a fishy pharmacy. Use N. Smithfield location if you can.                                                                                                                                                                                                                                                                                                                                                                                                                                |0x89e46bd523ffc6e5:0x58d4d12d55eb382e|\n",
      "|2244 |1.08341670504029E20|1546105263700|5     |Like the prices                                                                                                                                                                                                                                                                                                                                                                                                                                                                                                                                                                                                                                                                                                                                                        |0x89e46bd523ffc6e5:0x58d4d12d55eb382e|\n",
      "|2630 |1.10859058112951E20|1623470415822|5     |It was 5:30 PM on Sunday when I checked my U Haul drop off’s location and realized that along with almost every other, it had closed by 5 PM. By 5:45 I had given up on scheduling an after hours pickup and noticed Rumford Food Mart & Deli accepted trucks for another 15 minutes. I asked if I could drop off the truck soon, between 6:20 and 6:30. The manager asked what kind of truck, then agreed. I threw my bike in the back and rushed to the store. As I arrived and he began the inspection process, I realized the drop off hours coincided with the store hours. The manager had stayed past closing 30 minutes just to help me without a second thought. I have not had the food but I cannot recommend the service enough. Please support this store.|0x89e45b11aebdd10d:0x32412768486b9847|\n",
      "|2725 |1.07933588337831E20|1567855956605|5     |Great spot                                                                                                                                                                                                                                                                                                                                                                                                                                                                                                                                                                                                                                                                                                                                                             |0x89e443513626146b:0x71ddf72794b1d8c |\n",
      "|2911 |1.04666737915832E20|1624761989808|5     |Gary rocks! He is THE best jeweler.                                                                                                                                                                                                                                                                                                                                                                                                                                                                                                                                                                                                                                                                                                                                    |0x89e44451680a44af:0x9a908ca4603419e2|\n",
      "|3030 |1.00750760747323E20|1561133985967|5     |All your new and used Lego sets and parts .....great place for children's partys                                                                                                                                                                                                                                                                                                                                                                                                                                                                                                                                                                                                                                                                                       |0x89e447740ed0fb0b:0xbc92bdff23216277|\n",
      "|3265 |1.04109495888523E20|1514754899238|5     |I love they way they do eyebrows here waxing, or threading it comes out beautiful.                                                                                                                                                                                                                                                                                                                                                                                                                                                                                                                                                                                                                                                                                     |0x89e4459df51eac23:0x637d738cf412b566|\n",
      "|3793 |1.11663167092283E20|1539965918121|4     |Great service and prices                                                                                                                                                                                                                                                                                                                                                                                                                                                                                                                                                                                                                                                                                                                                               |0x89e44fab9e93d219:0x4d3765343e5334ee|\n",
      "|5331 |1.10030017654459E20|1569843116109|5     |Great service. Great people.                                                                                                                                                                                                                                                                                                                                                                                                                                                                                                                                                                                                                                                                                                                                           |0x89e44e827e47ecc1:0xf715a0fdead37bb5|\n",
      "|5349 |1.07225123580054E20|1536860285960|5     |Personable lawyer. Friendly and answered my emails quickly. Thanks for everything.                                                                                                                                                                                                                                                                                                                                                                                                                                                                                                                                                                                                                                                                                     |0x89e44517715b005b:0x4fc6dd43fb983124|\n",
      "|5548 |1.1538227072982E20 |1604470501269|5     |Got some keys made. Very helpful thank you very much.                                                                                                                                                                                                                                                                                                                                                                                                                                                                                                                                                                                                                                                                                                                  |0x89e445e14d30c2ef:0xb95b1a7525a78d25|\n",
      "|6739 |1.11513398224469E20|1560816688208|5     |Great service                                                                                                                                                                                                                                                                                                                                                                                                                                                                                                                                                                                                                                                                                                                                                          |0x89e44cca2e2eba87:0x31785d391d281238|\n",
      "|7078 |1.15896664783367E20|1495408039486|5     |They were having a going out of business sale and salesman Scott was awesome I shopped until I dropped best sale ever 90% off all accessories made out lovely.                                                                                                                                                                                                                                                                                                                                                                                                                                                                                                                                                                                                         |0x89e44becaf63f395:0xdd7f8b64e6a23210|\n",
      "|7185 |1.16664246505433E20|1541619908455|2     |30 min to top up my phone. The guys were great, the system though....                                                                                                                                                                                                                                                                                                                                                                                                                                                                                                                                                                                                                                                                                                  |0x89e5aed0df0d09d1:0x69200fe853b0adf9|\n",
      "|7221 |1.08336050150065E20|1594296046860|5     |Great to work with & very honest                                                                                                                                                                                                                                                                                                                                                                                                                                                                                                                                                                                                                                                                                                                                       |0x89e5b908675d8e79:0x483dc9d07272c72 |\n",
      "|7804 |1.11810850492723E20|1582938489311|5     |Good selection of books and the man who runs the shop is very knowledgeable                                                                                                                                                                                                                                                                                                                                                                                                                                                                                                                                                                                                                                                                                            |0x89e445165f076aaf:0xa24726e429e47d1e|\n",
      "|8209 |1.063106597692E20  |1583695277556|5     |Cookies has been the same for over 50 years and thats the way I like it. Every turn is a treasure hunt for a unique and exciting find. Weather it is a exquisite jade fountain pen with a story, a rare collectors typewriter, or beautiful tea cups from a long gone era, always a pleasure to visit with the owner by her rustic wood stove and share a coffee, swap stories and a smile. A must whenever i am in Exeter, RI.                                                                                                                                                                                                                                                                                                                                        |0x89e5c92548c1eeed:0x57da52c7bb040d20|\n",
      "+-----+-------------------+-------------+------+-----------------------------------------------------------------------------------------------------------------------------------------------------------------------------------------------------------------------------------------------------------------------------------------------------------------------------------------------------------------------------------------------------------------------------------------------------------------------------------------------------------------------------------------------------------------------------------------------------------------------------------------------------------------------------------------------------------------------------------------------------------------------+-------------------------------------+\n",
      "only showing top 20 rows"
     ]
    }
   ],
   "source": [
    "df.show(truncate=False)"
   ]
  },
  {
   "attachments": {},
   "cell_type": "markdown",
   "metadata": {},
   "source": [
    "This line of code counts for any null values for the columns specified.\n",
    "\n",
    "[Example (COUNT)](https://www.w3schools.com/sql/sql_count_avg_sum.asp)"
   ]
  },
  {
   "cell_type": "code",
   "execution_count": 10,
   "metadata": {
    "tags": []
   },
   "outputs": [
    {
     "data": {
      "application/vnd.jupyter.widget-view+json": {
       "model_id": "",
       "version_major": 2,
       "version_minor": 0
      },
      "text/plain": [
       "FloatProgress(value=0.0, bar_style='info', description='Progress:', layout=Layout(height='25px', width='50%'),…"
      ]
     },
     "metadata": {},
     "output_type": "display_data"
    },
    {
     "data": {
      "application/vnd.jupyter.widget-view+json": {
       "model_id": "fa351ab63731409d88aab6c3a2ab20ee",
       "version_major": 2,
       "version_minor": 0
      },
      "text/plain": [
       "VBox(children=(HBox(children=(HTML(value='Type:'), Button(description='Table', layout=Layout(width='70px'), st…"
      ]
     },
     "metadata": {},
     "output_type": "display_data"
    },
    {
     "data": {
      "application/vnd.jupyter.widget-view+json": {
       "model_id": "e84c8e59082e4e2998643660e68c98ad",
       "version_major": 2,
       "version_minor": 0
      },
      "text/plain": [
       "Output()"
      ]
     },
     "metadata": {},
     "output_type": "display_data"
    }
   ],
   "source": [
    "%%sql\n",
    "\n",
    "SELECT COUNT(*) FROM greview_view_silver\n",
    "WHERE index IS NULL\n",
    "OR userid IS NULL\n",
    "OR time IS NULL\n",
    "OR rating IS NULL\n",
    "OR text IS NULL\n",
    "OR gmap_id IS NULL;"
   ]
  },
  {
   "cell_type": "code",
   "execution_count": 11,
   "metadata": {
    "tags": []
   },
   "outputs": [
    {
     "data": {
      "application/vnd.jupyter.widget-view+json": {
       "model_id": "",
       "version_major": 2,
       "version_minor": 0
      },
      "text/plain": [
       "FloatProgress(value=0.0, bar_style='info', description='Progress:', layout=Layout(height='25px', width='50%'),…"
      ]
     },
     "metadata": {},
     "output_type": "display_data"
    },
    {
     "data": {
      "application/vnd.jupyter.widget-view+json": {
       "model_id": "f64230c28edf408eafafc69f12f40ffc",
       "version_major": 2,
       "version_minor": 0
      },
      "text/plain": [
       "VBox(children=(HBox(children=(HTML(value='Type:'), Button(description='Table', layout=Layout(width='70px'), st…"
      ]
     },
     "metadata": {},
     "output_type": "display_data"
    },
    {
     "data": {
      "application/vnd.jupyter.widget-view+json": {
       "model_id": "10b6e40c0fcb4672aa970eaa45a7f603",
       "version_major": 2,
       "version_minor": 0
      },
      "text/plain": [
       "Output()"
      ]
     },
     "metadata": {},
     "output_type": "display_data"
    }
   ],
   "source": [
    "%%sql\n",
    "\n",
    "SELECT count(*) FROM greview_view_silver;"
   ]
  },
  {
   "attachments": {},
   "cell_type": "markdown",
   "metadata": {},
   "source": [
    "# Resetting the index\n",
    "\n",
    "As seen earlier, the index column is affected as it selects data from specific index so the index has jumps like (e.g. 371,1081,1082), this resets the index. This is done using a function from pyspark.sql.functions called monotonically_increasing_id.\n",
    "\n",
    "\n",
    "[Documentation (.withColumn())](https://spark.apache.org/docs/3.1.3/api/python/reference/api/pyspark.sql.DataFrame.withColumn.html), [Documentation (monotonically_increasing_id)](https://spark.apache.org/docs/3.1.3/api/python/reference/api/pyspark.sql.functions.monotonically_increasing_id.html#:~:text=A%20column%20that%20generates%20monotonically,and%20unique%2C%20but%20not%20consecutive.)"
   ]
  },
  {
   "cell_type": "code",
   "execution_count": 12,
   "metadata": {
    "tags": []
   },
   "outputs": [
    {
     "data": {
      "application/vnd.jupyter.widget-view+json": {
       "model_id": "",
       "version_major": 2,
       "version_minor": 0
      },
      "text/plain": [
       "FloatProgress(value=0.0, bar_style='info', description='Progress:', layout=Layout(height='25px', width='50%'),…"
      ]
     },
     "metadata": {},
     "output_type": "display_data"
    }
   ],
   "source": [
    "df = spark.read.table(\"greview_view_silver\")\n",
    "# add a new column \"index\" using monotonically_increasing_id function\n",
    "df = df.withColumn(\"cleaned_index\", monotonically_increasing_id())\n",
    "\n",
    "# drop the original index column if needed\n",
    "df = df.drop(\"index\")\n",
    "\n",
    "df.createOrReplaceTempView(\"greview_view_silver\")"
   ]
  },
  {
   "cell_type": "code",
   "execution_count": 13,
   "metadata": {
    "tags": []
   },
   "outputs": [
    {
     "data": {
      "application/vnd.jupyter.widget-view+json": {
       "model_id": "",
       "version_major": 2,
       "version_minor": 0
      },
      "text/plain": [
       "FloatProgress(value=0.0, bar_style='info', description='Progress:', layout=Layout(height='25px', width='50%'),…"
      ]
     },
     "metadata": {},
     "output_type": "display_data"
    },
    {
     "name": "stdout",
     "output_type": "stream",
     "text": [
      "+-------------------+-------------+------+-----------------------------------------------------------------------------------------------------------------------------------------------------------------------------------------------------------------------------------------------------------------------------------------------------------------------------------------------------------------------------------------------------------------------------------------------------------------------------------------------------------------------------------------------------------------------------------------------------------------------------------------------------------------------------------------------------------------------------------------------------------------------+-------------------------------------+-------------+\n",
      "|userid             |time         |rating|text                                                                                                                                                                                                                                                                                                                                                                                                                                                                                                                                                                                                                                                                                                                                                                   |gmap_id                              |cleaned_index|\n",
      "+-------------------+-------------+------+-----------------------------------------------------------------------------------------------------------------------------------------------------------------------------------------------------------------------------------------------------------------------------------------------------------------------------------------------------------------------------------------------------------------------------------------------------------------------------------------------------------------------------------------------------------------------------------------------------------------------------------------------------------------------------------------------------------------------------------------------------------------------+-------------------------------------+-------------+\n",
      "|1.00375562470584E20|1551482359990|5     |Beautiful lash salon. Get LASHED BY ROBIN she's EXCELLENT.  MAKE AN APPOINTMENT WITH ROBIN YOU'LL BE GLAD YOU DID !!!                                                                                                                                                                                                                                                                                                                                                                                                                                                                                                                                                                                                                                                  |0x89e44fbe8468bd61:0xcf553e336f371dd1|0            |\n",
      "|1.02084872380929E20|1527994996256|5     |Really great staff                                                                                                                                                                                                                                                                                                                                                                                                                                                                                                                                                                                                                                                                                                                                                     |0x89e44b7314299e6d:0x332d24b990d428a9|1            |\n",
      "|1.06475430209834E20|1592861452419|5     |Needed a printer and every store on earth is sold out of anything under $160.   They went above and beyond to help me even though I was grumpy.  Walked out with one that was exactly what I needed plus some paper and ink.  I wish I got their names... there were two girls and a guy.   Thank you everyone :-)                                                                                                                                                                                                                                                                                                                                                                                                                                                     |0x89e5b6a76e153aab:0x2dc868a45dc69f4b|2            |\n",
      "|1.13174529347615E20|1529489043581|1     |these people actually told me before that they didnt have any 800mg Ibprophen in store at all when I had filled a script of it the same day and got pickup confirmation call. All of a sudden when I made a stink about it they found some and had to bottle it up fast. Truly a fishy pharmacy. Use N. Smithfield location if you can.                                                                                                                                                                                                                                                                                                                                                                                                                                |0x89e46bd523ffc6e5:0x58d4d12d55eb382e|3            |\n",
      "|1.08341670504029E20|1546105263700|5     |Like the prices                                                                                                                                                                                                                                                                                                                                                                                                                                                                                                                                                                                                                                                                                                                                                        |0x89e46bd523ffc6e5:0x58d4d12d55eb382e|4            |\n",
      "|1.10859058112951E20|1623470415822|5     |It was 5:30 PM on Sunday when I checked my U Haul drop off’s location and realized that along with almost every other, it had closed by 5 PM. By 5:45 I had given up on scheduling an after hours pickup and noticed Rumford Food Mart & Deli accepted trucks for another 15 minutes. I asked if I could drop off the truck soon, between 6:20 and 6:30. The manager asked what kind of truck, then agreed. I threw my bike in the back and rushed to the store. As I arrived and he began the inspection process, I realized the drop off hours coincided with the store hours. The manager had stayed past closing 30 minutes just to help me without a second thought. I have not had the food but I cannot recommend the service enough. Please support this store.|0x89e45b11aebdd10d:0x32412768486b9847|5            |\n",
      "|1.07933588337831E20|1567855956605|5     |Great spot                                                                                                                                                                                                                                                                                                                                                                                                                                                                                                                                                                                                                                                                                                                                                             |0x89e443513626146b:0x71ddf72794b1d8c |6            |\n",
      "|1.04666737915832E20|1624761989808|5     |Gary rocks! He is THE best jeweler.                                                                                                                                                                                                                                                                                                                                                                                                                                                                                                                                                                                                                                                                                                                                    |0x89e44451680a44af:0x9a908ca4603419e2|7            |\n",
      "|1.00750760747323E20|1561133985967|5     |All your new and used Lego sets and parts .....great place for children's partys                                                                                                                                                                                                                                                                                                                                                                                                                                                                                                                                                                                                                                                                                       |0x89e447740ed0fb0b:0xbc92bdff23216277|8            |\n",
      "|1.04109495888523E20|1514754899238|5     |I love they way they do eyebrows here waxing, or threading it comes out beautiful.                                                                                                                                                                                                                                                                                                                                                                                                                                                                                                                                                                                                                                                                                     |0x89e4459df51eac23:0x637d738cf412b566|9            |\n",
      "|1.11663167092283E20|1539965918121|4     |Great service and prices                                                                                                                                                                                                                                                                                                                                                                                                                                                                                                                                                                                                                                                                                                                                               |0x89e44fab9e93d219:0x4d3765343e5334ee|10           |\n",
      "|1.10030017654459E20|1569843116109|5     |Great service. Great people.                                                                                                                                                                                                                                                                                                                                                                                                                                                                                                                                                                                                                                                                                                                                           |0x89e44e827e47ecc1:0xf715a0fdead37bb5|11           |\n",
      "|1.07225123580054E20|1536860285960|5     |Personable lawyer. Friendly and answered my emails quickly. Thanks for everything.                                                                                                                                                                                                                                                                                                                                                                                                                                                                                                                                                                                                                                                                                     |0x89e44517715b005b:0x4fc6dd43fb983124|12           |\n",
      "|1.1538227072982E20 |1604470501269|5     |Got some keys made. Very helpful thank you very much.                                                                                                                                                                                                                                                                                                                                                                                                                                                                                                                                                                                                                                                                                                                  |0x89e445e14d30c2ef:0xb95b1a7525a78d25|13           |\n",
      "|1.11513398224469E20|1560816688208|5     |Great service                                                                                                                                                                                                                                                                                                                                                                                                                                                                                                                                                                                                                                                                                                                                                          |0x89e44cca2e2eba87:0x31785d391d281238|14           |\n",
      "|1.15896664783367E20|1495408039486|5     |They were having a going out of business sale and salesman Scott was awesome I shopped until I dropped best sale ever 90% off all accessories made out lovely.                                                                                                                                                                                                                                                                                                                                                                                                                                                                                                                                                                                                         |0x89e44becaf63f395:0xdd7f8b64e6a23210|15           |\n",
      "|1.16664246505433E20|1541619908455|2     |30 min to top up my phone. The guys were great, the system though....                                                                                                                                                                                                                                                                                                                                                                                                                                                                                                                                                                                                                                                                                                  |0x89e5aed0df0d09d1:0x69200fe853b0adf9|16           |\n",
      "|1.08336050150065E20|1594296046860|5     |Great to work with & very honest                                                                                                                                                                                                                                                                                                                                                                                                                                                                                                                                                                                                                                                                                                                                       |0x89e5b908675d8e79:0x483dc9d07272c72 |17           |\n",
      "|1.11810850492723E20|1582938489311|5     |Good selection of books and the man who runs the shop is very knowledgeable                                                                                                                                                                                                                                                                                                                                                                                                                                                                                                                                                                                                                                                                                            |0x89e445165f076aaf:0xa24726e429e47d1e|18           |\n",
      "|1.063106597692E20  |1583695277556|5     |Cookies has been the same for over 50 years and thats the way I like it. Every turn is a treasure hunt for a unique and exciting find. Weather it is a exquisite jade fountain pen with a story, a rare collectors typewriter, or beautiful tea cups from a long gone era, always a pleasure to visit with the owner by her rustic wood stove and share a coffee, swap stories and a smile. A must whenever i am in Exeter, RI.                                                                                                                                                                                                                                                                                                                                        |0x89e5c92548c1eeed:0x57da52c7bb040d20|19           |\n",
      "+-------------------+-------------+------+-----------------------------------------------------------------------------------------------------------------------------------------------------------------------------------------------------------------------------------------------------------------------------------------------------------------------------------------------------------------------------------------------------------------------------------------------------------------------------------------------------------------------------------------------------------------------------------------------------------------------------------------------------------------------------------------------------------------------------------------------------------------------+-------------------------------------+-------------+\n",
      "only showing top 20 rows"
     ]
    }
   ],
   "source": [
    "df.show(truncate=False)"
   ]
  },
  {
   "cell_type": "markdown",
   "metadata": {},
   "source": [
    "Create a new silver table with the silver view."
   ]
  },
  {
   "cell_type": "code",
   "execution_count": 14,
   "metadata": {
    "tags": []
   },
   "outputs": [
    {
     "data": {
      "application/vnd.jupyter.widget-view+json": {
       "model_id": "",
       "version_major": 2,
       "version_minor": 0
      },
      "text/plain": [
       "FloatProgress(value=0.0, bar_style='info', description='Progress:', layout=Layout(height='25px', width='50%'),…"
      ]
     },
     "metadata": {},
     "output_type": "display_data"
    },
    {
     "data": {
      "application/vnd.jupyter.widget-view+json": {
       "model_id": "092293856fd3415f9e86e445208f2c6f",
       "version_major": 2,
       "version_minor": 0
      },
      "text/plain": [
       "VBox(children=(HBox(), EncodingWidget(children=(VBox(children=(HTML(value='Encoding:'), Dropdown(description='…"
      ]
     },
     "metadata": {},
     "output_type": "display_data"
    },
    {
     "data": {
      "application/vnd.jupyter.widget-view+json": {
       "model_id": "394151433cc54a969a876dd613753ff6",
       "version_major": 2,
       "version_minor": 0
      },
      "text/plain": [
       "Output()"
      ]
     },
     "metadata": {},
     "output_type": "display_data"
    }
   ],
   "source": [
    "%%sql\n",
    "\n",
    "CREATE TABLE IF NOT EXISTS greview_table_silver\n",
    "AS SELECT * FROM greview_view_silver;"
   ]
  },
  {
   "cell_type": "code",
   "execution_count": 15,
   "metadata": {
    "tags": []
   },
   "outputs": [
    {
     "data": {
      "application/vnd.jupyter.widget-view+json": {
       "model_id": "",
       "version_major": 2,
       "version_minor": 0
      },
      "text/plain": [
       "FloatProgress(value=0.0, bar_style='info', description='Progress:', layout=Layout(height='25px', width='50%'),…"
      ]
     },
     "metadata": {},
     "output_type": "display_data"
    },
    {
     "data": {
      "application/vnd.jupyter.widget-view+json": {
       "model_id": "91680c39a89e4ae4b0cba6f5fb0888c1",
       "version_major": 2,
       "version_minor": 0
      },
      "text/plain": [
       "VBox(children=(HBox(children=(HTML(value='Type:'), Button(description='Table', layout=Layout(width='70px'), st…"
      ]
     },
     "metadata": {},
     "output_type": "display_data"
    },
    {
     "data": {
      "application/vnd.jupyter.widget-view+json": {
       "model_id": "94344d3e23cf41ceb5b1db7e1cf903fd",
       "version_major": 2,
       "version_minor": 0
      },
      "text/plain": [
       "Output()"
      ]
     },
     "metadata": {},
     "output_type": "display_data"
    }
   ],
   "source": [
    "%%sql\n",
    "    \n",
    "SHOW TABLES;"
   ]
  },
  {
   "cell_type": "markdown",
   "metadata": {},
   "source": [
    "## Feature Creation length of text"
   ]
  },
  {
   "attachments": {},
   "cell_type": "markdown",
   "metadata": {},
   "source": [
    "This portion creates a new column for the number of characters in the text column.\n",
    "\n",
    "The sql query LOWER() gives the lower cases the text, LENGTH() give the number of characters in the number of characters in the text.\n",
    "\n",
    "[Example (LOWER)](https://www.w3schools.com/sql/func_sqlserver_lower.asp), [Example (LENGTH)](https://www.w3schools.com/sql/func_mysql_length.asp)"
   ]
  },
  {
   "cell_type": "code",
   "execution_count": 16,
   "metadata": {
    "tags": []
   },
   "outputs": [
    {
     "data": {
      "application/vnd.jupyter.widget-view+json": {
       "model_id": "",
       "version_major": 2,
       "version_minor": 0
      },
      "text/plain": [
       "FloatProgress(value=0.0, bar_style='info', description='Progress:', layout=Layout(height='25px', width='50%'),…"
      ]
     },
     "metadata": {},
     "output_type": "display_data"
    },
    {
     "data": {
      "application/vnd.jupyter.widget-view+json": {
       "model_id": "dcc650f54f454e98b40f2a673faed316",
       "version_major": 2,
       "version_minor": 0
      },
      "text/plain": [
       "VBox(children=(HBox(), EncodingWidget(children=(VBox(children=(HTML(value='Encoding:'), Dropdown(description='…"
      ]
     },
     "metadata": {},
     "output_type": "display_data"
    },
    {
     "data": {
      "application/vnd.jupyter.widget-view+json": {
       "model_id": "1743d7284e2347099be4aadac3f3cfe8",
       "version_major": 2,
       "version_minor": 0
      },
      "text/plain": [
       "Output()"
      ]
     },
     "metadata": {},
     "output_type": "display_data"
    }
   ],
   "source": [
    "%%sql\n",
    "\n",
    "CREATE OR REPLACE TEMP VIEW greview_view_gold AS \n",
    "SELECT cleaned_index AS index, text, LOWER(text) AS Cleaned_text, userid, gmap_id, time, rating, length(text) AS text_length \n",
    "FROM greview_table_silver;"
   ]
  },
  {
   "cell_type": "markdown",
   "metadata": {},
   "source": [
    "Read the view and display."
   ]
  },
  {
   "cell_type": "code",
   "execution_count": 17,
   "metadata": {
    "tags": []
   },
   "outputs": [
    {
     "data": {
      "application/vnd.jupyter.widget-view+json": {
       "model_id": "",
       "version_major": 2,
       "version_minor": 0
      },
      "text/plain": [
       "FloatProgress(value=0.0, bar_style='info', description='Progress:', layout=Layout(height='25px', width='50%'),…"
      ]
     },
     "metadata": {},
     "output_type": "display_data"
    },
    {
     "name": "stdout",
     "output_type": "stream",
     "text": [
      "+-----+-------------------------------------------------------------------------------------------------------------------------------------------------------------------------------------------------------------------------------------------------------------------------------------------------------------------------------------------------------------------------------------------------+-------------------------------------------------------------------------------------------------------------------------------------------------------------------------------------------------------------------------------------------------------------------------------------------------------------------------------------------------------------------------------------------------+---------------------+-------------------------------------+-------------+------+-----------+\n",
      "|index|text                                                                                                                                                                                                                                                                                                                                                                                             |Cleaned_text                                                                                                                                                                                                                                                                                                                                                                                     |userid               |gmap_id                              |time         |rating|text_length|\n",
      "+-----+-------------------------------------------------------------------------------------------------------------------------------------------------------------------------------------------------------------------------------------------------------------------------------------------------------------------------------------------------------------------------------------------------+-------------------------------------------------------------------------------------------------------------------------------------------------------------------------------------------------------------------------------------------------------------------------------------------------------------------------------------------------------------------------------------------------+---------------------+-------------------------------------+-------------+------+-----------+\n",
      "|0    |Placed an order through GrubHub at 5:30 PM had someone at my door with food at 5:50 PM. Magic is all I have to say about that feat and nothing wong with order either.                                                                                                                                                                                                                           |placed an order through grubhub at 5:30 pm had someone at my door with food at 5:50 pm. magic is all i have to say about that feat and nothing wong with order either.                                                                                                                                                                                                                           |1.11324010504241E20  |0x89e4441b4d9354c7:0xdfd1284f67f14274|1534629245777|5     |166        |\n",
      "|1    |Awesome food and friendly staff!                                                                                                                                                                                                                                                                                                                                                                 |awesome food and friendly staff!                                                                                                                                                                                                                                                                                                                                                                 |1.06575700939493E20  |0x89e4442994f25975:0x893dc8904a28d833|1552558757030|5     |32         |\n",
      "|2    |Great staff  good food reasonable prices                                                                                                                                                                                                                                                                                                                                                         |great staff  good food reasonable prices                                                                                                                                                                                                                                                                                                                                                         |1.15242456334818E20  |0x89e4442994f25975:0x893dc8904a28d833|1512946668105|4     |40         |\n",
      "|3    |It's not bad, but I've never been a big fan of this chain. I feel the food is a little lacking in value (you don't really get large portions for the price) and the flavors aren't quite up to scratch compared to most chains. But I get it's healthier and hip and all that and that's cool I guess. My service at this particular Panera Bread was good, though, so I gave them an extra star.|it's not bad, but i've never been a big fan of this chain. i feel the food is a little lacking in value (you don't really get large portions for the price) and the flavors aren't quite up to scratch compared to most chains. but i get it's healthier and hip and all that and that's cool i guess. my service at this particular panera bread was good, though, so i gave them an extra star.|1.14323206211855E20  |0x89e441864426f40f:0x4c32a1328491c5c7|1517260996764|4     |385        |\n",
      "|4    |Not a fan                                                                                                                                                                                                                                                                                                                                                                                        |not a fan                                                                                                                                                                                                                                                                                                                                                                                        |1.06218523773326E20  |0x89e441864426f40f:0x4c32a1328491c5c7|1572784235574|3     |9          |\n",
      "|5    |Awesome place to eat. Best clam chowder I ever had. Portions were huge. Seafood plates be easily feed two. Soup is only 1.00 extra with any dinner. Our waitress Laura was amazing. Definitely will be back.                                                                                                                                                                                     |awesome place to eat. best clam chowder i ever had. portions were huge. seafood plates be easily feed two. soup is only 1.00 extra with any dinner. our waitress laura was amazing. definitely will be back.                                                                                                                                                                                     |1.00701270288398E20  |0x89e4446892769813:0x9fe9d28cfc2d0d8b|1500592614907|5     |204        |\n",
      "|6    |Great assortment of apples and pumpkins, lots of fun with the kids, great place to welcome the fall season                                                                                                                                                                                                                                                                                       |great assortment of apples and pumpkins, lots of fun with the kids, great place to welcome the fall season                                                                                                                                                                                                                                                                                       |1.0900311992332799E20|0x89e501050c7796f7:0xde0adac8f3bfc115|1573219370514|5     |106        |\n",
      "|7    |Fun, friendly and great people.                                                                                                                                                                                                                                                                                                                                                                  |fun, friendly and great people.                                                                                                                                                                                                                                                                                                                                                                  |1.06550401468423E20  |0x89e5af6ee40a9f87:0xbbfcc2d6b86687d4|1472996276928|5     |31         |\n",
      "|8    |Awesome                                                                                                                                                                                                                                                                                                                                                                                          |awesome                                                                                                                                                                                                                                                                                                                                                                                          |1.06721161741583E20  |0x89e5b7bc7733692d:0xefb25ac45091c05a|1530367808754|5     |7          |\n",
      "|9    |Attentive staff and breakfast all day!  Check it out.  GF bread is available.                                                                                                                                                                                                                                                                                                                    |attentive staff and breakfast all day!  check it out.  gf bread is available.                                                                                                                                                                                                                                                                                                                    |1.12585675669382E20  |0x89e5b68f814e2175:0x4e7476e892a851bc|1570616646410|5     |77         |\n",
      "|10   |The only place that knows how to make Jonny Cakes correctly. Meal  (breakfast) was great. Home made bread.                                                                                                                                                                                                                                                                                       |the only place that knows how to make jonny cakes correctly. meal  (breakfast) was great. home made bread.                                                                                                                                                                                                                                                                                       |1.06174124915015E20  |0x89e5b68f814e2175:0x4e7476e892a851bc|1548625485559|5     |106        |\n",
      "|11   |Very nice                                                                                                                                                                                                                                                                                                                                                                                        |very nice                                                                                                                                                                                                                                                                                                                                                                                        |1.10039216995792E20  |0x89e44edcbb797da5:0x18cc88cc953da130|1525619481045|5     |9          |\n",
      "|12   |Really awesome place to eat and hang out. It has a really cool vintage bakery vibe.                                                                                                                                                                                                                                                                                                              |really awesome place to eat and hang out. it has a really cool vintage bakery vibe.                                                                                                                                                                                                                                                                                                              |1.11636229492788E20  |0x89e445747aa555f5:0xca9e56112c5c6a66|1479074559277|5     |83         |\n",
      "|13   |Get the mac and cheese in the iron rammiken...any kind                                                                                                                                                                                                                                                                                                                                           |get the mac and cheese in the iron rammiken...any kind                                                                                                                                                                                                                                                                                                                                           |1.06641653925646E20  |0x89e4ff5e0cf9e185:0x5a746385e3341278|1559656172697|5     |54         |\n",
      "|14   |Very interesting, eclectic group of people! Awesome fabrication skills to be learned.                                                                                                                                                                                                                                                                                                            |very interesting, eclectic group of people! awesome fabrication skills to be learned.                                                                                                                                                                                                                                                                                                            |1.17460225459798E20  |0x89e445a1162c789b:0x3bf3f1a34188e2e2|1569174061751|5     |85         |\n",
      "|15   |Excellent local market with friendly staff and great sale prices.                                                                                                                                                                                                                                                                                                                                |excellent local market with friendly staff and great sale prices.                                                                                                                                                                                                                                                                                                                                |1.11641519526621E20  |0x89e44b031d9691dd:0xebbf98e67a2a4e0c|1465746595016|5     |65         |\n",
      "|16   |Great pizza and online ordering                                                                                                                                                                                                                                                                                                                                                                  |great pizza and online ordering                                                                                                                                                                                                                                                                                                                                                                  |1.11105812288568E20  |0x89e44b2077a67743:0x373c2098de2244fd|1484972416524|5     |31         |\n",
      "|17   |This is a little market with some interesting international food. They also have great cooked food and sandwiches you can buy to eat there at tables or to go.                                                                                                                                                                                                                                   |this is a little market with some interesting international food. they also have great cooked food and sandwiches you can buy to eat there at tables or to go.                                                                                                                                                                                                                                   |1.01159008619791E20  |0x89e44f0916767bdb:0x6fe527cb570399f5|1520600268423|5     |158        |\n",
      "|18   |Amazing food. Great customer service.                                                                                                                                                                                                                                                                                                                                                            |amazing food. great customer service.                                                                                                                                                                                                                                                                                                                                                            |1.01969808920606E20  |0x89e44f0916767bdb:0x6fe527cb570399f5|1539451619665|5     |37         |\n",
      "|19   |The yucca fries and steak are to die for!                                                                                                                                                                                                                                                                                                                                                        |the yucca fries and steak are to die for!                                                                                                                                                                                                                                                                                                                                                        |1.16024477135933E20  |0x89e4450b02028b41:0x68c6fc52c4cfef39|1548875078639|4     |41         |\n",
      "+-----+-------------------------------------------------------------------------------------------------------------------------------------------------------------------------------------------------------------------------------------------------------------------------------------------------------------------------------------------------------------------------------------------------+-------------------------------------------------------------------------------------------------------------------------------------------------------------------------------------------------------------------------------------------------------------------------------------------------------------------------------------------------------------------------------------------------+---------------------+-------------------------------------+-------------+------+-----------+\n",
      "only showing top 20 rows"
     ]
    }
   ],
   "source": [
    "df = spark.read.table(\"greview_view_gold\")\n",
    "df.show(truncate=False)"
   ]
  },
  {
   "attachments": {},
   "cell_type": "markdown",
   "metadata": {},
   "source": [
    "## Using udf for special characters, stop words and stemming\n",
    "\n",
    "This portion removes the special characters using regex and the udf to apply it to a spark.sql dataframe.\n",
    "\n",
    "<br>\n",
    "\n",
    "#### Regex for removing special characters\n",
    "The regular expression ```r\"[^a-zA-Z0-9\\s]+\" ```matches one or more consecutive characters that are not alphanumeric (a-zA-Z0-9) or whitespace (\\s).\n",
    "\n",
    "Here's a breakdown of the individual components of the regular expression:\n",
    "\n",
    "* ```[^a-zA-Z0-9\\s]```: This is a character class that matches any character that is not an alphanumeric character or whitespace. The ^ at the beginning of the character class negates it, meaning it matches any character that is not in the character class.\n",
    "\n",
    "* ```+```: This is a quantifier that matches one or more occurrences of the preceding pattern. In this case, it matches one or more occurrences of the character class [^a-zA-Z0-9\\s].\n",
    "\n",
    "* ```r```: This is a raw string prefix in Python that indicates that backslashes should be treated as literal backslashes, rather than escape characters.\n",
    "\n",
    "<br>\n",
    "\n",
    "#### Pyspark udf function\n",
    "The pyspark.sql.functions.udf() method creates a user-defined function (UDF) that can be used with PySpark's DataFrame API. This allows you to apply your own custom functions to the data in your DataFrames.\n",
    "\n",
    "<b>pyspark.sql.functions.udf(f=None, returnType=StringType)</b>\n",
    "\n",
    "The method takes two parameters:\n",
    "\n",
    "f: This is the Python function that you want to use as your UDF. This function can take any number of arguments, but it should return a single value. When you call the UDF on a DataFrame column, each value in the column will be passed as an argument to this function.\n",
    "\n",
    "returnType: This parameter specifies the return type of the UDF. You can either pass a pyspark.sql.types.DataType object that specifies the type directly, or you can pass a string that represents the type in DDL (Data Definition Language) format.\n",
    "\n",
    "[Documentation (udf)](https://spark.apache.org/docs/3.1.3/api/python/reference/api/pyspark.sql.functions.udf.html)"
   ]
  },
  {
   "cell_type": "code",
   "execution_count": 18,
   "metadata": {
    "tags": []
   },
   "outputs": [
    {
     "data": {
      "application/vnd.jupyter.widget-view+json": {
       "model_id": "",
       "version_major": 2,
       "version_minor": 0
      },
      "text/plain": [
       "FloatProgress(value=0.0, bar_style='info', description='Progress:', layout=Layout(height='25px', width='50%'),…"
      ]
     },
     "metadata": {},
     "output_type": "display_data"
    }
   ],
   "source": [
    "def remove_sc(text)->str:\n",
    "    \"\"\"\n",
    "    Removes all special characters from text\n",
    "    Arg : Text\n",
    "    Outputs : Text without special characters\n",
    "    \"\"\"\n",
    "    # Define a regular expression to match special characters\n",
    "    regex = r\"[^a-zA-Z0-9\\s]+\"\n",
    "    \n",
    "    # Use the sub() method to replace special characters with an empty string\n",
    "    cleaned_text = re.sub(regex, \"\", text)\n",
    "    \n",
    "    return cleaned_text\n",
    "\n",
    "removescUDF = udf(remove_sc, StringType())"
   ]
  },
  {
   "cell_type": "code",
   "execution_count": 19,
   "metadata": {
    "tags": []
   },
   "outputs": [
    {
     "data": {
      "application/vnd.jupyter.widget-view+json": {
       "model_id": "",
       "version_major": 2,
       "version_minor": 0
      },
      "text/plain": [
       "FloatProgress(value=0.0, bar_style='info', description='Progress:', layout=Layout(height='25px', width='50%'),…"
      ]
     },
     "metadata": {},
     "output_type": "display_data"
    }
   ],
   "source": [
    "df = df.withColumn(\"Cleaned_text\", removescUDF(col(\"Cleaned_text\")))"
   ]
  },
  {
   "cell_type": "code",
   "execution_count": 20,
   "metadata": {
    "tags": []
   },
   "outputs": [
    {
     "data": {
      "application/vnd.jupyter.widget-view+json": {
       "model_id": "",
       "version_major": 2,
       "version_minor": 0
      },
      "text/plain": [
       "FloatProgress(value=0.0, bar_style='info', description='Progress:', layout=Layout(height='25px', width='50%'),…"
      ]
     },
     "metadata": {},
     "output_type": "display_data"
    },
    {
     "name": "stdout",
     "output_type": "stream",
     "text": [
      "+-----+-------------------------------------------------------------------------------------------------------------------------------------------------------------------------------------------------------------------------------------------------------------------------------------------------------------------------------------------------------------------------------------------------+----------------------------------------------------------------------------------------------------------------------------------------------------------------------------------------------------------------------------------------------------------------------------------------------------------------------------------------------------------------------------------+---------------------+-------------------------------------+-------------+------+-----------+\n",
      "|index|text                                                                                                                                                                                                                                                                                                                                                                                             |Cleaned_text                                                                                                                                                                                                                                                                                                                                                                      |userid               |gmap_id                              |time         |rating|text_length|\n",
      "+-----+-------------------------------------------------------------------------------------------------------------------------------------------------------------------------------------------------------------------------------------------------------------------------------------------------------------------------------------------------------------------------------------------------+----------------------------------------------------------------------------------------------------------------------------------------------------------------------------------------------------------------------------------------------------------------------------------------------------------------------------------------------------------------------------------+---------------------+-------------------------------------+-------------+------+-----------+\n",
      "|0    |Placed an order through GrubHub at 5:30 PM had someone at my door with food at 5:50 PM. Magic is all I have to say about that feat and nothing wong with order either.                                                                                                                                                                                                                           |placed an order through grubhub at 530 pm had someone at my door with food at 550 pm magic is all i have to say about that feat and nothing wong with order either                                                                                                                                                                                                                |1.11324010504241E20  |0x89e4441b4d9354c7:0xdfd1284f67f14274|1534629245777|5     |166        |\n",
      "|1    |Awesome food and friendly staff!                                                                                                                                                                                                                                                                                                                                                                 |awesome food and friendly staff                                                                                                                                                                                                                                                                                                                                                   |1.06575700939493E20  |0x89e4442994f25975:0x893dc8904a28d833|1552558757030|5     |32         |\n",
      "|2    |Great staff  good food reasonable prices                                                                                                                                                                                                                                                                                                                                                         |great staff  good food reasonable prices                                                                                                                                                                                                                                                                                                                                          |1.15242456334818E20  |0x89e4442994f25975:0x893dc8904a28d833|1512946668105|4     |40         |\n",
      "|3    |It's not bad, but I've never been a big fan of this chain. I feel the food is a little lacking in value (you don't really get large portions for the price) and the flavors aren't quite up to scratch compared to most chains. But I get it's healthier and hip and all that and that's cool I guess. My service at this particular Panera Bread was good, though, so I gave them an extra star.|its not bad but ive never been a big fan of this chain i feel the food is a little lacking in value you dont really get large portions for the price and the flavors arent quite up to scratch compared to most chains but i get its healthier and hip and all that and thats cool i guess my service at this particular panera bread was good though so i gave them an extra star|1.14323206211855E20  |0x89e441864426f40f:0x4c32a1328491c5c7|1517260996764|4     |385        |\n",
      "|4    |Not a fan                                                                                                                                                                                                                                                                                                                                                                                        |not a fan                                                                                                                                                                                                                                                                                                                                                                         |1.06218523773326E20  |0x89e441864426f40f:0x4c32a1328491c5c7|1572784235574|3     |9          |\n",
      "|5    |Awesome place to eat. Best clam chowder I ever had. Portions were huge. Seafood plates be easily feed two. Soup is only 1.00 extra with any dinner. Our waitress Laura was amazing. Definitely will be back.                                                                                                                                                                                     |awesome place to eat best clam chowder i ever had portions were huge seafood plates be easily feed two soup is only 100 extra with any dinner our waitress laura was amazing definitely will be back                                                                                                                                                                              |1.00701270288398E20  |0x89e4446892769813:0x9fe9d28cfc2d0d8b|1500592614907|5     |204        |\n",
      "|6    |Great assortment of apples and pumpkins, lots of fun with the kids, great place to welcome the fall season                                                                                                                                                                                                                                                                                       |great assortment of apples and pumpkins lots of fun with the kids great place to welcome the fall season                                                                                                                                                                                                                                                                          |1.0900311992332799E20|0x89e501050c7796f7:0xde0adac8f3bfc115|1573219370514|5     |106        |\n",
      "|7    |Fun, friendly and great people.                                                                                                                                                                                                                                                                                                                                                                  |fun friendly and great people                                                                                                                                                                                                                                                                                                                                                     |1.06550401468423E20  |0x89e5af6ee40a9f87:0xbbfcc2d6b86687d4|1472996276928|5     |31         |\n",
      "|8    |Awesome                                                                                                                                                                                                                                                                                                                                                                                          |awesome                                                                                                                                                                                                                                                                                                                                                                           |1.06721161741583E20  |0x89e5b7bc7733692d:0xefb25ac45091c05a|1530367808754|5     |7          |\n",
      "|9    |Attentive staff and breakfast all day!  Check it out.  GF bread is available.                                                                                                                                                                                                                                                                                                                    |attentive staff and breakfast all day  check it out  gf bread is available                                                                                                                                                                                                                                                                                                        |1.12585675669382E20  |0x89e5b68f814e2175:0x4e7476e892a851bc|1570616646410|5     |77         |\n",
      "|10   |The only place that knows how to make Jonny Cakes correctly. Meal  (breakfast) was great. Home made bread.                                                                                                                                                                                                                                                                                       |the only place that knows how to make jonny cakes correctly meal  breakfast was great home made bread                                                                                                                                                                                                                                                                             |1.06174124915015E20  |0x89e5b68f814e2175:0x4e7476e892a851bc|1548625485559|5     |106        |\n",
      "|11   |Very nice                                                                                                                                                                                                                                                                                                                                                                                        |very nice                                                                                                                                                                                                                                                                                                                                                                         |1.10039216995792E20  |0x89e44edcbb797da5:0x18cc88cc953da130|1525619481045|5     |9          |\n",
      "|12   |Really awesome place to eat and hang out. It has a really cool vintage bakery vibe.                                                                                                                                                                                                                                                                                                              |really awesome place to eat and hang out it has a really cool vintage bakery vibe                                                                                                                                                                                                                                                                                                 |1.11636229492788E20  |0x89e445747aa555f5:0xca9e56112c5c6a66|1479074559277|5     |83         |\n",
      "|13   |Get the mac and cheese in the iron rammiken...any kind                                                                                                                                                                                                                                                                                                                                           |get the mac and cheese in the iron rammikenany kind                                                                                                                                                                                                                                                                                                                               |1.06641653925646E20  |0x89e4ff5e0cf9e185:0x5a746385e3341278|1559656172697|5     |54         |\n",
      "|14   |Very interesting, eclectic group of people! Awesome fabrication skills to be learned.                                                                                                                                                                                                                                                                                                            |very interesting eclectic group of people awesome fabrication skills to be learned                                                                                                                                                                                                                                                                                                |1.17460225459798E20  |0x89e445a1162c789b:0x3bf3f1a34188e2e2|1569174061751|5     |85         |\n",
      "|15   |Excellent local market with friendly staff and great sale prices.                                                                                                                                                                                                                                                                                                                                |excellent local market with friendly staff and great sale prices                                                                                                                                                                                                                                                                                                                  |1.11641519526621E20  |0x89e44b031d9691dd:0xebbf98e67a2a4e0c|1465746595016|5     |65         |\n",
      "|16   |Great pizza and online ordering                                                                                                                                                                                                                                                                                                                                                                  |great pizza and online ordering                                                                                                                                                                                                                                                                                                                                                   |1.11105812288568E20  |0x89e44b2077a67743:0x373c2098de2244fd|1484972416524|5     |31         |\n",
      "|17   |This is a little market with some interesting international food. They also have great cooked food and sandwiches you can buy to eat there at tables or to go.                                                                                                                                                                                                                                   |this is a little market with some interesting international food they also have great cooked food and sandwiches you can buy to eat there at tables or to go                                                                                                                                                                                                                      |1.01159008619791E20  |0x89e44f0916767bdb:0x6fe527cb570399f5|1520600268423|5     |158        |\n",
      "|18   |Amazing food. Great customer service.                                                                                                                                                                                                                                                                                                                                                            |amazing food great customer service                                                                                                                                                                                                                                                                                                                                               |1.01969808920606E20  |0x89e44f0916767bdb:0x6fe527cb570399f5|1539451619665|5     |37         |\n",
      "|19   |The yucca fries and steak are to die for!                                                                                                                                                                                                                                                                                                                                                        |the yucca fries and steak are to die for                                                                                                                                                                                                                                                                                                                                          |1.16024477135933E20  |0x89e4450b02028b41:0x68c6fc52c4cfef39|1548875078639|4     |41         |\n",
      "+-----+-------------------------------------------------------------------------------------------------------------------------------------------------------------------------------------------------------------------------------------------------------------------------------------------------------------------------------------------------------------------------------------------------+----------------------------------------------------------------------------------------------------------------------------------------------------------------------------------------------------------------------------------------------------------------------------------------------------------------------------------------------------------------------------------+---------------------+-------------------------------------+-------------+------+-----------+\n",
      "only showing top 20 rows"
     ]
    }
   ],
   "source": [
    "df.show(truncate=False)"
   ]
  },
  {
   "attachments": {},
   "cell_type": "markdown",
   "metadata": {},
   "source": [
    "#### Downloading resources for NLTK libraries\n",
    "Next, the nltk library is utilised to remove the stopwords. The punkt resource provides the necessary data for tokenizing text into individual words. First, it has to be downloaded to the the PV. Then, we have to append the path to read the PV.\n",
    "\n",
    "[Documentation (download)](https://www.nltk.org/data.html), [Documentation (data.path)](https://www.nltk.org/api/nltk.data.html)"
   ]
  },
  {
   "cell_type": "code",
   "execution_count": 21,
   "metadata": {
    "tags": []
   },
   "outputs": [
    {
     "data": {
      "application/vnd.jupyter.widget-view+json": {
       "model_id": "",
       "version_major": 2,
       "version_minor": 0
      },
      "text/plain": [
       "FloatProgress(value=0.0, bar_style='info', description='Progress:', layout=Layout(height='25px', width='50%'),…"
      ]
     },
     "metadata": {},
     "output_type": "display_data"
    }
   ],
   "source": [
    "nltk.download('stopwords',download_dir =\"/opt/spark/work-dir\")\n",
    "nltk.download('punkt', download_dir =\"/opt/spark/work-dir\")\n",
    "nltk.data.path.append('/opt/spark/work-dir')"
   ]
  },
  {
   "cell_type": "code",
   "execution_count": 22,
   "metadata": {
    "tags": []
   },
   "outputs": [
    {
     "data": {
      "application/vnd.jupyter.widget-view+json": {
       "model_id": "",
       "version_major": 2,
       "version_minor": 0
      },
      "text/plain": [
       "FloatProgress(value=0.0, bar_style='info', description='Progress:', layout=Layout(height='25px', width='50%'),…"
      ]
     },
     "metadata": {},
     "output_type": "display_data"
    }
   ],
   "source": [
    "#Setting English stopwords\n",
    "stopword_list=nltk.corpus.stopwords.words('english')\n",
    "\n",
    "#set stopwords to english\n",
    "stop=set(stopwords.words('english'))\n",
    "\n",
    "stem = PorterStemmer()\n",
    "lem = WordNetLemmatizer()"
   ]
  },
  {
   "attachments": {},
   "cell_type": "markdown",
   "metadata": {},
   "source": [
    "#### UDF for removing stopwords\n",
    "It defines a function called remove_stopwords that takes a text string as input and removes all the stopwords from it using the set of stopwords created earlier. The function tokenizes the input text using the tokenizer, removes any extra whitespace from each token, and then removes stopwords from the tokenized text based on whether the token is lowercase or not. If is_lower_case is True, the function removes only exact matches with stopwords. If it is False, the function also removes the stopwords even if they are in uppercase letters. The filtered tokens are then joined back into a string separated by spaces and returned as the output of the function. Although the text has been lowered, the function retains the if function for lower_case as a fail safe."
   ]
  },
  {
   "cell_type": "code",
   "execution_count": null,
   "metadata": {
    "tags": []
   },
   "outputs": [],
   "source": [
    "def remove_stopwords(text: str, is_lower_case: bool = True) -> str:\n",
    "    \"\"\"\n",
    "    Removes stopwords from the given text.\n",
    "\n",
    "    Args:\n",
    "        text (str): The input text.\n",
    "        is_lower_case (bool): If True, removes stopwords regardless of their case.\n",
    "                              If False, removes stopwords only if they are in lowercase.\n",
    "                              Defaults to True.\n",
    "\n",
    "    Returns:\n",
    "        str: The text without stopwords.\n",
    "    \"\"\"\n",
    "    # Set the list of English stopwords\n",
    "    stopword_list = set(stopwords.words('english'))\n",
    "\n",
    "    # Tokenize the input text\n",
    "    tokenizer = ToktokTokenizer()\n",
    "    tokens = tokenizer.tokenize(text)\n",
    "\n",
    "    # Remove whitespace from each token\n",
    "    tokens = [token.strip() for token in tokens]\n",
    "\n",
    "    # Filter out stopwords based on their case\n",
    "    if is_lower_case:\n",
    "        filtered_tokens = [token for token in tokens if token not in stopword_list]\n",
    "    else:\n",
    "        filtered_tokens = [token for token in tokens if token.lower() not in stopword_list]\n",
    "\n",
    "    # Join the filtered tokens back into a string\n",
    "    filtered_text = ' '.join(filtered_tokens)\n",
    "\n",
    "    return filtered_text\n",
    "\n",
    "remove_stopwordsUDF = udf(remove_stopwords, StringType())"
   ]
  },
  {
   "attachments": {},
   "cell_type": "markdown",
   "metadata": {},
   "source": [
    "Finally, the remove_stopwords function is wrapped as a user-defined function (UDF) called remove_stopwordsUDF using the udf() method from the pyspark.sql.functions module, with a return type of StringType().\n",
    "\n",
    "[Example (udf)](https://sparkbyexamples.com/pyspark/pyspark-udf-user-defined-function/)"
   ]
  },
  {
   "cell_type": "code",
   "execution_count": 24,
   "metadata": {
    "tags": []
   },
   "outputs": [
    {
     "data": {
      "application/vnd.jupyter.widget-view+json": {
       "model_id": "",
       "version_major": 2,
       "version_minor": 0
      },
      "text/plain": [
       "FloatProgress(value=0.0, bar_style='info', description='Progress:', layout=Layout(height='25px', width='50%'),…"
      ]
     },
     "metadata": {},
     "output_type": "display_data"
    }
   ],
   "source": [
    "df = df.withColumn(\"Cleaned_text\", remove_stopwordsUDF(col(\"Cleaned_text\")))"
   ]
  },
  {
   "cell_type": "code",
   "execution_count": 25,
   "metadata": {
    "tags": []
   },
   "outputs": [
    {
     "data": {
      "application/vnd.jupyter.widget-view+json": {
       "model_id": "",
       "version_major": 2,
       "version_minor": 0
      },
      "text/plain": [
       "FloatProgress(value=0.0, bar_style='info', description='Progress:', layout=Layout(height='25px', width='50%'),…"
      ]
     },
     "metadata": {},
     "output_type": "display_data"
    },
    {
     "name": "stdout",
     "output_type": "stream",
     "text": [
      "+-----+-------------------------------------------------------------------------------------------------------------------------------------------------------------------------------------------------------------------------------------------------------------------------------------------------------------------------------------------------------------------------------------------------+------------------------------------------------------------------------------------------------------------------------------------------------------------------------------------------------------------------------------------------+---------------------+-------------------------------------+-------------+------+-----------+\n",
      "|index|text                                                                                                                                                                                                                                                                                                                                                                                             |Cleaned_text                                                                                                                                                                                                                              |userid               |gmap_id                              |time         |rating|text_length|\n",
      "+-----+-------------------------------------------------------------------------------------------------------------------------------------------------------------------------------------------------------------------------------------------------------------------------------------------------------------------------------------------------------------------------------------------------+------------------------------------------------------------------------------------------------------------------------------------------------------------------------------------------------------------------------------------------+---------------------+-------------------------------------+-------------+------+-----------+\n",
      "|0    |Placed an order through GrubHub at 5:30 PM had someone at my door with food at 5:50 PM. Magic is all I have to say about that feat and nothing wong with order either.                                                                                                                                                                                                                           |placed order grubhub 530 pm someone door food 550 pm magic say feat nothing wong order either                                                                                                                                             |1.11324010504241E20  |0x89e4441b4d9354c7:0xdfd1284f67f14274|1534629245777|5     |166        |\n",
      "|1    |Awesome food and friendly staff!                                                                                                                                                                                                                                                                                                                                                                 |awesome food friendly staff                                                                                                                                                                                                               |1.06575700939493E20  |0x89e4442994f25975:0x893dc8904a28d833|1552558757030|5     |32         |\n",
      "|2    |Great staff  good food reasonable prices                                                                                                                                                                                                                                                                                                                                                         |great staff good food reasonable prices                                                                                                                                                                                                   |1.15242456334818E20  |0x89e4442994f25975:0x893dc8904a28d833|1512946668105|4     |40         |\n",
      "|3    |It's not bad, but I've never been a big fan of this chain. I feel the food is a little lacking in value (you don't really get large portions for the price) and the flavors aren't quite up to scratch compared to most chains. But I get it's healthier and hip and all that and that's cool I guess. My service at this particular Panera Bread was good, though, so I gave them an extra star.|bad ive never big fan chain feel food little lacking value dont really get large portions price flavors arent quite scratch compared chains get healthier hip thats cool guess service particular panera bread good though gave extra star|1.14323206211855E20  |0x89e441864426f40f:0x4c32a1328491c5c7|1517260996764|4     |385        |\n",
      "|4    |Not a fan                                                                                                                                                                                                                                                                                                                                                                                        |fan                                                                                                                                                                                                                                       |1.06218523773326E20  |0x89e441864426f40f:0x4c32a1328491c5c7|1572784235574|3     |9          |\n",
      "|5    |Awesome place to eat. Best clam chowder I ever had. Portions were huge. Seafood plates be easily feed two. Soup is only 1.00 extra with any dinner. Our waitress Laura was amazing. Definitely will be back.                                                                                                                                                                                     |awesome place eat best clam chowder ever portions huge seafood plates easily feed two soup 100 extra dinner waitress laura amazing definitely back                                                                                        |1.00701270288398E20  |0x89e4446892769813:0x9fe9d28cfc2d0d8b|1500592614907|5     |204        |\n",
      "|6    |Great assortment of apples and pumpkins, lots of fun with the kids, great place to welcome the fall season                                                                                                                                                                                                                                                                                       |great assortment apples pumpkins lots fun kids great place welcome fall season                                                                                                                                                            |1.0900311992332799E20|0x89e501050c7796f7:0xde0adac8f3bfc115|1573219370514|5     |106        |\n",
      "|7    |Fun, friendly and great people.                                                                                                                                                                                                                                                                                                                                                                  |fun friendly great people                                                                                                                                                                                                                 |1.06550401468423E20  |0x89e5af6ee40a9f87:0xbbfcc2d6b86687d4|1472996276928|5     |31         |\n",
      "|8    |Awesome                                                                                                                                                                                                                                                                                                                                                                                          |awesome                                                                                                                                                                                                                                   |1.06721161741583E20  |0x89e5b7bc7733692d:0xefb25ac45091c05a|1530367808754|5     |7          |\n",
      "|9    |Attentive staff and breakfast all day!  Check it out.  GF bread is available.                                                                                                                                                                                                                                                                                                                    |attentive staff breakfast day check gf bread available                                                                                                                                                                                    |1.12585675669382E20  |0x89e5b68f814e2175:0x4e7476e892a851bc|1570616646410|5     |77         |\n",
      "|10   |The only place that knows how to make Jonny Cakes correctly. Meal  (breakfast) was great. Home made bread.                                                                                                                                                                                                                                                                                       |place knows make jonny cakes correctly meal breakfast great home made bread                                                                                                                                                               |1.06174124915015E20  |0x89e5b68f814e2175:0x4e7476e892a851bc|1548625485559|5     |106        |\n",
      "|11   |Very nice                                                                                                                                                                                                                                                                                                                                                                                        |nice                                                                                                                                                                                                                                      |1.10039216995792E20  |0x89e44edcbb797da5:0x18cc88cc953da130|1525619481045|5     |9          |\n",
      "|12   |Really awesome place to eat and hang out. It has a really cool vintage bakery vibe.                                                                                                                                                                                                                                                                                                              |really awesome place eat hang really cool vintage bakery vibe                                                                                                                                                                             |1.11636229492788E20  |0x89e445747aa555f5:0xca9e56112c5c6a66|1479074559277|5     |83         |\n",
      "|13   |Get the mac and cheese in the iron rammiken...any kind                                                                                                                                                                                                                                                                                                                                           |get mac cheese iron rammikenany kind                                                                                                                                                                                                      |1.06641653925646E20  |0x89e4ff5e0cf9e185:0x5a746385e3341278|1559656172697|5     |54         |\n",
      "|14   |Very interesting, eclectic group of people! Awesome fabrication skills to be learned.                                                                                                                                                                                                                                                                                                            |interesting eclectic group people awesome fabrication skills learned                                                                                                                                                                      |1.17460225459798E20  |0x89e445a1162c789b:0x3bf3f1a34188e2e2|1569174061751|5     |85         |\n",
      "|15   |Excellent local market with friendly staff and great sale prices.                                                                                                                                                                                                                                                                                                                                |excellent local market friendly staff great sale prices                                                                                                                                                                                   |1.11641519526621E20  |0x89e44b031d9691dd:0xebbf98e67a2a4e0c|1465746595016|5     |65         |\n",
      "|16   |Great pizza and online ordering                                                                                                                                                                                                                                                                                                                                                                  |great pizza online ordering                                                                                                                                                                                                               |1.11105812288568E20  |0x89e44b2077a67743:0x373c2098de2244fd|1484972416524|5     |31         |\n",
      "|17   |This is a little market with some interesting international food. They also have great cooked food and sandwiches you can buy to eat there at tables or to go.                                                                                                                                                                                                                                   |little market interesting international food also great cooked food sandwiches buy eat tables go                                                                                                                                          |1.01159008619791E20  |0x89e44f0916767bdb:0x6fe527cb570399f5|1520600268423|5     |158        |\n",
      "|18   |Amazing food. Great customer service.                                                                                                                                                                                                                                                                                                                                                            |amazing food great customer service                                                                                                                                                                                                       |1.01969808920606E20  |0x89e44f0916767bdb:0x6fe527cb570399f5|1539451619665|5     |37         |\n",
      "|19   |The yucca fries and steak are to die for!                                                                                                                                                                                                                                                                                                                                                        |yucca fries steak die                                                                                                                                                                                                                     |1.16024477135933E20  |0x89e4450b02028b41:0x68c6fc52c4cfef39|1548875078639|4     |41         |\n",
      "+-----+-------------------------------------------------------------------------------------------------------------------------------------------------------------------------------------------------------------------------------------------------------------------------------------------------------------------------------------------------------------------------------------------------+------------------------------------------------------------------------------------------------------------------------------------------------------------------------------------------------------------------------------------------+---------------------+-------------------------------------+-------------+------+-----------+\n",
      "only showing top 20 rows"
     ]
    }
   ],
   "source": [
    "df.show(truncate=False)"
   ]
  },
  {
   "attachments": {},
   "cell_type": "markdown",
   "metadata": {},
   "source": [
    "#### Processing words for topic modelling\n",
    "Next, processed text is needed for topic modelling later on. The general procedure is the same as the removal of stopwords. The udf however is defined in another way that is more concised. The words are tokenized, stopwords are removed and then the words are stemmed."
   ]
  },
  {
   "cell_type": "code",
   "execution_count": 26,
   "metadata": {
    "tags": []
   },
   "outputs": [
    {
     "data": {
      "application/vnd.jupyter.widget-view+json": {
       "model_id": "",
       "version_major": 2,
       "version_minor": 0
      },
      "text/plain": [
       "FloatProgress(value=0.0, bar_style='info', description='Progress:', layout=Layout(height='25px', width='50%'),…"
      ]
     },
     "metadata": {},
     "output_type": "display_data"
    }
   ],
   "source": [
    "@udf(returnType=ArrayType(StringType()))\n",
    "def preprocess_text(text):\n",
    "    words = nltk.word_tokenize(text.lower())\n",
    "    words = [w for w in words if w not in stop and len(w) > 2]\n",
    "    words = [stem.stem(w) for w in words]\n",
    "    return words\n",
    "\n",
    "df = df.withColumn(\"preprocessed_text\", preprocess_text(df.text))\n"
   ]
  },
  {
   "cell_type": "code",
   "execution_count": 27,
   "metadata": {
    "tags": []
   },
   "outputs": [
    {
     "data": {
      "application/vnd.jupyter.widget-view+json": {
       "model_id": "",
       "version_major": 2,
       "version_minor": 0
      },
      "text/plain": [
       "FloatProgress(value=0.0, bar_style='info', description='Progress:', layout=Layout(height='25px', width='50%'),…"
      ]
     },
     "metadata": {},
     "output_type": "display_data"
    },
    {
     "name": "stdout",
     "output_type": "stream",
     "text": [
      "+-----+-------------------------------------------------------------------------------------------------------------------------------------------------------------------------------------------------------------------------------------------------------------------------------------------------------------------------------------------------------------------------------------------------+------------------------------------------------------------------------------------------------------------------------------------------------------------------------------------------------------------------------------------------+---------------------+-------------------------------------+-------------+------+-----------+----------------------------------------------------------------------------------------------------------------------------------------------------------------------------------------------------------------------------------------------------------+\n",
      "|index|text                                                                                                                                                                                                                                                                                                                                                                                             |Cleaned_text                                                                                                                                                                                                                              |userid               |gmap_id                              |time         |rating|text_length|preprocessed_text                                                                                                                                                                                                                                         |\n",
      "+-----+-------------------------------------------------------------------------------------------------------------------------------------------------------------------------------------------------------------------------------------------------------------------------------------------------------------------------------------------------------------------------------------------------+------------------------------------------------------------------------------------------------------------------------------------------------------------------------------------------------------------------------------------------+---------------------+-------------------------------------+-------------+------+-----------+----------------------------------------------------------------------------------------------------------------------------------------------------------------------------------------------------------------------------------------------------------+\n",
      "|0    |Placed an order through GrubHub at 5:30 PM had someone at my door with food at 5:50 PM. Magic is all I have to say about that feat and nothing wong with order either.                                                                                                                                                                                                                           |placed order grubhub 530 pm someone door food 550 pm magic say feat nothing wong order either                                                                                                                                             |1.11324010504241E20  |0x89e4441b4d9354c7:0xdfd1284f67f14274|1534629245777|5     |166        |[place, order, grubhub, 5:30, someon, door, food, 5:50, magic, say, feat, noth, wong, order, either]                                                                                                                                                      |\n",
      "|1    |Awesome food and friendly staff!                                                                                                                                                                                                                                                                                                                                                                 |awesome food friendly staff                                                                                                                                                                                                               |1.06575700939493E20  |0x89e4442994f25975:0x893dc8904a28d833|1552558757030|5     |32         |[awesom, food, friendli, staff]                                                                                                                                                                                                                           |\n",
      "|2    |Great staff  good food reasonable prices                                                                                                                                                                                                                                                                                                                                                         |great staff good food reasonable prices                                                                                                                                                                                                   |1.15242456334818E20  |0x89e4442994f25975:0x893dc8904a28d833|1512946668105|4     |40         |[great, staff, good, food, reason, price]                                                                                                                                                                                                                 |\n",
      "|3    |It's not bad, but I've never been a big fan of this chain. I feel the food is a little lacking in value (you don't really get large portions for the price) and the flavors aren't quite up to scratch compared to most chains. But I get it's healthier and hip and all that and that's cool I guess. My service at this particular Panera Bread was good, though, so I gave them an extra star.|bad ive never big fan chain feel food little lacking value dont really get large portions price flavors arent quite scratch compared chains get healthier hip thats cool guess service particular panera bread good though gave extra star|1.14323206211855E20  |0x89e441864426f40f:0x4c32a1328491c5c7|1517260996764|4     |385        |[bad, 've, never, big, fan, chain, feel, food, littl, lack, valu, n't, realli, get, larg, portion, price, flavor, n't, quit, scratch, compar, chain, get, healthier, hip, cool, guess, servic, particular, panera, bread, good, though, gave, extra, star]|\n",
      "|4    |Not a fan                                                                                                                                                                                                                                                                                                                                                                                        |fan                                                                                                                                                                                                                                       |1.06218523773326E20  |0x89e441864426f40f:0x4c32a1328491c5c7|1572784235574|3     |9          |[fan]                                                                                                                                                                                                                                                     |\n",
      "|5    |Awesome place to eat. Best clam chowder I ever had. Portions were huge. Seafood plates be easily feed two. Soup is only 1.00 extra with any dinner. Our waitress Laura was amazing. Definitely will be back.                                                                                                                                                                                     |awesome place eat best clam chowder ever portions huge seafood plates easily feed two soup 100 extra dinner waitress laura amazing definitely back                                                                                        |1.00701270288398E20  |0x89e4446892769813:0x9fe9d28cfc2d0d8b|1500592614907|5     |204        |[awesom, place, eat, best, clam, chowder, ever, portion, huge, seafood, plate, easili, feed, two, soup, 1.00, extra, dinner, waitress, laura, amaz, definit, back]                                                                                        |\n",
      "|6    |Great assortment of apples and pumpkins, lots of fun with the kids, great place to welcome the fall season                                                                                                                                                                                                                                                                                       |great assortment apples pumpkins lots fun kids great place welcome fall season                                                                                                                                                            |1.0900311992332799E20|0x89e501050c7796f7:0xde0adac8f3bfc115|1573219370514|5     |106        |[great, assort, appl, pumpkin, lot, fun, kid, great, place, welcom, fall, season]                                                                                                                                                                         |\n",
      "|7    |Fun, friendly and great people.                                                                                                                                                                                                                                                                                                                                                                  |fun friendly great people                                                                                                                                                                                                                 |1.06550401468423E20  |0x89e5af6ee40a9f87:0xbbfcc2d6b86687d4|1472996276928|5     |31         |[fun, friendli, great, peopl]                                                                                                                                                                                                                             |\n",
      "|8    |Awesome                                                                                                                                                                                                                                                                                                                                                                                          |awesome                                                                                                                                                                                                                                   |1.06721161741583E20  |0x89e5b7bc7733692d:0xefb25ac45091c05a|1530367808754|5     |7          |[awesom]                                                                                                                                                                                                                                                  |\n",
      "|9    |Attentive staff and breakfast all day!  Check it out.  GF bread is available.                                                                                                                                                                                                                                                                                                                    |attentive staff breakfast day check gf bread available                                                                                                                                                                                    |1.12585675669382E20  |0x89e5b68f814e2175:0x4e7476e892a851bc|1570616646410|5     |77         |[attent, staff, breakfast, day, check, bread, avail]                                                                                                                                                                                                      |\n",
      "|10   |The only place that knows how to make Jonny Cakes correctly. Meal  (breakfast) was great. Home made bread.                                                                                                                                                                                                                                                                                       |place knows make jonny cakes correctly meal breakfast great home made bread                                                                                                                                                               |1.06174124915015E20  |0x89e5b68f814e2175:0x4e7476e892a851bc|1548625485559|5     |106        |[place, know, make, jonni, cake, correctli, meal, breakfast, great, home, made, bread]                                                                                                                                                                    |\n",
      "|11   |Very nice                                                                                                                                                                                                                                                                                                                                                                                        |nice                                                                                                                                                                                                                                      |1.10039216995792E20  |0x89e44edcbb797da5:0x18cc88cc953da130|1525619481045|5     |9          |[nice]                                                                                                                                                                                                                                                    |\n",
      "|12   |Really awesome place to eat and hang out. It has a really cool vintage bakery vibe.                                                                                                                                                                                                                                                                                                              |really awesome place eat hang really cool vintage bakery vibe                                                                                                                                                                             |1.11636229492788E20  |0x89e445747aa555f5:0xca9e56112c5c6a66|1479074559277|5     |83         |[realli, awesom, place, eat, hang, realli, cool, vintag, bakeri, vibe]                                                                                                                                                                                    |\n",
      "|13   |Get the mac and cheese in the iron rammiken...any kind                                                                                                                                                                                                                                                                                                                                           |get mac cheese iron rammikenany kind                                                                                                                                                                                                      |1.06641653925646E20  |0x89e4ff5e0cf9e185:0x5a746385e3341278|1559656172697|5     |54         |[get, mac, chees, iron, rammiken, ..., kind]                                                                                                                                                                                                              |\n",
      "|14   |Very interesting, eclectic group of people! Awesome fabrication skills to be learned.                                                                                                                                                                                                                                                                                                            |interesting eclectic group people awesome fabrication skills learned                                                                                                                                                                      |1.17460225459798E20  |0x89e445a1162c789b:0x3bf3f1a34188e2e2|1569174061751|5     |85         |[interest, eclect, group, peopl, awesom, fabric, skill, learn]                                                                                                                                                                                            |\n",
      "|15   |Excellent local market with friendly staff and great sale prices.                                                                                                                                                                                                                                                                                                                                |excellent local market friendly staff great sale prices                                                                                                                                                                                   |1.11641519526621E20  |0x89e44b031d9691dd:0xebbf98e67a2a4e0c|1465746595016|5     |65         |[excel, local, market, friendli, staff, great, sale, price]                                                                                                                                                                                               |\n",
      "|16   |Great pizza and online ordering                                                                                                                                                                                                                                                                                                                                                                  |great pizza online ordering                                                                                                                                                                                                               |1.11105812288568E20  |0x89e44b2077a67743:0x373c2098de2244fd|1484972416524|5     |31         |[great, pizza, onlin, order]                                                                                                                                                                                                                              |\n",
      "|17   |This is a little market with some interesting international food. They also have great cooked food and sandwiches you can buy to eat there at tables or to go.                                                                                                                                                                                                                                   |little market interesting international food also great cooked food sandwiches buy eat tables go                                                                                                                                          |1.01159008619791E20  |0x89e44f0916767bdb:0x6fe527cb570399f5|1520600268423|5     |158        |[littl, market, interest, intern, food, also, great, cook, food, sandwich, buy, eat, tabl]                                                                                                                                                                |\n",
      "|18   |Amazing food. Great customer service.                                                                                                                                                                                                                                                                                                                                                            |amazing food great customer service                                                                                                                                                                                                       |1.01969808920606E20  |0x89e44f0916767bdb:0x6fe527cb570399f5|1539451619665|5     |37         |[amaz, food, great, custom, servic]                                                                                                                                                                                                                       |\n",
      "|19   |The yucca fries and steak are to die for!                                                                                                                                                                                                                                                                                                                                                        |yucca fries steak die                                                                                                                                                                                                                     |1.16024477135933E20  |0x89e4450b02028b41:0x68c6fc52c4cfef39|1548875078639|4     |41         |[yucca, fri, steak, die]                                                                                                                                                                                                                                  |\n",
      "+-----+-------------------------------------------------------------------------------------------------------------------------------------------------------------------------------------------------------------------------------------------------------------------------------------------------------------------------------------------------------------------------------------------------+------------------------------------------------------------------------------------------------------------------------------------------------------------------------------------------------------------------------------------------+---------------------+-------------------------------------+-------------+------+-----------+----------------------------------------------------------------------------------------------------------------------------------------------------------------------------------------------------------------------------------------------------------+\n",
      "only showing top 20 rows"
     ]
    }
   ],
   "source": [
    "df.show(truncate=False)"
   ]
  },
  {
   "cell_type": "code",
   "execution_count": 28,
   "metadata": {
    "tags": []
   },
   "outputs": [
    {
     "data": {
      "application/vnd.jupyter.widget-view+json": {
       "model_id": "",
       "version_major": 2,
       "version_minor": 0
      },
      "text/plain": [
       "FloatProgress(value=0.0, bar_style='info', description='Progress:', layout=Layout(height='25px', width='50%'),…"
      ]
     },
     "metadata": {},
     "output_type": "display_data"
    }
   ],
   "source": [
    "df.createOrReplaceTempView(\"greview_view_gold\")"
   ]
  },
  {
   "cell_type": "markdown",
   "metadata": {},
   "source": [
    "# Exploding cleaned text to get individual words"
   ]
  },
  {
   "attachments": {},
   "cell_type": "markdown",
   "metadata": {},
   "source": [
    "This line of code spilts the text into a list and the function explodes takes the individual words of the list and appends it as the column word in the new view.\n",
    "\n",
    "[Example (split), ](https://www.w3schools.com/sql/func_msaccess_split.asp)[Example (explode)](https://spark.apache.org/docs/3.1.3/api/python/reference/api/pyspark.sql.functions.explode.html)"
   ]
  },
  {
   "cell_type": "code",
   "execution_count": 29,
   "metadata": {
    "tags": []
   },
   "outputs": [
    {
     "data": {
      "application/vnd.jupyter.widget-view+json": {
       "model_id": "",
       "version_major": 2,
       "version_minor": 0
      },
      "text/plain": [
       "FloatProgress(value=0.0, bar_style='info', description='Progress:', layout=Layout(height='25px', width='50%'),…"
      ]
     },
     "metadata": {},
     "output_type": "display_data"
    },
    {
     "data": {
      "application/vnd.jupyter.widget-view+json": {
       "model_id": "a367ed6cb3024042b1b29da1da3b5beb",
       "version_major": 2,
       "version_minor": 0
      },
      "text/plain": [
       "VBox(children=(HBox(), EncodingWidget(children=(VBox(children=(HTML(value='Encoding:'), Dropdown(description='…"
      ]
     },
     "metadata": {},
     "output_type": "display_data"
    },
    {
     "data": {
      "application/vnd.jupyter.widget-view+json": {
       "model_id": "91ec6ece294f464585863d034de90a3d",
       "version_major": 2,
       "version_minor": 0
      },
      "text/plain": [
       "Output()"
      ]
     },
     "metadata": {},
     "output_type": "display_data"
    }
   ],
   "source": [
    "%%sql\n",
    "\n",
    "CREATE OR REPLACE TEMP VIEW greview_view_gold2 AS\n",
    "SELECT explode(split(Cleaned_text, ' ')) as word\n",
    "FROM greview_view_gold;"
   ]
  },
  {
   "cell_type": "markdown",
   "metadata": {},
   "source": [
    "## Final creation of gold table for visualisation and modelling usage"
   ]
  },
  {
   "attachments": {},
   "cell_type": "markdown",
   "metadata": {},
   "source": [
    "This portion creates the views and tables needed for modelling and visualisation using sql queries which will not be explained in detail."
   ]
  },
  {
   "cell_type": "code",
   "execution_count": 30,
   "metadata": {
    "tags": []
   },
   "outputs": [
    {
     "data": {
      "application/vnd.jupyter.widget-view+json": {
       "model_id": "",
       "version_major": 2,
       "version_minor": 0
      },
      "text/plain": [
       "FloatProgress(value=0.0, bar_style='info', description='Progress:', layout=Layout(height='25px', width='50%'),…"
      ]
     },
     "metadata": {},
     "output_type": "display_data"
    },
    {
     "data": {
      "application/vnd.jupyter.widget-view+json": {
       "model_id": "ad3ea01bc72e47868da0fe3b42b5e357",
       "version_major": 2,
       "version_minor": 0
      },
      "text/plain": [
       "VBox(children=(HBox(), EncodingWidget(children=(VBox(children=(HTML(value='Encoding:'), Dropdown(description='…"
      ]
     },
     "metadata": {},
     "output_type": "display_data"
    },
    {
     "data": {
      "application/vnd.jupyter.widget-view+json": {
       "model_id": "e4223c16389840e69a071678c1e02fb3",
       "version_major": 2,
       "version_minor": 0
      },
      "text/plain": [
       "Output()"
      ]
     },
     "metadata": {},
     "output_type": "display_data"
    }
   ],
   "source": [
    "%%sql\n",
    "\n",
    "CREATE TABLE IF NOT EXISTS greview_viz\n",
    "AS SELECT * FROM greview_view_gold;"
   ]
  },
  {
   "cell_type": "code",
   "execution_count": 31,
   "metadata": {
    "tags": []
   },
   "outputs": [
    {
     "data": {
      "application/vnd.jupyter.widget-view+json": {
       "model_id": "",
       "version_major": 2,
       "version_minor": 0
      },
      "text/plain": [
       "FloatProgress(value=0.0, bar_style='info', description='Progress:', layout=Layout(height='25px', width='50%'),…"
      ]
     },
     "metadata": {},
     "output_type": "display_data"
    },
    {
     "name": "stdout",
     "output_type": "stream",
     "text": [
      "+-----+-------------------------------------------------------------------------------------------------------------------------------------------------------------------------------------------------------------------------------------------------------------------------------------------------------------------------------------------------------------------------------------------------+------------------------------------------------------------------------------------------------------------------------------------------------------------------------------------------------------------------------------------------+---------------------+-------------------------------------+-------------+------+-----------+----------------------------------------------------------------------------------------------------------------------------------------------------------------------------------------------------------------------------------------------------------+\n",
      "|index|text                                                                                                                                                                                                                                                                                                                                                                                             |Cleaned_text                                                                                                                                                                                                                              |userid               |gmap_id                              |time         |rating|text_length|preprocessed_text                                                                                                                                                                                                                                         |\n",
      "+-----+-------------------------------------------------------------------------------------------------------------------------------------------------------------------------------------------------------------------------------------------------------------------------------------------------------------------------------------------------------------------------------------------------+------------------------------------------------------------------------------------------------------------------------------------------------------------------------------------------------------------------------------------------+---------------------+-------------------------------------+-------------+------+-----------+----------------------------------------------------------------------------------------------------------------------------------------------------------------------------------------------------------------------------------------------------------+\n",
      "|0    |Placed an order through GrubHub at 5:30 PM had someone at my door with food at 5:50 PM. Magic is all I have to say about that feat and nothing wong with order either.                                                                                                                                                                                                                           |placed order grubhub 530 pm someone door food 550 pm magic say feat nothing wong order either                                                                                                                                             |1.11324010504241E20  |0x89e4441b4d9354c7:0xdfd1284f67f14274|1534629245777|5     |166        |[place, order, grubhub, 5:30, someon, door, food, 5:50, magic, say, feat, noth, wong, order, either]                                                                                                                                                      |\n",
      "|1    |Awesome food and friendly staff!                                                                                                                                                                                                                                                                                                                                                                 |awesome food friendly staff                                                                                                                                                                                                               |1.06575700939493E20  |0x89e4442994f25975:0x893dc8904a28d833|1552558757030|5     |32         |[awesom, food, friendli, staff]                                                                                                                                                                                                                           |\n",
      "|2    |Great staff  good food reasonable prices                                                                                                                                                                                                                                                                                                                                                         |great staff good food reasonable prices                                                                                                                                                                                                   |1.15242456334818E20  |0x89e4442994f25975:0x893dc8904a28d833|1512946668105|4     |40         |[great, staff, good, food, reason, price]                                                                                                                                                                                                                 |\n",
      "|3    |It's not bad, but I've never been a big fan of this chain. I feel the food is a little lacking in value (you don't really get large portions for the price) and the flavors aren't quite up to scratch compared to most chains. But I get it's healthier and hip and all that and that's cool I guess. My service at this particular Panera Bread was good, though, so I gave them an extra star.|bad ive never big fan chain feel food little lacking value dont really get large portions price flavors arent quite scratch compared chains get healthier hip thats cool guess service particular panera bread good though gave extra star|1.14323206211855E20  |0x89e441864426f40f:0x4c32a1328491c5c7|1517260996764|4     |385        |[bad, 've, never, big, fan, chain, feel, food, littl, lack, valu, n't, realli, get, larg, portion, price, flavor, n't, quit, scratch, compar, chain, get, healthier, hip, cool, guess, servic, particular, panera, bread, good, though, gave, extra, star]|\n",
      "|4    |Not a fan                                                                                                                                                                                                                                                                                                                                                                                        |fan                                                                                                                                                                                                                                       |1.06218523773326E20  |0x89e441864426f40f:0x4c32a1328491c5c7|1572784235574|3     |9          |[fan]                                                                                                                                                                                                                                                     |\n",
      "|5    |Awesome place to eat. Best clam chowder I ever had. Portions were huge. Seafood plates be easily feed two. Soup is only 1.00 extra with any dinner. Our waitress Laura was amazing. Definitely will be back.                                                                                                                                                                                     |awesome place eat best clam chowder ever portions huge seafood plates easily feed two soup 100 extra dinner waitress laura amazing definitely back                                                                                        |1.00701270288398E20  |0x89e4446892769813:0x9fe9d28cfc2d0d8b|1500592614907|5     |204        |[awesom, place, eat, best, clam, chowder, ever, portion, huge, seafood, plate, easili, feed, two, soup, 1.00, extra, dinner, waitress, laura, amaz, definit, back]                                                                                        |\n",
      "|6    |Great assortment of apples and pumpkins, lots of fun with the kids, great place to welcome the fall season                                                                                                                                                                                                                                                                                       |great assortment apples pumpkins lots fun kids great place welcome fall season                                                                                                                                                            |1.0900311992332799E20|0x89e501050c7796f7:0xde0adac8f3bfc115|1573219370514|5     |106        |[great, assort, appl, pumpkin, lot, fun, kid, great, place, welcom, fall, season]                                                                                                                                                                         |\n",
      "|7    |Fun, friendly and great people.                                                                                                                                                                                                                                                                                                                                                                  |fun friendly great people                                                                                                                                                                                                                 |1.06550401468423E20  |0x89e5af6ee40a9f87:0xbbfcc2d6b86687d4|1472996276928|5     |31         |[fun, friendli, great, peopl]                                                                                                                                                                                                                             |\n",
      "|8    |Awesome                                                                                                                                                                                                                                                                                                                                                                                          |awesome                                                                                                                                                                                                                                   |1.06721161741583E20  |0x89e5b7bc7733692d:0xefb25ac45091c05a|1530367808754|5     |7          |[awesom]                                                                                                                                                                                                                                                  |\n",
      "|9    |Attentive staff and breakfast all day!  Check it out.  GF bread is available.                                                                                                                                                                                                                                                                                                                    |attentive staff breakfast day check gf bread available                                                                                                                                                                                    |1.12585675669382E20  |0x89e5b68f814e2175:0x4e7476e892a851bc|1570616646410|5     |77         |[attent, staff, breakfast, day, check, bread, avail]                                                                                                                                                                                                      |\n",
      "|10   |The only place that knows how to make Jonny Cakes correctly. Meal  (breakfast) was great. Home made bread.                                                                                                                                                                                                                                                                                       |place knows make jonny cakes correctly meal breakfast great home made bread                                                                                                                                                               |1.06174124915015E20  |0x89e5b68f814e2175:0x4e7476e892a851bc|1548625485559|5     |106        |[place, know, make, jonni, cake, correctli, meal, breakfast, great, home, made, bread]                                                                                                                                                                    |\n",
      "|11   |Very nice                                                                                                                                                                                                                                                                                                                                                                                        |nice                                                                                                                                                                                                                                      |1.10039216995792E20  |0x89e44edcbb797da5:0x18cc88cc953da130|1525619481045|5     |9          |[nice]                                                                                                                                                                                                                                                    |\n",
      "|12   |Really awesome place to eat and hang out. It has a really cool vintage bakery vibe.                                                                                                                                                                                                                                                                                                              |really awesome place eat hang really cool vintage bakery vibe                                                                                                                                                                             |1.11636229492788E20  |0x89e445747aa555f5:0xca9e56112c5c6a66|1479074559277|5     |83         |[realli, awesom, place, eat, hang, realli, cool, vintag, bakeri, vibe]                                                                                                                                                                                    |\n",
      "|13   |Get the mac and cheese in the iron rammiken...any kind                                                                                                                                                                                                                                                                                                                                           |get mac cheese iron rammikenany kind                                                                                                                                                                                                      |1.06641653925646E20  |0x89e4ff5e0cf9e185:0x5a746385e3341278|1559656172697|5     |54         |[get, mac, chees, iron, rammiken, ..., kind]                                                                                                                                                                                                              |\n",
      "|14   |Very interesting, eclectic group of people! Awesome fabrication skills to be learned.                                                                                                                                                                                                                                                                                                            |interesting eclectic group people awesome fabrication skills learned                                                                                                                                                                      |1.17460225459798E20  |0x89e445a1162c789b:0x3bf3f1a34188e2e2|1569174061751|5     |85         |[interest, eclect, group, peopl, awesom, fabric, skill, learn]                                                                                                                                                                                            |\n",
      "|15   |Excellent local market with friendly staff and great sale prices.                                                                                                                                                                                                                                                                                                                                |excellent local market friendly staff great sale prices                                                                                                                                                                                   |1.11641519526621E20  |0x89e44b031d9691dd:0xebbf98e67a2a4e0c|1465746595016|5     |65         |[excel, local, market, friendli, staff, great, sale, price]                                                                                                                                                                                               |\n",
      "|16   |Great pizza and online ordering                                                                                                                                                                                                                                                                                                                                                                  |great pizza online ordering                                                                                                                                                                                                               |1.11105812288568E20  |0x89e44b2077a67743:0x373c2098de2244fd|1484972416524|5     |31         |[great, pizza, onlin, order]                                                                                                                                                                                                                              |\n",
      "|17   |This is a little market with some interesting international food. They also have great cooked food and sandwiches you can buy to eat there at tables or to go.                                                                                                                                                                                                                                   |little market interesting international food also great cooked food sandwiches buy eat tables go                                                                                                                                          |1.01159008619791E20  |0x89e44f0916767bdb:0x6fe527cb570399f5|1520600268423|5     |158        |[littl, market, interest, intern, food, also, great, cook, food, sandwich, buy, eat, tabl]                                                                                                                                                                |\n",
      "|18   |Amazing food. Great customer service.                                                                                                                                                                                                                                                                                                                                                            |amazing food great customer service                                                                                                                                                                                                       |1.01969808920606E20  |0x89e44f0916767bdb:0x6fe527cb570399f5|1539451619665|5     |37         |[amaz, food, great, custom, servic]                                                                                                                                                                                                                       |\n",
      "|19   |The yucca fries and steak are to die for!                                                                                                                                                                                                                                                                                                                                                        |yucca fries steak die                                                                                                                                                                                                                     |1.16024477135933E20  |0x89e4450b02028b41:0x68c6fc52c4cfef39|1548875078639|4     |41         |[yucca, fri, steak, die]                                                                                                                                                                                                                                  |\n",
      "+-----+-------------------------------------------------------------------------------------------------------------------------------------------------------------------------------------------------------------------------------------------------------------------------------------------------------------------------------------------------------------------------------------------------+------------------------------------------------------------------------------------------------------------------------------------------------------------------------------------------------------------------------------------------+---------------------+-------------------------------------+-------------+------+-----------+----------------------------------------------------------------------------------------------------------------------------------------------------------------------------------------------------------------------------------------------------------+\n",
      "only showing top 20 rows"
     ]
    }
   ],
   "source": [
    "df = spark.read.table(\"greview_viz\")\n",
    "df.show(truncate=False)"
   ]
  },
  {
   "cell_type": "code",
   "execution_count": 32,
   "metadata": {
    "tags": []
   },
   "outputs": [
    {
     "data": {
      "application/vnd.jupyter.widget-view+json": {
       "model_id": "",
       "version_major": 2,
       "version_minor": 0
      },
      "text/plain": [
       "FloatProgress(value=0.0, bar_style='info', description='Progress:', layout=Layout(height='25px', width='50%'),…"
      ]
     },
     "metadata": {},
     "output_type": "display_data"
    },
    {
     "data": {
      "application/vnd.jupyter.widget-view+json": {
       "model_id": "15e9ad4e1711488c8e5cfe9c5c3c9902",
       "version_major": 2,
       "version_minor": 0
      },
      "text/plain": [
       "VBox(children=(HBox(), EncodingWidget(children=(VBox(children=(HTML(value='Encoding:'), Dropdown(description='…"
      ]
     },
     "metadata": {},
     "output_type": "display_data"
    },
    {
     "data": {
      "application/vnd.jupyter.widget-view+json": {
       "model_id": "b17a9ecf27904c93994729e2bc149e63",
       "version_major": 2,
       "version_minor": 0
      },
      "text/plain": [
       "Output()"
      ]
     },
     "metadata": {},
     "output_type": "display_data"
    }
   ],
   "source": [
    "%%sql\n",
    "\n",
    "drop table greview_viz_word"
   ]
  },
  {
   "cell_type": "code",
   "execution_count": 33,
   "metadata": {
    "tags": []
   },
   "outputs": [
    {
     "data": {
      "application/vnd.jupyter.widget-view+json": {
       "model_id": "",
       "version_major": 2,
       "version_minor": 0
      },
      "text/plain": [
       "FloatProgress(value=0.0, bar_style='info', description='Progress:', layout=Layout(height='25px', width='50%'),…"
      ]
     },
     "metadata": {},
     "output_type": "display_data"
    },
    {
     "data": {
      "application/vnd.jupyter.widget-view+json": {
       "model_id": "fd73b33112e64814a1e109cfa082a11b",
       "version_major": 2,
       "version_minor": 0
      },
      "text/plain": [
       "VBox(children=(HBox(), EncodingWidget(children=(VBox(children=(HTML(value='Encoding:'), Dropdown(description='…"
      ]
     },
     "metadata": {},
     "output_type": "display_data"
    },
    {
     "data": {
      "application/vnd.jupyter.widget-view+json": {
       "model_id": "c81e848807dd4891b191c0d8a4c8317e",
       "version_major": 2,
       "version_minor": 0
      },
      "text/plain": [
       "Output()"
      ]
     },
     "metadata": {},
     "output_type": "display_data"
    }
   ],
   "source": [
    "%%sql\n",
    "\n",
    "CREATE TABLE IF NOT EXISTS greview_viz_word\n",
    "AS SELECT * FROM greview_view_gold2;"
   ]
  },
  {
   "cell_type": "code",
   "execution_count": 34,
   "metadata": {
    "tags": []
   },
   "outputs": [
    {
     "data": {
      "application/vnd.jupyter.widget-view+json": {
       "model_id": "",
       "version_major": 2,
       "version_minor": 0
      },
      "text/plain": [
       "FloatProgress(value=0.0, bar_style='info', description='Progress:', layout=Layout(height='25px', width='50%'),…"
      ]
     },
     "metadata": {},
     "output_type": "display_data"
    },
    {
     "data": {
      "application/vnd.jupyter.widget-view+json": {
       "model_id": "17ecfec71b7341de8d82c7f0d8769977",
       "version_major": 2,
       "version_minor": 0
      },
      "text/plain": [
       "VBox(children=(HBox(children=(HTML(value='Type:'), Button(description='Table', layout=Layout(width='70px'), st…"
      ]
     },
     "metadata": {},
     "output_type": "display_data"
    },
    {
     "data": {
      "application/vnd.jupyter.widget-view+json": {
       "model_id": "3d59ebc49204444b93684f2943c5d54d",
       "version_major": 2,
       "version_minor": 0
      },
      "text/plain": [
       "Output()"
      ]
     },
     "metadata": {},
     "output_type": "display_data"
    }
   ],
   "source": [
    "%%sql\n",
    "\n",
    "SELECT COUNT(*) FROM greview_viz_word;"
   ]
  },
  {
   "cell_type": "markdown",
   "metadata": {},
   "source": [
    "Create the table for modelling."
   ]
  },
  {
   "cell_type": "code",
   "execution_count": 35,
   "metadata": {
    "tags": []
   },
   "outputs": [
    {
     "data": {
      "application/vnd.jupyter.widget-view+json": {
       "model_id": "",
       "version_major": 2,
       "version_minor": 0
      },
      "text/plain": [
       "FloatProgress(value=0.0, bar_style='info', description='Progress:', layout=Layout(height='25px', width='50%'),…"
      ]
     },
     "metadata": {},
     "output_type": "display_data"
    },
    {
     "data": {
      "application/vnd.jupyter.widget-view+json": {
       "model_id": "eb1165b2d1b14cb3a3cc0443d9ca4cd4",
       "version_major": 2,
       "version_minor": 0
      },
      "text/plain": [
       "VBox(children=(HBox(), EncodingWidget(children=(VBox(children=(HTML(value='Encoding:'), Dropdown(description='…"
      ]
     },
     "metadata": {},
     "output_type": "display_data"
    },
    {
     "data": {
      "application/vnd.jupyter.widget-view+json": {
       "model_id": "11e62aa2d86c440dbe2fe73989ddb0f1",
       "version_major": 2,
       "version_minor": 0
      },
      "text/plain": [
       "Output()"
      ]
     },
     "metadata": {},
     "output_type": "display_data"
    }
   ],
   "source": [
    "%%sql\n",
    "\n",
    "drop table greview_model"
   ]
  },
  {
   "cell_type": "code",
   "execution_count": 36,
   "metadata": {
    "tags": []
   },
   "outputs": [
    {
     "data": {
      "application/vnd.jupyter.widget-view+json": {
       "model_id": "",
       "version_major": 2,
       "version_minor": 0
      },
      "text/plain": [
       "FloatProgress(value=0.0, bar_style='info', description='Progress:', layout=Layout(height='25px', width='50%'),…"
      ]
     },
     "metadata": {},
     "output_type": "display_data"
    },
    {
     "data": {
      "application/vnd.jupyter.widget-view+json": {
       "model_id": "74b93e8d678643fba2fe33222ac9a1e5",
       "version_major": 2,
       "version_minor": 0
      },
      "text/plain": [
       "VBox(children=(HBox(), EncodingWidget(children=(VBox(children=(HTML(value='Encoding:'), Dropdown(description='…"
      ]
     },
     "metadata": {},
     "output_type": "display_data"
    },
    {
     "data": {
      "application/vnd.jupyter.widget-view+json": {
       "model_id": "66ca712c7d88457cbeefbf87495ab829",
       "version_major": 2,
       "version_minor": 0
      },
      "text/plain": [
       "Output()"
      ]
     },
     "metadata": {},
     "output_type": "display_data"
    }
   ],
   "source": [
    "%%sql\n",
    "\n",
    "CREATE TABLE IF NOT EXISTS greview_model AS\n",
    "SELECT text,rating AS label FROM greview_view_gold;"
   ]
  },
  {
   "cell_type": "code",
   "execution_count": 37,
   "metadata": {
    "tags": []
   },
   "outputs": [
    {
     "data": {
      "application/vnd.jupyter.widget-view+json": {
       "model_id": "",
       "version_major": 2,
       "version_minor": 0
      },
      "text/plain": [
       "FloatProgress(value=0.0, bar_style='info', description='Progress:', layout=Layout(height='25px', width='50%'),…"
      ]
     },
     "metadata": {},
     "output_type": "display_data"
    },
    {
     "name": "stdout",
     "output_type": "stream",
     "text": [
      "+-------------------------------------------------------------------------------------------------------------------------------------------------------------------------------------------------------------------------------------------------------------------------------------------------------------------------------------------------------------------------------------------------+-----+\n",
      "|text                                                                                                                                                                                                                                                                                                                                                                                             |label|\n",
      "+-------------------------------------------------------------------------------------------------------------------------------------------------------------------------------------------------------------------------------------------------------------------------------------------------------------------------------------------------------------------------------------------------+-----+\n",
      "|Placed an order through GrubHub at 5:30 PM had someone at my door with food at 5:50 PM. Magic is all I have to say about that feat and nothing wong with order either.                                                                                                                                                                                                                           |5    |\n",
      "|Awesome food and friendly staff!                                                                                                                                                                                                                                                                                                                                                                 |5    |\n",
      "|Great staff  good food reasonable prices                                                                                                                                                                                                                                                                                                                                                         |4    |\n",
      "|It's not bad, but I've never been a big fan of this chain. I feel the food is a little lacking in value (you don't really get large portions for the price) and the flavors aren't quite up to scratch compared to most chains. But I get it's healthier and hip and all that and that's cool I guess. My service at this particular Panera Bread was good, though, so I gave them an extra star.|4    |\n",
      "|Not a fan                                                                                                                                                                                                                                                                                                                                                                                        |3    |\n",
      "|Awesome place to eat. Best clam chowder I ever had. Portions were huge. Seafood plates be easily feed two. Soup is only 1.00 extra with any dinner. Our waitress Laura was amazing. Definitely will be back.                                                                                                                                                                                     |5    |\n",
      "|Great assortment of apples and pumpkins, lots of fun with the kids, great place to welcome the fall season                                                                                                                                                                                                                                                                                       |5    |\n",
      "|Fun, friendly and great people.                                                                                                                                                                                                                                                                                                                                                                  |5    |\n",
      "|Awesome                                                                                                                                                                                                                                                                                                                                                                                          |5    |\n",
      "|Attentive staff and breakfast all day!  Check it out.  GF bread is available.                                                                                                                                                                                                                                                                                                                    |5    |\n",
      "|The only place that knows how to make Jonny Cakes correctly. Meal  (breakfast) was great. Home made bread.                                                                                                                                                                                                                                                                                       |5    |\n",
      "|Very nice                                                                                                                                                                                                                                                                                                                                                                                        |5    |\n",
      "|Really awesome place to eat and hang out. It has a really cool vintage bakery vibe.                                                                                                                                                                                                                                                                                                              |5    |\n",
      "|Get the mac and cheese in the iron rammiken...any kind                                                                                                                                                                                                                                                                                                                                           |5    |\n",
      "|Very interesting, eclectic group of people! Awesome fabrication skills to be learned.                                                                                                                                                                                                                                                                                                            |5    |\n",
      "|Excellent local market with friendly staff and great sale prices.                                                                                                                                                                                                                                                                                                                                |5    |\n",
      "|Great pizza and online ordering                                                                                                                                                                                                                                                                                                                                                                  |5    |\n",
      "|This is a little market with some interesting international food. They also have great cooked food and sandwiches you can buy to eat there at tables or to go.                                                                                                                                                                                                                                   |5    |\n",
      "|Amazing food. Great customer service.                                                                                                                                                                                                                                                                                                                                                            |5    |\n",
      "|The yucca fries and steak are to die for!                                                                                                                                                                                                                                                                                                                                                        |4    |\n",
      "+-------------------------------------------------------------------------------------------------------------------------------------------------------------------------------------------------------------------------------------------------------------------------------------------------------------------------------------------------------------------------------------------------+-----+\n",
      "only showing top 20 rows"
     ]
    }
   ],
   "source": [
    "df = spark.read.table(\"greview_model\")\n",
    "df.show(truncate=False)"
   ]
  },
  {
   "cell_type": "code",
   "execution_count": 38,
   "metadata": {
    "tags": []
   },
   "outputs": [
    {
     "data": {
      "application/vnd.jupyter.widget-view+json": {
       "model_id": "",
       "version_major": 2,
       "version_minor": 0
      },
      "text/plain": [
       "FloatProgress(value=0.0, bar_style='info', description='Progress:', layout=Layout(height='25px', width='50%'),…"
      ]
     },
     "metadata": {},
     "output_type": "display_data"
    }
   ],
   "source": [
    "df.write.format(\"delta\") \\\n",
    "    .mode(\"overwrite\") \\\n",
    "    .save(\"s3a://dataops-example/justin/nlp/greview_model\")"
   ]
  },
  {
   "cell_type": "code",
   "execution_count": 39,
   "metadata": {
    "tags": []
   },
   "outputs": [
    {
     "data": {
      "application/vnd.jupyter.widget-view+json": {
       "model_id": "",
       "version_major": 2,
       "version_minor": 0
      },
      "text/plain": [
       "FloatProgress(value=0.0, bar_style='info', description='Progress:', layout=Layout(height='25px', width='50%'),…"
      ]
     },
     "metadata": {},
     "output_type": "display_data"
    },
    {
     "data": {
      "application/vnd.jupyter.widget-view+json": {
       "model_id": "4078369303b1417e82699038b39be4e0",
       "version_major": 2,
       "version_minor": 0
      },
      "text/plain": [
       "VBox(children=(HBox(children=(HTML(value='Type:'), Button(description='Table', layout=Layout(width='70px'), st…"
      ]
     },
     "metadata": {},
     "output_type": "display_data"
    },
    {
     "data": {
      "application/vnd.jupyter.widget-view+json": {
       "model_id": "13b10b6d81fd4052b0bdc8199f047b85",
       "version_major": 2,
       "version_minor": 0
      },
      "text/plain": [
       "Output()"
      ]
     },
     "metadata": {},
     "output_type": "display_data"
    }
   ],
   "source": [
    "%%sql\n",
    "    \n",
    "SHOW TABLES;"
   ]
  }
 ],
 "metadata": {
  "kernelspec": {
   "display_name": "PySpark",
   "language": "python",
   "name": "pysparkkernel"
  },
  "language_info": {
   "codemirror_mode": {
    "name": "python",
    "version": 3
   },
   "file_extension": ".py",
   "mimetype": "text/x-python",
   "name": "pyspark",
   "pygments_lexer": "python3"
  }
 },
 "nbformat": 4,
 "nbformat_minor": 4
}
