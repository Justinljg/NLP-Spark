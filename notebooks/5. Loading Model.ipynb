{
 "cells": [
  {
   "cell_type": "markdown",
   "id": "b4e14338",
   "metadata": {},
   "source": [
    "# 5. Loading Model\n"
   ]
  },
  {
   "cell_type": "code",
   "execution_count": null,
   "id": "d8bdfe07-a0f3-4c0a-bb98-7df292cb4823",
   "metadata": {
    "tags": []
   },
   "outputs": [],
   "source": [
    "%_do_not_call_change_endpoint --username  --password  --server https://lighter-staging.vbrani.aisingapore.net/lighter/api  "
   ]
  },
  {
   "cell_type": "code",
   "execution_count": null,
   "id": "cd055aeb-9cbf-41d3-9e62-c8051ece8dc6",
   "metadata": {
    "tags": []
   },
   "outputs": [],
   "source": [
    "%%configure -f\n",
    "{\"conf\": {\n",
    "        \"spark.sql.warehouse.dir\" : \"s3a://dataops-example/nlp\",\n",
    "        \"spark.hadoop.fs.s3a.access.key\":\"\",\n",
    "        \"spark.hadoop.fs.s3a.secret.key\": \"\",\n",
    "        \"spark.serializer\": \"org.apache.spark.serializer.KryoSerializer\", \n",
    "        \"spark.kryoserializer.buffer.max\": \"2000M\",\n",
    "        \"spark.driver.maxResultSize\": \"0\",\n",
    "        \"spark.kubernetes.container.image\": \"justinljg/dep:1.08\",\n",
    "        \"spark.kubernetes.container.image.pullPolicy\" : \"Always\",\n",
    "        \"spark.jsl.settings.pretrained.cache_folder\": \"/opt/spark/work-dir\",\n",
    "        \"spark.kubernetes.driver.volumes.persistentVolumeClaim.lighter-sparknlptest-pvc.options.claimName\": \"lighter-sparknlptest-pvc\",\n",
    "        \"spark.kubernetes.driver.volumes.persistentVolumeClaim.lighter-sparknlptest-pvc.mount.path\": \"/opt/spark/work-dir\",\n",
    "        \"spark.kubernetes.executor.volumes.persistentVolumeClaim.lighter-sparknlptest-pvc.options.claimName\": \"lighter-sparknlptest-pvc\",\n",
    "        \"spark.kubernetes.executor.volumes.persistentVolumeClaim.lighter-sparknlptest-pvc.mount.path\": \"/opt/spark/work-dir\",\n",
    "        \"spark.jsl.settings.annotator.log_folder\": \"/opt/spark/work-dir/logs\",\n",
    "        \"spark.dynamicAllocation.enabled\": \"true\",\n",
    "        \"spark.dynamicAllocation.shuffleTracking.enabled\": \"true\",\n",
    "        \"spark.dynamicAllocation.minExecutors\": \"2\",\n",
    "        \"spark.dynamicAllocation.maxExecutors\": \"10\"\n",
    "    },\n",
    " \"executorMemory\": \"3G\",\n",
    " \"executorCores\": 1,\n",
    " \"driverMemory\": \"16G\",\n",
    " \"driverCores\": 1\n",
    "}"
   ]
  },
  {
   "cell_type": "code",
   "execution_count": 14,
   "id": "fdbfc159-f152-411a-9754-cd97d2734b5c",
   "metadata": {
    "tags": []
   },
   "outputs": [
    {
     "data": {
      "application/vnd.jupyter.widget-view+json": {
       "model_id": "",
       "version_major": 2,
       "version_minor": 0
      },
      "text/plain": [
       "FloatProgress(value=0.0, bar_style='info', description='Progress:', layout=Layout(height='25px', width='50%'),…"
      ]
     },
     "metadata": {},
     "output_type": "display_data"
    }
   ],
   "source": [
    "from pyspark.ml import PipelineModel"
   ]
  },
  {
   "cell_type": "code",
   "execution_count": 15,
   "id": "0f4af306-e79b-4623-8e2f-ac0b91377d7c",
   "metadata": {
    "tags": []
   },
   "outputs": [
    {
     "data": {
      "application/vnd.jupyter.widget-view+json": {
       "model_id": "",
       "version_major": 2,
       "version_minor": 0
      },
      "text/plain": [
       "FloatProgress(value=0.0, bar_style='info', description='Progress:', layout=Layout(height='25px', width='50%'),…"
      ]
     },
     "metadata": {},
     "output_type": "display_data"
    }
   ],
   "source": [
    "model = PipelineModel.load(\"s3a://dataops-example/nlp/models/greview_bert\")"
   ]
  },
  {
   "cell_type": "code",
   "execution_count": 16,
   "id": "86b3f27b-a506-4076-a0a6-10a53d69a988",
   "metadata": {
    "tags": []
   },
   "outputs": [
    {
     "data": {
      "application/vnd.jupyter.widget-view+json": {
       "model_id": "",
       "version_major": 2,
       "version_minor": 0
      },
      "text/plain": [
       "FloatProgress(value=0.0, bar_style='info', description='Progress:', layout=Layout(height='25px', width='50%'),…"
      ]
     },
     "metadata": {},
     "output_type": "display_data"
    }
   ],
   "source": [
    "text = \"I love AI Singapore\"\n",
    "sample_data = spark.createDataFrame([[text]]).toDF(\"text\")\n",
    "\n",
    "predict = model.transform(sample_data)"
   ]
  },
  {
   "cell_type": "code",
   "execution_count": 21,
   "id": "47fe78dd-973a-403a-96e4-01a11ae35d1f",
   "metadata": {
    "tags": []
   },
   "outputs": [
    {
     "data": {
      "application/vnd.jupyter.widget-view+json": {
       "model_id": "",
       "version_major": 2,
       "version_minor": 0
      },
      "text/plain": [
       "FloatProgress(value=0.0, bar_style='info', description='Progress:', layout=Layout(height='25px', width='50%'),…"
      ]
     },
     "metadata": {},
     "output_type": "display_data"
    },
    {
     "name": "stdout",
     "output_type": "stream",
     "text": [
      "+-------------------+------+\n",
      "|text               |result|\n",
      "+-------------------+------+\n",
      "|I love AI Singapore|[5]   |\n",
      "+-------------------+------+"
     ]
    }
   ],
   "source": [
    "predict.select(\"text\",\"class.result\").show(truncate=False)"
   ]
  }
 ],
 "metadata": {
  "kernelspec": {
   "display_name": "PySpark",
   "language": "python",
   "name": "pysparkkernel"
  },
  "language_info": {
   "codemirror_mode": {
    "name": "python",
    "version": 3
   },
   "file_extension": ".py",
   "mimetype": "text/x-python",
   "name": "pyspark",
   "pygments_lexer": "python3"
  }
 },
 "nbformat": 4,
 "nbformat_minor": 5
}
