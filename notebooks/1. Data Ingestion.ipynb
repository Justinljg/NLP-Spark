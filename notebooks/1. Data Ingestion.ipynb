{
 "cells": [
  {
   "cell_type": "markdown",
   "metadata": {},
   "source": [
    "## 1. Data Ingestion\n",
    "\n",
    "![picture](img/picture8.png)\n",
    "\n",
    "#### Content\n",
    "* Session Builder\n",
    "* Structure\n",
    "* Uploading\n",
    "* Reading and creating table in Database of interest\n",
    "\n",
    "#### Objective\n",
    "* To show users how to upload and create a table in the database"
   ]
  },
  {
   "attachments": {},
   "cell_type": "markdown",
   "metadata": {},
   "source": [
    " The notebook provides a sparkmagic kernel that sends code/sql queries to the lighter server. The lighter server communicates with the spark server which sends back the results through the lighter server.\n",
    "\n",
    "This line of code connects to the lighter server through the sparkmagic kernel.\n",
    "\n",
    "```\n",
    "%_do_not_call_change_endpoint --username  --password  --server https://lighter-staging.vbrani.aisingapore.net/lighter/api  \n",
    "```\n",
    "\n",
    "![picture](img/picture4.png)\n",
    "\n",
    "\n",
    "This code specify the configs for the spark session. \n",
    "\n",
    "```\n",
    "%%configure -f\n",
    "{\"conf\": {\n",
    "        \"spark.sql.warehouse.dir\" : \"s3a://dataops-example/justin\",\n",
    "        \"spark.hadoop.fs.s3a.access.key\":\"\",\n",
    "        \"spark.hadoop.fs.s3a.secret.key\": \"\",\n",
    "        \"spark.kubernetes.container.image\": \"justinljg/dep:1.08\",\n",
    "        \"spark.kubernetes.container.image.pullPolicy\" : \"Always\"\n",
    "    }\n",
    "}\n",
    "```\n",
    "\n",
    "spark.sql.warehouse.dir specifies the default location of database in warehouse.\n",
    "\n",
    "spark.hadoop.fs.s3a.access.key & spark.hadoop.fs.s3a.secret.key is the aws credential key.\n",
    "\n",
    "spark.kubernetes.container.image is the docker image that contains your dependencies.\n",
    "\n",
    "spark.kubernetes.container.image.pullPolicy is the option to always pull your docker image.\n"
   ]
  },
  {
   "cell_type": "code",
   "execution_count": 1,
   "metadata": {
    "tags": []
   },
   "outputs": [],
   "source": [
    "%_do_not_call_change_endpoint --username --password  --server https://lighter-staging.vbrani.aisingapore.net/lighter/api  "
   ]
  },
  {
   "cell_type": "code",
   "execution_count": null,
   "metadata": {
    "tags": []
   },
   "outputs": [],
   "source": [
    "%%configure -f\n",
    "{\"conf\": {\n",
    "        \"spark.sql.warehouse.dir\" : \"s3a://dataops-example/nlp\",\n",
    "        \"spark.hadoop.fs.s3a.access.key\":\"\",\n",
    "        \"spark.hadoop.fs.s3a.secret.key\": \"\",\n",
    "        \"spark.kubernetes.container.image\": \"justinljg/dep:1.08\",\n",
    "        \"spark.kubernetes.container.image.pullPolicy\" : \"Always\"\n",
    "    }\n",
    "}"
   ]
  },
  {
   "cell_type": "code",
   "execution_count": null,
   "metadata": {
    "tags": []
   },
   "outputs": [],
   "source": [
    "from delta import *"
   ]
  },
  {
   "attachments": {},
   "cell_type": "markdown",
   "metadata": {},
   "source": [
    "### Structure\n",
    "\n",
    "##### MultiHop Architecture\n",
    "The multi-hop architecture is a common method used in data engineering that involves organizing data into tables based on their quality level in the data pipeline. The three levels of tables are the Bronze tables, which contain raw, unstructured data; the Silver tables, which have been transformed and engineered to include more structure; and the Gold tables, which are used for machine learning training and prediction.\n",
    "\n",
    "The multi-hop architecture provides a structured approach to data processing and enables data engineers to build a pipeline that starts with raw data as a \"single source of truth\" and adds structure at each stage. This allows for recalculations and validations of subsequent transformations and aggregations to ensure that business-level aggregate tables reflect the underlying data, even as downstream users refine the data and introduce context-specific structure.\n",
    "\n",
    "![picture](img/picture1.jpg)\n",
    "\n",
    "![picture](img/picture3.png)\n",
    "\n",
    "For more information, please refer to [here](https://www.databricks.com/blog/2019/08/14/productionizing-machine-learning-with-delta-lake.html#:%5C~:text=A%20common%20architecture%20uses%20tables,(%E2%80%9CGold%E2%80%9D%20tables)).\n",
    "\n",
    "##### Tables and views\n",
    "\n",
    "This notebook will also follow a practice of creating views for processing and manipulating it before saving it as a bronze/silver/gold table."
   ]
  },
  {
   "attachments": {},
   "cell_type": "markdown",
   "metadata": {},
   "source": [
    "### Reading and creating table in Database of interest\n",
    "\n",
    "After uploading the data, the company's ingestion pipeline pandan reservoir will create a delta file. Read the delta file, create a view and create a table using the view. The purpose of using a new view is because it does not change the tables, it does not use the memory as a view, it is temporary and with the multihop architecture, it is easy to trace the errors when it occurs. \n",
    "\n",
    "AI Singapore has an ingestion data platform at https://udp.aisingapore.net/. \n",
    "\n",
    "Log in through google and load your data through the UI. \n",
    "\n",
    "![picture](img/picture15.png)\n",
    "![picture](img/picture2.png)\n",
    "\n",
    "The advantages of using this UI is because it converts the file into a delta format for the users to access directly, it is quite a fuss free process. \n",
    "\n",
    "This UI uses Pandan Reservoir service (or Delta Service) running on Kubernetes that initiates PySpark workloads for processing uploaded datasets. It reads the raw data from the specified source location and writes its .delta equivalent in the specified location.\n",
    "\n",
    "The overarching idea here is that the listener container will always be listening on a specific Kafka Topic. Upon receiving a message, it will pass that message as an environmental variable to the Worker container and runs the container via the Kubernetes Python API.\n",
    "Currently, PandanReservoir is deployed automatically through GitLab CICD."
   ]
  },
  {
   "cell_type": "markdown",
   "metadata": {},
   "source": [
    "## Reading and creating table in Database of interest\n",
    "\n",
    "After uploading the data, the company's ingestion pipeline pandan reservoir will create a delta file. Read the delta file, create a view and create a table using the view. The purpose of using a new view is because it does not change the tables, it does not use the memory as a view, it is temporary and with the multihop architecture, it is easy to trace the errors when it occurs. \n",
    "\n",
    "<br>This code reads and loads the delta file into a spark.sql.DataFrame. \n",
    "\n",
    "[Documentation](https://spark.apache.org/docs/latest/sql-data-sources-load-save-functions.html)\n",
    "\n",
    "```\n",
    "df_ingest = spark.read \\\n",
    "    .format(\"delta\") \\\n",
    "    .load(\"s3a://udptesting1/delta/csv/greview\")\n",
    "```"
   ]
  },
  {
   "cell_type": "markdown",
   "metadata": {},
   "source": [
    "In the case where you do not have the access to udptesting, the example data is availble in the cell below."
   ]
  },
  {
   "cell_type": "code",
   "execution_count": 4,
   "metadata": {
    "tags": []
   },
   "outputs": [
    {
     "data": {
      "application/vnd.jupyter.widget-view+json": {
       "model_id": "",
       "version_major": 2,
       "version_minor": 0
      },
      "text/plain": [
       "FloatProgress(value=0.0, bar_style='info', description='Progress:', layout=Layout(height='25px', width='50%'),…"
      ]
     },
     "metadata": {},
     "output_type": "display_data"
    }
   ],
   "source": [
    "df_ingest = spark.read \\\n",
    "    .format(\"delta\") \\\n",
    "    .load(\"s3a://dataops-example/nlp/delta/sparknlp\")"
   ]
  },
  {
   "cell_type": "markdown",
   "metadata": {},
   "source": [
    "This line executes to navigate to the database you want.\n",
    "\n",
    "[Documentation](https://docs.databricks.com/archive/spark-sql-2.x-language-manual/use-database.html)\n",
    "```\n",
    "%%sql\n",
    "\n",
    "USE SparkNLP;\n",
    "```"
   ]
  },
  {
   "cell_type": "code",
   "execution_count": 5,
   "metadata": {
    "tags": []
   },
   "outputs": [
    {
     "data": {
      "application/vnd.jupyter.widget-view+json": {
       "model_id": "",
       "version_major": 2,
       "version_minor": 0
      },
      "text/plain": [
       "FloatProgress(value=0.0, bar_style='info', description='Progress:', layout=Layout(height='25px', width='50%'),…"
      ]
     },
     "metadata": {},
     "output_type": "display_data"
    },
    {
     "data": {
      "application/vnd.jupyter.widget-view+json": {
       "model_id": "d47a0730a3684bc09854c009d77845d5",
       "version_major": 2,
       "version_minor": 0
      },
      "text/plain": [
       "VBox(children=(HBox(), EncodingWidget(children=(VBox(children=(HTML(value='Encoding:'), Dropdown(description='…"
      ]
     },
     "metadata": {},
     "output_type": "display_data"
    },
    {
     "data": {
      "application/vnd.jupyter.widget-view+json": {
       "model_id": "af4a3b68279c40e39ad5bcbe56734bee",
       "version_major": 2,
       "version_minor": 0
      },
      "text/plain": [
       "Output()"
      ]
     },
     "metadata": {},
     "output_type": "display_data"
    }
   ],
   "source": [
    "%%sql\n",
    "\n",
    "USE SparkNLP;"
   ]
  },
  {
   "cell_type": "markdown",
   "metadata": {},
   "source": [
    "This line creates a view.\n",
    "\n",
    "[Documentation](https://spark.apache.org/docs/3.1.3/api/python/reference/api/pyspark.sql.DataFrame.createOrReplaceTempView.html)\n",
    "```\n",
    "df_ingest.createOrReplaceTempView(\"greview_view_bronze)\n",
    "```"
   ]
  },
  {
   "cell_type": "code",
   "execution_count": 6,
   "metadata": {
    "tags": []
   },
   "outputs": [
    {
     "data": {
      "application/vnd.jupyter.widget-view+json": {
       "model_id": "",
       "version_major": 2,
       "version_minor": 0
      },
      "text/plain": [
       "FloatProgress(value=0.0, bar_style='info', description='Progress:', layout=Layout(height='25px', width='50%'),…"
      ]
     },
     "metadata": {},
     "output_type": "display_data"
    }
   ],
   "source": [
    "df_ingest.createOrReplaceTempView(\"greview_view_bronze\")"
   ]
  },
  {
   "cell_type": "markdown",
   "metadata": {},
   "source": [
    "This line selects everything from the view.\n",
    "\n",
    "[Documentation](https://docs.databricks.com/archive/spark-sql-2.x-language-manual/select.html)\n",
    "```\n",
    "%%sql\n",
    "\n",
    "SELECT * FROM greview_view_bronze;\n",
    "```"
   ]
  },
  {
   "cell_type": "code",
   "execution_count": 7,
   "metadata": {
    "tags": []
   },
   "outputs": [
    {
     "data": {
      "application/vnd.jupyter.widget-view+json": {
       "model_id": "",
       "version_major": 2,
       "version_minor": 0
      },
      "text/plain": [
       "FloatProgress(value=0.0, bar_style='info', description='Progress:', layout=Layout(height='25px', width='50%'),…"
      ]
     },
     "metadata": {},
     "output_type": "display_data"
    },
    {
     "data": {
      "application/vnd.jupyter.widget-view+json": {
       "model_id": "021d0a550ce846f8bbe44cbbebc4a536",
       "version_major": 2,
       "version_minor": 0
      },
      "text/plain": [
       "VBox(children=(HBox(children=(HTML(value='Type:'), Button(description='Table', layout=Layout(width='70px'), st…"
      ]
     },
     "metadata": {},
     "output_type": "display_data"
    },
    {
     "data": {
      "application/vnd.jupyter.widget-view+json": {
       "model_id": "572f9e0ea5c94e92954ddead3de9ef71",
       "version_major": 2,
       "version_minor": 0
      },
      "text/plain": [
       "Output()"
      ]
     },
     "metadata": {},
     "output_type": "display_data"
    }
   ],
   "source": [
    "%%sql\n",
    "\n",
    "SELECT * FROM greview_view_bronze;"
   ]
  },
  {
   "cell_type": "markdown",
   "metadata": {},
   "source": [
    "This line creates a table if it does not exist by selecting everything from the bronze view.\n",
    "\n",
    "[Documentation](https://docs.databricks.com/sql/language-manual/sql-ref-syntax-ddl-create-table-using.html)\n",
    "```\n",
    "%%sql\n",
    "\n",
    "CREATE TABLE IF NOT EXISTS greview_table_bronze\n",
    "AS SELECT * FROM greview_view_bronze;\n",
    "```"
   ]
  },
  {
   "cell_type": "code",
   "execution_count": 8,
   "metadata": {
    "tags": []
   },
   "outputs": [
    {
     "data": {
      "application/vnd.jupyter.widget-view+json": {
       "model_id": "",
       "version_major": 2,
       "version_minor": 0
      },
      "text/plain": [
       "FloatProgress(value=0.0, bar_style='info', description='Progress:', layout=Layout(height='25px', width='50%'),…"
      ]
     },
     "metadata": {},
     "output_type": "display_data"
    },
    {
     "data": {
      "application/vnd.jupyter.widget-view+json": {
       "model_id": "46515a938ad4439e84f7224141c7b063",
       "version_major": 2,
       "version_minor": 0
      },
      "text/plain": [
       "VBox(children=(HBox(), EncodingWidget(children=(VBox(children=(HTML(value='Encoding:'), Dropdown(description='…"
      ]
     },
     "metadata": {},
     "output_type": "display_data"
    },
    {
     "data": {
      "application/vnd.jupyter.widget-view+json": {
       "model_id": "0e6f4f369b444eb39ccb7034acfaafb4",
       "version_major": 2,
       "version_minor": 0
      },
      "text/plain": [
       "Output()"
      ]
     },
     "metadata": {},
     "output_type": "display_data"
    }
   ],
   "source": [
    "%%sql\n",
    "\n",
    "CREATE TABLE IF NOT EXISTS greview_table_bronze\n",
    "AS SELECT * FROM greview_view_bronze;"
   ]
  },
  {
   "cell_type": "markdown",
   "metadata": {},
   "source": [
    "This line shows the tables.\n",
    "\n",
    "[Documentation](https://docs.databricks.com/archive/spark-sql-2.x-language-manual/show-tables.html)\n",
    "```\n",
    "%%sql\n",
    "\n",
    "SHOW TABLES;\n",
    "```"
   ]
  },
  {
   "cell_type": "code",
   "execution_count": 9,
   "metadata": {
    "tags": []
   },
   "outputs": [
    {
     "data": {
      "application/vnd.jupyter.widget-view+json": {
       "model_id": "",
       "version_major": 2,
       "version_minor": 0
      },
      "text/plain": [
       "FloatProgress(value=0.0, bar_style='info', description='Progress:', layout=Layout(height='25px', width='50%'),…"
      ]
     },
     "metadata": {},
     "output_type": "display_data"
    },
    {
     "data": {
      "application/vnd.jupyter.widget-view+json": {
       "model_id": "ed1c6f6249604578ab1c3c9b83998e07",
       "version_major": 2,
       "version_minor": 0
      },
      "text/plain": [
       "VBox(children=(HBox(children=(HTML(value='Type:'), Button(description='Table', layout=Layout(width='70px'), st…"
      ]
     },
     "metadata": {},
     "output_type": "display_data"
    },
    {
     "data": {
      "application/vnd.jupyter.widget-view+json": {
       "model_id": "c8f61750c1d747a58ab4cad22676d931",
       "version_major": 2,
       "version_minor": 0
      },
      "text/plain": [
       "Output()"
      ]
     },
     "metadata": {},
     "output_type": "display_data"
    }
   ],
   "source": [
    "%%sql\n",
    "\n",
    "SHOW TABLES;"
   ]
  },
  {
   "cell_type": "code",
   "execution_count": 10,
   "metadata": {
    "tags": []
   },
   "outputs": [
    {
     "data": {
      "application/vnd.jupyter.widget-view+json": {
       "model_id": "",
       "version_major": 2,
       "version_minor": 0
      },
      "text/plain": [
       "FloatProgress(value=0.0, bar_style='info', description='Progress:', layout=Layout(height='25px', width='50%'),…"
      ]
     },
     "metadata": {},
     "output_type": "display_data"
    }
   ],
   "source": [
    "df = spark.read.table(\"greview_table_bronze\")"
   ]
  },
  {
   "cell_type": "code",
   "execution_count": 11,
   "metadata": {
    "tags": []
   },
   "outputs": [
    {
     "data": {
      "application/vnd.jupyter.widget-view+json": {
       "model_id": "",
       "version_major": 2,
       "version_minor": 0
      },
      "text/plain": [
       "FloatProgress(value=0.0, bar_style='info', description='Progress:', layout=Layout(height='25px', width='50%'),…"
      ]
     },
     "metadata": {},
     "output_type": "display_data"
    },
    {
     "name": "stdout",
     "output_type": "stream",
     "text": [
      "+-----+-------------------+--------------------+-------------+------+--------------------------------------------------------------------------------------------------------------------------------------------------------------------------------------------------------------------------------------------------------------------------------------------------------------------------------+----+-------------------------------------------------------------------------------------+-------------------------------------+----+----+----+----+----+----+----+\n",
      "|index|userid             |name                |time         |rating|text                                                                                                                                                                                                                                                                                                                            |pics|resp                                                                                 |gmap_id                              |_c9 |_c10|_c11|_c12|_c13|_c14|_c15|\n",
      "+-----+-------------------+--------------------+-------------+------+--------------------------------------------------------------------------------------------------------------------------------------------------------------------------------------------------------------------------------------------------------------------------------------------------------------------------------+----+-------------------------------------------------------------------------------------+-------------------------------------+----+----+----+----+----+----+----+\n",
      "|0    |1.07906906955291E20|Rubia Bella         |1601590520320|5     |Very good! Will eat here again! ☺️😍                                                                                                                                                                                                                                                                                            |null|{'time': 1602371857761, 'text': 'Hope to see you back again thanks for the feedback'}|0x89e44fe1c2a2a2c3:0x5fc9f6751fb29737|null|null|null|null|null|null|null|\n",
      "|1    |1.16735009919666E20|angel olivencia     |1602983693555|4     |Not bad place... good food                                                                                                                                                                                                                                                                                                      |null|null                                                                                 |0x89e44fe1c2a2a2c3:0x5fc9f6751fb29737|null|null|null|null|null|null|null|\n",
      "|2    |1.05746891382333E20|Daniel Reggiani     |1603064156784|5     |Really good food                                                                                                                                                                                                                                                                                                                |null|null                                                                                 |0x89e44fe1c2a2a2c3:0x5fc9f6751fb29737|null|null|null|null|null|null|null|\n",
      "|3    |1.16728227707438E20|Joseph “Joe” Solomon|1600710962505|5     |Great people and food                                                                                                                                                                                                                                                                                                           |null|{'time': 1602371881382, 'text': 'Thanks for the feedback'}                           |0x89e44fe1c2a2a2c3:0x5fc9f6751fb29737|null|null|null|null|null|null|null|\n",
      "|4    |1.11306322994544E20|Julio Robinson      |1601408236165|5     |null                                                                                                                                                                                                                                                                                                                            |null|{'time': 1602371865572, 'text': '🙏🏼'}                                              |0x89e44fe1c2a2a2c3:0x5fc9f6751fb29737|null|null|null|null|null|null|null|\n",
      "|5    |1.15712451150692E20|Lindsay Gavin       |1629827190525|5     |The people here are great!                                                                                                                                                                                                                                                                                                      |null|null                                                                                 |0x89e447136ec8abd7:0x577aa2b93b2c4754|null|null|null|null|null|null|null|\n",
      "|6    |1.04143164045993E20|Anne Ciaccio        |1605030375042|5     |We have been working with Rob C since we bought our first house last year.  He is professional, responsive and goes above and beyond to help us with any issues that come up. He takes his time to answer all questions. Would highly recommend him and Zelano Insurance to anyone who is looking/in need of an insurance agent.|null|null                                                                                 |0x89e447136ec8abd7:0x577aa2b93b2c4754|null|null|null|null|null|null|null|\n",
      "|7    |1.15219651458068E20|Edward Eramian      |1552924556974|5     |We are long time customers and the excellent service is why. Professional service, always available and competitive rates. Highly recommend then to family and friends.                                                                                                                                                         |null|null                                                                                 |0x89e447136ec8abd7:0x577aa2b93b2c4754|null|null|null|null|null|null|null|\n",
      "|8    |1.08205543190458E20|Sarah Ross          |1548272445091|5     |Best company around, very friendly and helpful. They are very knowledgeable in every area of insurance. They go above and beyond for their clients.                                                                                                                                                                             |null|null                                                                                 |0x89e447136ec8abd7:0x577aa2b93b2c4754|null|null|null|null|null|null|null|\n",
      "|9    |1.17464790641239E20|Demetria O'Neill    |1550370283100|5     |Professional staff friendly and great to work with, highly recommend                                                                                                                                                                                                                                                            |null|null                                                                                 |0x89e447136ec8abd7:0x577aa2b93b2c4754|null|null|null|null|null|null|null|\n",
      "|10   |1.00287513293946E20|Peter Kenahan       |1515432614196|5     |Top notch agency. Excellent staff and service.                                                                                                                                                                                                                                                                                  |null|null                                                                                 |0x89e447136ec8abd7:0x577aa2b93b2c4754|null|null|null|null|null|null|null|\n",
      "|11   |1.11382047841803E20|Glen Boisvert       |1543712943465|5     |Great people Anthony Jr did great with my insurance                                                                                                                                                                                                                                                                             |null|null                                                                                 |0x89e447136ec8abd7:0x577aa2b93b2c4754|null|null|null|null|null|null|null|\n",
      "|12   |1.00287513293946E20|Peter Kenahan       |1515432614196|5     |Top notch agency. Excellent staff and service.                                                                                                                                                                                                                                                                                  |null|null                                                                                 |0x89e447136ec8abd7:0x577aa2b93b2c4754|null|null|null|null|null|null|null|\n",
      "|13   |1.10677906570493E20|Yrisel Paez Chacon  |1545245936685|5     |amazing people to work with                                                                                                                                                                                                                                                                                                     |null|null                                                                                 |0x89e447136ec8abd7:0x577aa2b93b2c4754|null|null|null|null|null|null|null|\n",
      "|14   |1.1439517872881E20 |Anthony C           |1508113558394|5     |The staff is helpful to have my coffee ready.They made sure I was recognized and served promptly. A nice attitude. I like that and I recommend others to consider this establishment.                                                                                                                                           |null|null                                                                                 |0x89e44489cbeccc03:0xd3b75bf4e9a39824|null|null|null|null|null|null|null|\n",
      "|15   |1.00304662209342E20|Jeremy Holliday     |1554380335874|5     |I walk in and don't even have to barely speak anymore they all know what I get every morning, it's great very personable lovely ladies in the morning                                                                                                                                                                           |null|null                                                                                 |0x89e44489cbeccc03:0xd3b75bf4e9a39824|null|null|null|null|null|null|null|\n",
      "|16   |1.1039871628941E20 |Shelly              |1551723937761|5     |Mornings are the best time to come here; Quick, always delicious coffee and food, and the best customer service around.                                                                                                                                                                                                         |null|null                                                                                 |0x89e44489cbeccc03:0xd3b75bf4e9a39824|null|null|null|null|null|null|null|\n",
      "|17   |1.09977314916263E20|Claudia Threats     |1558985251296|5     |Very fresh the donuts.                                                                                                                                                                                                                                                                                                          |null|null                                                                                 |0x89e44489cbeccc03:0xd3b75bf4e9a39824|null|null|null|null|null|null|null|\n",
      "|18   |1.07802122807112E20|Vannessa Roy        |1558732733972|2     |My Coffee is never consistent and didnt like seeing all the guys that work there have long beards working with you food it's disgusting actually                                                                                                                                                                                |null|null                                                                                 |0x89e44489cbeccc03:0xd3b75bf4e9a39824|null|null|null|null|null|null|null|\n",
      "|19   |1.12390948973993E20|Samudra Tear        |1620736666748|5     |It is a good school you get to choose your program for all 4 years and depending on the program you get to have a free Associate degree. They help you get into a great college.                                                                                                                                                |null|null                                                                                 |0x89e445717809a5ad:0x3a5d284053d4b16b|null|null|null|null|null|null|null|\n",
      "+-----+-------------------+--------------------+-------------+------+--------------------------------------------------------------------------------------------------------------------------------------------------------------------------------------------------------------------------------------------------------------------------------------------------------------------------------+----+-------------------------------------------------------------------------------------+-------------------------------------+----+----+----+----+----+----+----+\n",
      "only showing top 20 rows"
     ]
    }
   ],
   "source": [
    "df.show(truncate=False)"
   ]
  },
  {
   "cell_type": "code",
   "execution_count": 12,
   "metadata": {
    "tags": []
   },
   "outputs": [
    {
     "data": {
      "application/vnd.jupyter.widget-view+json": {
       "model_id": "",
       "version_major": 2,
       "version_minor": 0
      },
      "text/plain": [
       "FloatProgress(value=0.0, bar_style='info', description='Progress:', layout=Layout(height='25px', width='50%'),…"
      ]
     },
     "metadata": {},
     "output_type": "display_data"
    }
   ],
   "source": [
    "df.write.mode(\"overwrite\")\\\n",
    "    .format(\"delta\")\\\n",
    "    .save(\"s3a://dataops-example/nlp/delta/greview_table_bronze\")"
   ]
  }
 ],
 "metadata": {
  "kernelspec": {
   "display_name": "PySpark",
   "language": "python",
   "name": "pysparkkernel"
  },
  "language_info": {
   "codemirror_mode": {
    "name": "python",
    "version": 3
   },
   "file_extension": ".py",
   "mimetype": "text/x-python",
   "name": "pyspark",
   "pygments_lexer": "python3"
  }
 },
 "nbformat": 4,
 "nbformat_minor": 4
}
